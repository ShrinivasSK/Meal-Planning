{
 "cells": [
  {
   "cell_type": "code",
   "execution_count": null,
   "metadata": {},
   "outputs": [],
   "source": [
    "import numpy as np\n",
    "import pandas as pd\n",
    "import networkx as nx\n",
    "import string\n",
    "import re\n",
    "from tqdm import tqdm\n",
    "\n",
    "import math\n",
    "from collections import defaultdict\n"
   ]
  },
  {
   "cell_type": "code",
   "execution_count": 2,
   "metadata": {},
   "outputs": [],
   "source": [
    "df_rec=pd.read_csv(\"F:/SHRINIVAS/KGP/BTP/Meal-Planning/Data/MealRec/recipe.csv\")"
   ]
  },
  {
   "cell_type": "code",
   "execution_count": 3,
   "metadata": {},
   "outputs": [],
   "source": [
    "df_meal=pd.read_csv(\"F:\\SHRINIVAS\\KGP\\BTP\\Meal-Planning\\Data\\MealRec\\meal.csv\")"
   ]
  },
  {
   "cell_type": "code",
   "execution_count": 4,
   "metadata": {},
   "outputs": [],
   "source": [
    "appetizers=df_meal['appetizer'].values\n",
    "main=df_meal['main_dish'].values\n",
    "desert=df_meal['dessert'].values"
   ]
  },
  {
   "cell_type": "code",
   "execution_count": 5,
   "metadata": {},
   "outputs": [],
   "source": [
    "ids=df_rec['recipe_id'].values\n",
    "titles=df_rec['recipe_name'].values\n",
    "id2title={ids[i]:titles[i] for i in range(len(ids))}\n",
    "title2id={titles[i]:ids[i] for i in range(len(ids))}\n",
    "id2id={ids[i]:i+1 for i in range(len(ids))}"
   ]
  },
  {
   "cell_type": "code",
   "execution_count": 17,
   "metadata": {},
   "outputs": [],
   "source": [
    "sents=[]\n",
    "for i in range(len(df_meal)):\n",
    "    sents.append([\n",
    "        id2id[appetizers[i]],\n",
    "        id2id[main[i]],\n",
    "        id2id[desert[i]],\n",
    "    ])"
   ]
  },
  {
   "cell_type": "code",
   "execution_count": 18,
   "metadata": {},
   "outputs": [
    {
     "data": {
      "text/plain": [
       "3817"
      ]
     },
     "execution_count": 18,
     "metadata": {},
     "output_type": "execute_result"
    }
   ],
   "source": [
    "len(sents)"
   ]
  },
  {
   "cell_type": "code",
   "execution_count": 7,
   "metadata": {},
   "outputs": [],
   "source": [
    "df_kgl=pd.read_csv(\"F:\\SHRINIVAS\\KGP\\BTP\\Meal-Planning\\Data\\Kaggle Meal Plan\\mealplans.csv\")"
   ]
  },
  {
   "cell_type": "code",
   "execution_count": 8,
   "metadata": {},
   "outputs": [],
   "source": [
    "df_kgl_dishes=pd.read_csv(\"F:\\SHRINIVAS\\KGP\\BTP\\Meal-Planning\\Data\\Kaggle Meal Plan\\dishes.csv\")"
   ]
  },
  {
   "cell_type": "code",
   "execution_count": 9,
   "metadata": {},
   "outputs": [],
   "source": [
    "remove_punc=['!','\"','.','?',':','/','*','~','#','$','%',';','+','=','[',']','<','>','@','`','^','\\\\','_','{','}','|']\n",
    "remove_punc_str=\"\".join(remove_punc) \n",
    "\n",
    "def clean(s):\n",
    "  s = s.title() # convert to titlecase: All individual words first letter capitalised\n",
    "  s=s.strip() # Remove trailing and leading spaces\n",
    "  s=s.lstrip(string.digits+\" \"+string.punctuation) # remove leading numbers, spaces and punctuations\n",
    "  s = s.translate(str.maketrans({key: None for key in remove_punc_str})) # remove other unnecessary punctuations\n",
    "  if(len(s)>3):\n",
    "    if(s[:2]==\"A \" or s[:3]==\"A'S\" or s[:2]==\"A-\" or s[:2]==\"A)\" or s[:2]==\"A1\" or s[:3]==\"(A)\"):\n",
    "      s=s[2:]\n",
    "  else:\n",
    "    return ''\n",
    "  s=s.lstrip(string.digits+\" \"+string.punctuation) # remove leading numbers, spaces and punctuations\n",
    "  s=s.rstrip(\" \"+remove_punc_str)  # remove trailing spaces and punctuations. Not digits as titles can end with <recipe> for 1\n",
    "  s=re.sub(' +', ' ', s) # remove extra spaces from in between\n",
    "  return s"
   ]
  },
  {
   "cell_type": "code",
   "execution_count": 11,
   "metadata": {},
   "outputs": [],
   "source": [
    "kgl_titles=df_kgl_dishes['title'].values\n",
    "kgl_ids=df_kgl_dishes['id'].values\n",
    "kgl_titles=[clean(val) for val in kgl_titles]\n",
    "kgl_id2title={kgl_ids[i]:kgl_titles[i] for i in range(len(kgl_titles))}"
   ]
  },
  {
   "cell_type": "code",
   "execution_count": 12,
   "metadata": {},
   "outputs": [],
   "source": [
    "meal_plans=df_kgl[['breakfast0', 'breakfast1', 'breakfast2', 'lunch0', 'lunch1', 'lunch2',\n",
    "       'lunch3', 'lunch4', 'dinner0', 'dinner1', 'dinner2', 'dinner3',\n",
    "       'dinner4', 'dinner5', 'dinner6', 'snacks0', 'snacks1']].values.tolist()"
   ]
  },
  {
   "cell_type": "code",
   "execution_count": 19,
   "metadata": {},
   "outputs": [],
   "source": [
    "df_recs=pd.read_csv(\"F:\\SHRINIVAS\\KGP\\BTP\\Meal-Planning\\Data\\Processed\\dishes.csv\")"
   ]
  },
  {
   "cell_type": "code",
   "execution_count": 20,
   "metadata": {},
   "outputs": [],
   "source": [
    "titles=df_recs['Title'].values\n",
    "titles=[clean(val) for val in titles]\n",
    "title2id={titles[i]:i+1 for i in range(len(titles))}\n",
    "titles=set(titles)"
   ]
  },
  {
   "cell_type": "code",
   "execution_count": 21,
   "metadata": {},
   "outputs": [],
   "source": [
    "sentences=[]\n",
    "for i in range(len(df_meal)):\n",
    "    sentences.append([\n",
    "        id2id[appetizers[i]],\n",
    "        id2id[main[i]],\n",
    "        id2id[desert[i]],\n",
    "    ])"
   ]
  },
  {
   "cell_type": "code",
   "execution_count": 22,
   "metadata": {},
   "outputs": [
    {
     "name": "stderr",
     "output_type": "stream",
     "text": [
      "100%|██████████| 275290/275290 [00:12<00:00, 21602.42it/s]\n"
     ]
    }
   ],
   "source": [
    "for meal_plan in tqdm(meal_plans):\n",
    "    flag=1\n",
    "    sent=[]\n",
    "    for dish in meal_plan:\n",
    "        if(not np.isnan(float(dish))):\n",
    "            if kgl_id2title[int(dish)] in titles:\n",
    "                sent.append(title2id[kgl_id2title[int(dish)]])\n",
    "    if len(sent)>1:\n",
    "        sentences.append(sent)"
   ]
  },
  {
   "cell_type": "code",
   "execution_count": 23,
   "metadata": {},
   "outputs": [
    {
     "data": {
      "text/plain": [
       "110301"
      ]
     },
     "execution_count": 23,
     "metadata": {},
     "output_type": "execute_result"
    }
   ],
   "source": [
    "len(sentences)"
   ]
  },
  {
   "cell_type": "code",
   "execution_count": 33,
   "metadata": {},
   "outputs": [
    {
     "data": {
      "text/html": [
       "<div>\n",
       "<style scoped>\n",
       "    .dataframe tbody tr th:only-of-type {\n",
       "        vertical-align: middle;\n",
       "    }\n",
       "\n",
       "    .dataframe tbody tr th {\n",
       "        vertical-align: top;\n",
       "    }\n",
       "\n",
       "    .dataframe thead th {\n",
       "        text-align: right;\n",
       "    }\n",
       "</style>\n",
       "<table border=\"1\" class=\"dataframe\">\n",
       "  <thead>\n",
       "    <tr style=\"text-align: right;\">\n",
       "      <th></th>\n",
       "      <th>ID</th>\n",
       "      <th>Title</th>\n",
       "      <th>Category</th>\n",
       "      <th>Cuisine</th>\n",
       "      <th>Calories</th>\n",
       "      <th>Fats</th>\n",
       "      <th>Proteins</th>\n",
       "      <th>Carbohydrates</th>\n",
       "      <th>Breakfast</th>\n",
       "      <th>Lunch</th>\n",
       "      <th>Snacks</th>\n",
       "      <th>Dinner</th>\n",
       "      <th>Typical_serving_size</th>\n",
       "    </tr>\n",
       "  </thead>\n",
       "  <tbody>\n",
       "    <tr>\n",
       "      <th>0</th>\n",
       "      <td>1</td>\n",
       "      <td>Mom'S Zucchini Bread</td>\n",
       "      <td>appetizer</td>\n",
       "      <td>North America</td>\n",
       "      <td>255.1692</td>\n",
       "      <td>13.140870</td>\n",
       "      <td>3.268513</td>\n",
       "      <td>32.05494</td>\n",
       "      <td>1</td>\n",
       "      <td>0</td>\n",
       "      <td>0</td>\n",
       "      <td>0</td>\n",
       "      <td>100</td>\n",
       "    </tr>\n",
       "    <tr>\n",
       "      <th>1</th>\n",
       "      <td>2</td>\n",
       "      <td>Zucchini Walnut Bread</td>\n",
       "      <td>appetizer</td>\n",
       "      <td>NaN</td>\n",
       "      <td>276.0908</td>\n",
       "      <td>13.398670</td>\n",
       "      <td>3.977222</td>\n",
       "      <td>36.54568</td>\n",
       "      <td>1</td>\n",
       "      <td>0</td>\n",
       "      <td>0</td>\n",
       "      <td>0</td>\n",
       "      <td>100</td>\n",
       "    </tr>\n",
       "    <tr>\n",
       "      <th>2</th>\n",
       "      <td>3</td>\n",
       "      <td>Honey Wheat Bread I</td>\n",
       "      <td>appetizer</td>\n",
       "      <td>NaN</td>\n",
       "      <td>156.4551</td>\n",
       "      <td>4.770610</td>\n",
       "      <td>4.626510</td>\n",
       "      <td>24.45452</td>\n",
       "      <td>0</td>\n",
       "      <td>1</td>\n",
       "      <td>0</td>\n",
       "      <td>1</td>\n",
       "      <td>100</td>\n",
       "    </tr>\n",
       "    <tr>\n",
       "      <th>3</th>\n",
       "      <td>4</td>\n",
       "      <td>Chocolate Chip Orange Zucchini Bread</td>\n",
       "      <td>dessert</td>\n",
       "      <td>NaN</td>\n",
       "      <td>280.3475</td>\n",
       "      <td>15.283680</td>\n",
       "      <td>3.563895</td>\n",
       "      <td>34.25740</td>\n",
       "      <td>1</td>\n",
       "      <td>0</td>\n",
       "      <td>0</td>\n",
       "      <td>0</td>\n",
       "      <td>100</td>\n",
       "    </tr>\n",
       "    <tr>\n",
       "      <th>4</th>\n",
       "      <td>5</td>\n",
       "      <td>Chocolate Chip Pumpkin Bread</td>\n",
       "      <td>dessert</td>\n",
       "      <td>NaN</td>\n",
       "      <td>210.1581</td>\n",
       "      <td>9.410045</td>\n",
       "      <td>2.556006</td>\n",
       "      <td>30.47000</td>\n",
       "      <td>1</td>\n",
       "      <td>0</td>\n",
       "      <td>0</td>\n",
       "      <td>0</td>\n",
       "      <td>100</td>\n",
       "    </tr>\n",
       "  </tbody>\n",
       "</table>\n",
       "</div>"
      ],
      "text/plain": [
       "   ID                                 Title   Category        Cuisine  \\\n",
       "0   1                  Mom'S Zucchini Bread  appetizer  North America   \n",
       "1   2                 Zucchini Walnut Bread  appetizer            NaN   \n",
       "2   3                   Honey Wheat Bread I  appetizer            NaN   \n",
       "3   4  Chocolate Chip Orange Zucchini Bread    dessert            NaN   \n",
       "4   5          Chocolate Chip Pumpkin Bread    dessert            NaN   \n",
       "\n",
       "   Calories       Fats  Proteins  Carbohydrates  Breakfast  Lunch  Snacks  \\\n",
       "0  255.1692  13.140870  3.268513       32.05494          1      0       0   \n",
       "1  276.0908  13.398670  3.977222       36.54568          1      0       0   \n",
       "2  156.4551   4.770610  4.626510       24.45452          0      1       0   \n",
       "3  280.3475  15.283680  3.563895       34.25740          1      0       0   \n",
       "4  210.1581   9.410045  2.556006       30.47000          1      0       0   \n",
       "\n",
       "   Dinner  Typical_serving_size  \n",
       "0       0                   100  \n",
       "1       0                   100  \n",
       "2       1                   100  \n",
       "3       0                   100  \n",
       "4       0                   100  "
      ]
     },
     "execution_count": 33,
     "metadata": {},
     "output_type": "execute_result"
    }
   ],
   "source": [
    "df_recs.head()"
   ]
  },
  {
   "cell_type": "code",
   "execution_count": 34,
   "metadata": {},
   "outputs": [],
   "source": [
    "titles=df_recs['Title'].values\n",
    "breakfast=df_recs['Breakfast'].values\n",
    "lunch=df_recs['Lunch'].values\n",
    "snacks=df_recs['Snacks'].values\n",
    "dinner=df_recs['Dinner'].values\n",
    "titles=[clean(val) for val in titles]\n",
    "id2title={i+1:titles[i] for i in range(len(titles))}"
   ]
  },
  {
   "cell_type": "code",
   "execution_count": 28,
   "metadata": {},
   "outputs": [],
   "source": [
    "def normalize(d):\n",
    "    factor=max(d.items(),key=lambda x:x[1])[1]\n",
    "    for k in d:\n",
    "        d[k]/=factor   "
   ]
  },
  {
   "cell_type": "code",
   "execution_count": 35,
   "metadata": {},
   "outputs": [],
   "source": [
    "scores_breakfast=defaultdict(float)\n",
    "scores_lunch=defaultdict(float)\n",
    "scores_snacks=defaultdict(float)\n",
    "scores_dinner=defaultdict(float)\n",
    "\n",
    "for sent in sentences:\n",
    "    for i in range(len(sent)):\n",
    "        for j in range(len(sent)):\n",
    "            if(i!=j):\n",
    "                i1=sent[i]-1\n",
    "                i2=sent[j]-1\n",
    "                if(breakfast[i1]==1 and breakfast[i2]==1):\n",
    "                    scores_breakfast[(i1+1,i2+1)]+=1\n",
    "                \n",
    "                if(lunch[i1]==1 and lunch[i2]==1):\n",
    "                    scores_lunch[(i1+1,i2+1)]+=1\n",
    "\n",
    "                if(snacks[i1]==1 and snacks[i2]==1):\n",
    "                    scores_snacks[(i1+1,i2+1)]+=1\n",
    "\n",
    "                if(dinner[i1]==1 and dinner[i2]==1):\n",
    "                    scores_dinner[(i1+1,i2+1)]+=1"
   ]
  },
  {
   "cell_type": "code",
   "execution_count": 37,
   "metadata": {},
   "outputs": [],
   "source": [
    "breakfast_items=[i for i in range(len(df_recs)) if breakfast[i]==1]\n",
    "lunch_items=[i for i in range(len(df_recs)) if lunch[i]==1]\n",
    "snacks_items=[i for i in range(len(df_recs)) if snacks[i]==1]\n",
    "dinner_items=[i for i in range(len(df_recs)) if dinner[i]==1]"
   ]
  },
  {
   "cell_type": "code",
   "execution_count": 39,
   "metadata": {},
   "outputs": [
    {
     "data": {
      "text/plain": [
       "(192, 4604, 829, 5866)"
      ]
     },
     "execution_count": 39,
     "metadata": {},
     "output_type": "execute_result"
    }
   ],
   "source": [
    "len(breakfast_items),len(lunch_items),len(snacks_items),len(dinner_items)"
   ]
  },
  {
   "cell_type": "code",
   "execution_count": 155,
   "metadata": {},
   "outputs": [],
   "source": [
    "def makeGraph(items,scores,file,a):\n",
    "    G=nx.Graph()\n",
    "\n",
    "    G.add_nodes_from(items)\n",
    "\n",
    "    normalize(scores)\n",
    "    avg=math.fsum(scores.values())/len(scores)\n",
    "\n",
    "    edges=[]\n",
    "    for sc in scores.items():\n",
    "        if sc[1]>avg*a:\n",
    "            edges.append((sc[0][0],sc[0][1],sc[1]))\n",
    "\n",
    "    G.add_weighted_edges_from(edges)\n",
    "\n",
    "    print(len(G.edges))\n",
    "\n",
    "    nx.write_edgelist(G,\"F:\\SHRINIVAS\\KGP\\BTP\\Meal-Planning\\Data\\Processed\\graphs\\\\\"+file+\".edgelist\")"
   ]
  },
  {
   "cell_type": "code",
   "execution_count": 167,
   "metadata": {},
   "outputs": [
    {
     "name": "stdout",
     "output_type": "stream",
     "text": [
      "92\n"
     ]
    }
   ],
   "source": [
    "makeGraph(breakfast_items,scores_breakfast,\"breakfast\",1)"
   ]
  },
  {
   "cell_type": "code",
   "execution_count": 158,
   "metadata": {},
   "outputs": [
    {
     "name": "stdout",
     "output_type": "stream",
     "text": [
      "2082\n"
     ]
    }
   ],
   "source": [
    "makeGraph(lunch_items,scores_lunch,\"lunch\",3)"
   ]
  },
  {
   "cell_type": "code",
   "execution_count": 159,
   "metadata": {},
   "outputs": [
    {
     "name": "stdout",
     "output_type": "stream",
     "text": [
      "201\n"
     ]
    }
   ],
   "source": [
    "makeGraph(snacks_items,scores_snacks,\"snacks\",2)"
   ]
  },
  {
   "cell_type": "code",
   "execution_count": 160,
   "metadata": {},
   "outputs": [
    {
     "name": "stdout",
     "output_type": "stream",
     "text": [
      "2552\n"
     ]
    }
   ],
   "source": [
    "makeGraph(dinner_items,scores_dinner,\"dinner\",3)"
   ]
  },
  {
   "cell_type": "code",
   "execution_count": 104,
   "metadata": {},
   "outputs": [],
   "source": [
    "G=nx.read_edgelist(\"F:/SHRINIVAS/KGP/BTP/Meal-Planning/Data/Processed/graphs/breakfast.edgelist\")"
   ]
  },
  {
   "cell_type": "code",
   "execution_count": 105,
   "metadata": {},
   "outputs": [],
   "source": [
    "cliques=list(nx.enumerate_all_cliques(G))"
   ]
  },
  {
   "cell_type": "code",
   "execution_count": 106,
   "metadata": {},
   "outputs": [],
   "source": [
    "clean=[]\n",
    "for c in cliques:\n",
    "    if(len(c)>1 and len(c)<=3):\n",
    "        clean.append(c)"
   ]
  },
  {
   "cell_type": "code",
   "execution_count": 107,
   "metadata": {},
   "outputs": [
    {
     "data": {
      "text/plain": [
       "952"
      ]
     },
     "execution_count": 107,
     "metadata": {},
     "output_type": "execute_result"
    }
   ],
   "source": [
    "len(clean)"
   ]
  },
  {
   "cell_type": "code",
   "execution_count": 101,
   "metadata": {},
   "outputs": [
    {
     "data": {
      "text/plain": [
       "['1', '2547']"
      ]
     },
     "execution_count": 101,
     "metadata": {},
     "output_type": "execute_result"
    }
   ],
   "source": [
    "clean[0]"
   ]
  },
  {
   "cell_type": "code",
   "execution_count": 83,
   "metadata": {},
   "outputs": [
    {
     "data": {
      "text/plain": [
       "(\"Mom'S Zucchini Bread\", 'Banana Banana Bread', 'Chocolate Zucchini Bread I')"
      ]
     },
     "execution_count": 83,
     "metadata": {},
     "output_type": "execute_result"
    }
   ],
   "source": [
    "titles[0],titles[2546],titles[2148]"
   ]
  },
  {
   "cell_type": "code",
   "execution_count": 124,
   "metadata": {},
   "outputs": [],
   "source": [
    "def getClique(file,a,b):\n",
    "    G=nx.read_edgelist(\"F:/SHRINIVAS/KGP/BTP/Meal-Planning/Data/Processed/graphs//\"+file+\".edgelist\")\n",
    "    \n",
    "    cliques=list(nx.enumerate_all_cliques(G))\n",
    "\n",
    "    clean=[]\n",
    "    for c in cliques:\n",
    "        if(len(c)>a and len(c)<=b):\n",
    "            clean.append(c)\n",
    "\n",
    "    return clean"
   ]
  },
  {
   "cell_type": "code",
   "execution_count": 161,
   "metadata": {},
   "outputs": [
    {
     "data": {
      "text/plain": [
       "1229"
      ]
     },
     "execution_count": 161,
     "metadata": {},
     "output_type": "execute_result"
    }
   ],
   "source": [
    "len(getClique(\"lunch\",3,5))"
   ]
  },
  {
   "cell_type": "code",
   "execution_count": 168,
   "metadata": {},
   "outputs": [
    {
     "data": {
      "text/plain": [
       "129"
      ]
     },
     "execution_count": 168,
     "metadata": {},
     "output_type": "execute_result"
    }
   ],
   "source": [
    "len(getClique(\"breakfast\",1,3))"
   ]
  },
  {
   "cell_type": "code",
   "execution_count": 150,
   "metadata": {},
   "outputs": [],
   "source": [
    "def getTitles(clique):\n",
    "    for id in clique:\n",
    "        print(titles[int(id)-1])"
   ]
  },
  {
   "cell_type": "code",
   "execution_count": null,
   "metadata": {},
   "outputs": [],
   "source": [
    "df_ings=pd.read_csv(\"F:/SHRINIVAS/KGP/BTP/Meal-Planning/Data/Processed/ingredients.csv\")"
   ]
  },
  {
   "cell_type": "code",
   "execution_count": 1,
   "metadata": {},
   "outputs": [],
   "source": [
    "import pandas as pd"
   ]
  },
  {
   "cell_type": "code",
   "execution_count": 4,
   "metadata": {},
   "outputs": [],
   "source": [
    "df_dishes=pd.read_csv(\"F:/SHRINIVAS/KGP/BTP/Meal-Planning/Data/Processed/dishes.csv\")\n",
    "df_ings=pd.read_csv(\"F:/SHRINIVAS/KGP/BTP/Meal-Planning/Data/Processed/ingredients.csv\")\n",
    "df_dish_ings=pd.read_csv(\"F:/SHRINIVAS/KGP/BTP/Meal-Planning/Data/Processed/rec_ing.csv\")"
   ]
  },
  {
   "cell_type": "code",
   "execution_count": 6,
   "metadata": {},
   "outputs": [],
   "source": [
    "titles=df_dishes['Title'].values\n",
    "ingreds=df_ings['Name'].values\n",
    "\n",
    "dishes=df_dishes.to_dict('records')\n",
    "id2dish={}\n",
    "for dish in dishes:\n",
    "    id2dish[dish['ID']]={\n",
    "        'Title': dish['Title'],\n",
    "        'Nutrition': [dish['Calories'],dish['Fats'],dish['Proteins'],dish['Carbohydrates']],\n",
    "        'Serving Size': dish['Typical_serving_size'],\n",
    "        'Ingredients': ''\n",
    "    }\n",
    "\n",
    "dish=df_dish_ings['Recipe ID'].values\n",
    "ings=df_dish_ings['Ingredient ID'].values\n",
    "for i in range(len(dish)):\n",
    "    id2dish[dish[i]]['Ingredients']+=ingreds[ings[i]-1]+\"^\""
   ]
  },
  {
   "cell_type": "code",
   "execution_count": 7,
   "metadata": {},
   "outputs": [
    {
     "data": {
      "text/plain": [
       "{'Title': 'Tortilla Casserole',\n",
       " 'Nutrition': [277.0868, 16.68324, 15.51585, 17.62903],\n",
       " 'Serving Size': 100,\n",
       " 'Ingredients': 'corn tortilla chips^monosodium glutamate (msg)^cheap beer^eggplants^mild taco^salmon steaks^'}"
      ]
     },
     "execution_count": 7,
     "metadata": {},
     "output_type": "execute_result"
    }
   ],
   "source": [
    "id2dish[2957]"
   ]
  },
  {
   "cell_type": "code",
   "execution_count": null,
   "metadata": {},
   "outputs": [],
   "source": []
  }
 ],
 "metadata": {
  "kernelspec": {
   "display_name": "Python 3.9.2 ('btp': venv)",
   "language": "python",
   "name": "python3"
  },
  "language_info": {
   "codemirror_mode": {
    "name": "ipython",
    "version": 3
   },
   "file_extension": ".py",
   "mimetype": "text/x-python",
   "name": "python",
   "nbconvert_exporter": "python",
   "pygments_lexer": "ipython3",
   "version": "3.9.2"
  },
  "orig_nbformat": 4,
  "vscode": {
   "interpreter": {
    "hash": "c4ea768e7bd77161dc23dd01a8c4395144cbd15f8f1ca8286792567cea820d95"
   }
  }
 },
 "nbformat": 4,
 "nbformat_minor": 2
}
