{
 "cells": [
  {
   "cell_type": "code",
   "execution_count": 2,
   "metadata": {},
   "outputs": [],
   "source": [
    "import pandas as pd\n",
    "import numpy as np\n",
    "from plan import *\n",
    "from testing import generate_all_single\n",
    "import matplotlib.pyplot as plt"
   ]
  },
  {
   "cell_type": "code",
   "execution_count": 3,
   "metadata": {},
   "outputs": [],
   "source": [
    "data = Dataset()"
   ]
  },
  {
   "cell_type": "markdown",
   "metadata": {},
   "source": [
    "#### Utility Functions"
   ]
  },
  {
   "cell_type": "code",
   "execution_count": 4,
   "metadata": {},
   "outputs": [],
   "source": [
    "output_base_path = \"F:\\SHRINIVAS\\KGP\\BTP\\Meal-Planning\\Outputs\\\\\""
   ]
  },
  {
   "cell_type": "code",
   "execution_count": 5,
   "metadata": {},
   "outputs": [],
   "source": [
    "df = pd.read_csv(output_base_path+\"single_objective\\Weights1.tsv\",sep='\\t')"
   ]
  },
  {
   "cell_type": "code",
   "execution_count": 6,
   "metadata": {},
   "outputs": [
    {
     "data": {
      "text/html": [
       "<div>\n",
       "<style scoped>\n",
       "    .dataframe tbody tr th:only-of-type {\n",
       "        vertical-align: middle;\n",
       "    }\n",
       "\n",
       "    .dataframe tbody tr th {\n",
       "        vertical-align: top;\n",
       "    }\n",
       "\n",
       "    .dataframe thead th {\n",
       "        text-align: right;\n",
       "    }\n",
       "</style>\n",
       "<table border=\"1\" class=\"dataframe\">\n",
       "  <thead>\n",
       "    <tr style=\"text-align: right;\">\n",
       "      <th></th>\n",
       "      <th>Dish 1 id</th>\n",
       "      <th>Dish 1 qty</th>\n",
       "      <th>Dish 2 id</th>\n",
       "      <th>Dish 2 qty</th>\n",
       "      <th>Dish 3 id</th>\n",
       "      <th>Dish 3 qty</th>\n",
       "      <th>Dish 4 id</th>\n",
       "      <th>Dish 4 qty</th>\n",
       "      <th>Dish 5 id</th>\n",
       "      <th>Dish 5 qty</th>\n",
       "      <th>...</th>\n",
       "      <th>Dish 11 qty</th>\n",
       "      <th>Dish 12 id</th>\n",
       "      <th>Dish 12 qty</th>\n",
       "      <th>Dish 13 id</th>\n",
       "      <th>Dish 13 qty</th>\n",
       "      <th>Dish 14 id</th>\n",
       "      <th>Dish 14 qty</th>\n",
       "      <th>Dish 15 id</th>\n",
       "      <th>Dish 15 qty</th>\n",
       "      <th>Cfg Id</th>\n",
       "    </tr>\n",
       "  </thead>\n",
       "  <tbody>\n",
       "    <tr>\n",
       "      <th>0</th>\n",
       "      <td>2023</td>\n",
       "      <td>1</td>\n",
       "      <td>0</td>\n",
       "      <td>0</td>\n",
       "      <td>0</td>\n",
       "      <td>0</td>\n",
       "      <td>4331</td>\n",
       "      <td>1</td>\n",
       "      <td>3258</td>\n",
       "      <td>1</td>\n",
       "      <td>...</td>\n",
       "      <td>2</td>\n",
       "      <td>3045</td>\n",
       "      <td>2</td>\n",
       "      <td>6698</td>\n",
       "      <td>2</td>\n",
       "      <td>0</td>\n",
       "      <td>0</td>\n",
       "      <td>0</td>\n",
       "      <td>0</td>\n",
       "      <td>0</td>\n",
       "    </tr>\n",
       "    <tr>\n",
       "      <th>1</th>\n",
       "      <td>5947</td>\n",
       "      <td>1</td>\n",
       "      <td>0</td>\n",
       "      <td>0</td>\n",
       "      <td>0</td>\n",
       "      <td>0</td>\n",
       "      <td>4331</td>\n",
       "      <td>1</td>\n",
       "      <td>3258</td>\n",
       "      <td>1</td>\n",
       "      <td>...</td>\n",
       "      <td>2</td>\n",
       "      <td>3045</td>\n",
       "      <td>2</td>\n",
       "      <td>6698</td>\n",
       "      <td>2</td>\n",
       "      <td>0</td>\n",
       "      <td>0</td>\n",
       "      <td>0</td>\n",
       "      <td>0</td>\n",
       "      <td>0</td>\n",
       "    </tr>\n",
       "    <tr>\n",
       "      <th>2</th>\n",
       "      <td>3154</td>\n",
       "      <td>1</td>\n",
       "      <td>0</td>\n",
       "      <td>0</td>\n",
       "      <td>0</td>\n",
       "      <td>0</td>\n",
       "      <td>4331</td>\n",
       "      <td>1</td>\n",
       "      <td>3258</td>\n",
       "      <td>1</td>\n",
       "      <td>...</td>\n",
       "      <td>2</td>\n",
       "      <td>3045</td>\n",
       "      <td>2</td>\n",
       "      <td>6698</td>\n",
       "      <td>2</td>\n",
       "      <td>0</td>\n",
       "      <td>0</td>\n",
       "      <td>0</td>\n",
       "      <td>0</td>\n",
       "      <td>0</td>\n",
       "    </tr>\n",
       "    <tr>\n",
       "      <th>3</th>\n",
       "      <td>3796</td>\n",
       "      <td>1</td>\n",
       "      <td>0</td>\n",
       "      <td>0</td>\n",
       "      <td>0</td>\n",
       "      <td>0</td>\n",
       "      <td>4331</td>\n",
       "      <td>1</td>\n",
       "      <td>3258</td>\n",
       "      <td>1</td>\n",
       "      <td>...</td>\n",
       "      <td>2</td>\n",
       "      <td>3045</td>\n",
       "      <td>2</td>\n",
       "      <td>6698</td>\n",
       "      <td>2</td>\n",
       "      <td>0</td>\n",
       "      <td>0</td>\n",
       "      <td>0</td>\n",
       "      <td>0</td>\n",
       "      <td>0</td>\n",
       "    </tr>\n",
       "    <tr>\n",
       "      <th>4</th>\n",
       "      <td>3663</td>\n",
       "      <td>1</td>\n",
       "      <td>0</td>\n",
       "      <td>0</td>\n",
       "      <td>0</td>\n",
       "      <td>0</td>\n",
       "      <td>4331</td>\n",
       "      <td>1</td>\n",
       "      <td>3258</td>\n",
       "      <td>1</td>\n",
       "      <td>...</td>\n",
       "      <td>2</td>\n",
       "      <td>3045</td>\n",
       "      <td>2</td>\n",
       "      <td>6698</td>\n",
       "      <td>2</td>\n",
       "      <td>0</td>\n",
       "      <td>0</td>\n",
       "      <td>0</td>\n",
       "      <td>0</td>\n",
       "      <td>0</td>\n",
       "    </tr>\n",
       "  </tbody>\n",
       "</table>\n",
       "<p>5 rows × 31 columns</p>\n",
       "</div>"
      ],
      "text/plain": [
       "   Dish 1 id  Dish 1 qty  Dish 2 id  Dish 2 qty  Dish 3 id  Dish 3 qty  \\\n",
       "0       2023           1          0           0          0           0   \n",
       "1       5947           1          0           0          0           0   \n",
       "2       3154           1          0           0          0           0   \n",
       "3       3796           1          0           0          0           0   \n",
       "4       3663           1          0           0          0           0   \n",
       "\n",
       "   Dish 4 id  Dish 4 qty  Dish 5 id  Dish 5 qty  ...  Dish 11 qty  Dish 12 id  \\\n",
       "0       4331           1       3258           1  ...            2        3045   \n",
       "1       4331           1       3258           1  ...            2        3045   \n",
       "2       4331           1       3258           1  ...            2        3045   \n",
       "3       4331           1       3258           1  ...            2        3045   \n",
       "4       4331           1       3258           1  ...            2        3045   \n",
       "\n",
       "   Dish 12 qty  Dish 13 id  Dish 13 qty  Dish 14 id  Dish 14 qty  Dish 15 id  \\\n",
       "0            2        6698            2           0            0           0   \n",
       "1            2        6698            2           0            0           0   \n",
       "2            2        6698            2           0            0           0   \n",
       "3            2        6698            2           0            0           0   \n",
       "4            2        6698            2           0            0           0   \n",
       "\n",
       "   Dish 15 qty  Cfg Id  \n",
       "0            0       0  \n",
       "1            0       0  \n",
       "2            0       0  \n",
       "3            0       0  \n",
       "4            0       0  \n",
       "\n",
       "[5 rows x 31 columns]"
      ]
     },
     "execution_count": 6,
     "metadata": {},
     "output_type": "execute_result"
    }
   ],
   "source": [
    "df.head()"
   ]
  },
  {
   "cell_type": "code",
   "execution_count": 7,
   "metadata": {},
   "outputs": [],
   "source": [
    "all_dishes = df"
   ]
  },
  {
   "cell_type": "code",
   "execution_count": 8,
   "metadata": {},
   "outputs": [],
   "source": [
    "all_single = generate_all_single()"
   ]
  },
  {
   "cell_type": "code",
   "execution_count": 9,
   "metadata": {},
   "outputs": [],
   "source": [
    "def get_meal_plans(base_path,file_name,all_single):\n",
    "    df = pd.read_csv(output_base_path+f\"{base_path}/{file_name}.tsv\",sep='\\t')\n",
    "    all_data = df.values\n",
    "    meal_plans: list[MealPlan] = []\n",
    "    for plan_id,plan in enumerate(all_data):\n",
    "        meal_plan = []\n",
    "        for i in range(0,len(plan)-1,2):\n",
    "            dish_index = i//2\n",
    "            dish_id = plan[i]\n",
    "            dish_qty = plan[i+1]\n",
    "            meal = \"Breakfast\"\n",
    "            if dish_index > 2 and dish_index <= 7:\n",
    "                meal = \"Lunch\"\n",
    "            elif dish_index > 7 and dish_index <= 9:\n",
    "                meal = \"Snacks\"\n",
    "            elif dish_index > 9:\n",
    "                meal = \"Dinner\"\n",
    "            if dish_id == 0:\n",
    "                dish = Dish.get_padding_dish()\n",
    "            else:\n",
    "                dish = Dish(\n",
    "                    id = str(dish_id),\n",
    "                    quantity = dish_qty,\n",
    "                    vector = data.get_dish_vector(dish_id),\n",
    "                    title = data.get_dish_title(dish_id),\n",
    "                    meal = meal,\n",
    "                    cuisine = data.get_dish_cuisine(dish_id),\n",
    "                    tags = data.get_dish_cuisine(dish_id),\n",
    "                    category = data.get_dish_category(dish_id)\n",
    "                )\n",
    "            meal_plan.append(dish)\n",
    "        cfg_id = plan[-1]\n",
    "        problem_config=ProblemConfig(**all_single[cfg_id])\n",
    "        meal_plans.append(MealPlan(problem_config,data,meal_plan))\n",
    "    return meal_plans"
   ]
  },
  {
   "cell_type": "markdown",
   "metadata": {},
   "source": [
    "Cuisine Factor"
   ]
  },
  {
   "cell_type": "code",
   "execution_count": 10,
   "metadata": {},
   "outputs": [],
   "source": [
    "cuisines=['North America', 'United States', 'Europe', 'Italy',\n",
    "            'Middle East', 'South East Asia', 'Canada', 'France', 'Mexico',\n",
    "            'British Isles', 'Australia & NZ', 'Greece', 'Eastern Europe',\n",
    "            'Asia', 'South America', 'China', 'Japan', 'Africa',\n",
    "            'Indian Subcontinent', 'Korea']"
   ]
  },
  {
   "cell_type": "code",
   "execution_count": 11,
   "metadata": {},
   "outputs": [],
   "source": [
    "cuisine_matrix = np.zeros((len(cuisines),len(cuisines)))"
   ]
  },
  {
   "cell_type": "code",
   "execution_count": 12,
   "metadata": {},
   "outputs": [],
   "source": [
    "one_dist = [\n",
    "    [\"North America\",\"United States\"],\n",
    "    [\"North America\",\"Canada\"],\n",
    "    [\"Europe\",\"Italy\"],\n",
    "    [\"Europe\",\"France\"],\n",
    "    [\"Europe\",\"Mexico\"],\n",
    "    [\"Europe\",\"British Isles\"],\n",
    "    [\"Europe\", \"Greece\"],\n",
    "    [\"Europe\",\"Eastern Europe\"],\n",
    "    [\"Asia\",\"Middle East\"],\n",
    "    [\"Asia\",\"China\"],\n",
    "    [\"Asia\",\"Japan\"],\n",
    "    [\"Asia\",\"South East Asia\"],\n",
    "    [\"Asia\",\"Korea\"]\n",
    "]\n",
    "\n",
    "two_dist = [\n",
    "    [\"United States\",\"Canada\"],\n",
    "    [\"Italy\",\"France\"],\n",
    "    [\"Greece\",\"Eastern Europe\"],\n",
    "]\n",
    "\n",
    "three_dist = [\n",
    "    [\"Japan\",\"China\"],\n",
    "    [\"China\",\"Korea\"],\n",
    "    [\"Japan\",\"Korea\"]\n",
    "]"
   ]
  },
  {
   "cell_type": "code",
   "execution_count": 13,
   "metadata": {},
   "outputs": [],
   "source": [
    "for cid1, cuisine1 in enumerate(cuisines):\n",
    "    for cid2, cuisine2 in enumerate(cuisines):\n",
    "        if cid1 == cid2:\n",
    "            cuisine_matrix[cid1][cid2]=0\n",
    "        elif [cuisine1,cuisine2] in one_dist or [cuisine2,cuisine1] in one_dist:\n",
    "            cuisine_matrix[cid1][cid2]=1\n",
    "            cuisine_matrix[cid2][cid1]=1\n",
    "        elif [cuisine1,cuisine2] in two_dist or [cuisine2,cuisine1] in two_dist:\n",
    "            cuisine_matrix[cid1][cid2]=2\n",
    "            cuisine_matrix[cid2][cid1]=2\n",
    "        elif [cuisine1,cuisine2] in three_dist or [cuisine2,cuisine1] in three_dist:\n",
    "            cuisine_matrix[cid1][cid2]=3\n",
    "            cuisine_matrix[cid2][cid1]=3\n",
    "        else:\n",
    "            cuisine_matrix[cid1][cid2]=5\n",
    "            cuisine_matrix[cid2][cid1]=5"
   ]
  },
  {
   "cell_type": "code",
   "execution_count": 14,
   "metadata": {},
   "outputs": [],
   "source": [
    "def get_cuisine_score(meal_plan:list[Dish]):\n",
    "    cnt = 0 \n",
    "    value = 0\n",
    "    for id1 in range(0,len(meal_plan)):\n",
    "        if meal_plan[id1].id == 0:\n",
    "            continue\n",
    "        for id2 in range(id1 + 1, len(meal_plan)):\n",
    "            if meal_plan[id2].id == 0 or meal_plan[id1].meal != meal_plan[id2].meal:\n",
    "                continue\n",
    "            if meal_plan[id1].cuisine==-1 or meal_plan[id2].cuisine==-1:\n",
    "                continue\n",
    "            cnt += 1\n",
    "            cid1 = cuisines.index(meal_plan[id1].cuisine)\n",
    "            cid2 = cuisines.index(meal_plan[id2].cuisine)\n",
    "            value += cuisine_matrix[cid1][cid2] / 5\n",
    "    if cnt == 0:\n",
    "        return 0\n",
    "    return value / cnt"
   ]
  },
  {
   "cell_type": "markdown",
   "metadata": {},
   "source": [
    "Course Constraint"
   ]
  },
  {
   "cell_type": "code",
   "execution_count": 15,
   "metadata": {},
   "outputs": [],
   "source": [
    "df_dishes=pd.read_csv(\"./Data/Processed/dishes.csv\")"
   ]
  },
  {
   "cell_type": "code",
   "execution_count": 16,
   "metadata": {},
   "outputs": [
    {
     "data": {
      "text/plain": [
       "array(['appetizer', 'dessert', 'main-dish'], dtype=object)"
      ]
     },
     "execution_count": 16,
     "metadata": {},
     "output_type": "execute_result"
    }
   ],
   "source": [
    "df_dishes['Category'].unique()"
   ]
  },
  {
   "cell_type": "code",
   "execution_count": 17,
   "metadata": {},
   "outputs": [],
   "source": [
    "def get_course_scores(meal_plan:list[Dish]):\n",
    "    breakfast_dishes = []\n",
    "    lunch_dishes = []\n",
    "    snacks_dishes = []\n",
    "    dinner_dishes = []\n",
    "    for dish_id, dish in enumerate(meal_plan):\n",
    "        if dish_id <= 2:\n",
    "            breakfast_dishes.append(dish.category)\n",
    "        elif dish_id <= 7:\n",
    "            lunch_dishes.append(dish.category)\n",
    "        elif dish_id <= 9:\n",
    "            snacks_dishes.append(dish.category)\n",
    "        else:\n",
    "            dinner_dishes.append(dish.category)\n",
    "    breakfast_score = 0\n",
    "    if ('appetizer' in breakfast_dishes or 'dessert' in breakfast_dishes) and 'main-dish' not in breakfast_dishes:\n",
    "        breakfast_score = 1\n",
    "    lunch_score = 0\n",
    "    if 'appetizer' in lunch_dishes and ('main-dish' in lunch_dishes or len([val for val in lunch_dishes if val=='appetizer'])==2):\n",
    "        lunch_score = 1\n",
    "    snacks_score = 0\n",
    "    if ('appetizer' in snacks_dishes or 'dessert' in snacks_dishes) and 'main-dish' not in snacks_dishes:\n",
    "        snacks_score = 1\n",
    "    dinner_score = 0\n",
    "    if 'appetizer' in dinner_dishes and ('main-dish' in dinner_dishes or len([val for val in dinner_dishes if val=='appetizer'])==2):\n",
    "        dinner_score = 1\n",
    "    overall_score = (breakfast_score + lunch_score + snacks_score + dinner_score ) / 4\n",
    "\n",
    "    return {\n",
    "        \"breakfast\": breakfast_score,\n",
    "        \"lunch\": lunch_score,\n",
    "        \"snacks\": snacks_score,\n",
    "        \"dinner\": dinner_score,\n",
    "        \"overall\": overall_score\n",
    "    }"
   ]
  },
  {
   "cell_type": "code",
   "execution_count": 20,
   "metadata": {},
   "outputs": [],
   "source": [
    "def evaluate_meal_plans(meal_plans):\n",
    "    avg_res = {\n",
    "        \"diversity\": 0,\n",
    "        \"combination\": 0,\n",
    "        \"preference\": 0,\n",
    "        \"cuisine\": 0,\n",
    "        \"breakfast\": 0,\n",
    "        \"lunch\": 0,\n",
    "        \"snacks\": 0,\n",
    "        \"dinner\": 0,\n",
    "        \"overall\": 0\n",
    "    }\n",
    "    for meal_plan in meal_plans:\n",
    "        avg_res[\"diversity\"]+=meal_plan.get_diversity()\n",
    "        avg_res[\"combination\"]+=meal_plan.get_combi_value()\n",
    "        avg_res[\"preference\"]+=meal_plan.get_pos_preference() - meal_plan.get_neg_preference()\n",
    "        avg_res[\"cuisine\"]+=get_cuisine_score(meal_plan.plan)\n",
    "        course_scores = get_course_scores(meal_plan.plan)\n",
    "        avg_res[\"breakfast\"]+=course_scores[\"breakfast\"]\n",
    "        avg_res[\"lunch\"]+=course_scores[\"lunch\"]\n",
    "        avg_res[\"snacks\"]+=course_scores[\"snacks\"]\n",
    "        avg_res[\"dinner\"]+=course_scores[\"dinner\"]\n",
    "        avg_res[\"overall\"]+=course_scores[\"overall\"]\n",
    "\n",
    "    for k,v in avg_res.items():\n",
    "        avg_res[k]/=len(meal_plans)\n",
    "    return avg_res"
   ]
  },
  {
   "cell_type": "markdown",
   "metadata": {},
   "source": [
    "#### Weighted Sum"
   ]
  },
  {
   "cell_type": "code",
   "execution_count": 21,
   "metadata": {},
   "outputs": [],
   "source": [
    "res = []\n",
    "for id in range(1,9):\n",
    "    meal_plans = get_meal_plans(\"single_objective\",f\"Weights{id}\",all_single)\n",
    "    avg_res = {\n",
    "        \"title\": f\"Weights{id}\",\n",
    "    }\n",
    "    avg_res.update(evaluate_meal_plans(meal_plans))\n",
    "    res.append(avg_res)"
   ]
  },
  {
   "cell_type": "code",
   "execution_count": 22,
   "metadata": {},
   "outputs": [
    {
     "data": {
      "text/html": [
       "<div>\n",
       "<style scoped>\n",
       "    .dataframe tbody tr th:only-of-type {\n",
       "        vertical-align: middle;\n",
       "    }\n",
       "\n",
       "    .dataframe tbody tr th {\n",
       "        vertical-align: top;\n",
       "    }\n",
       "\n",
       "    .dataframe thead th {\n",
       "        text-align: right;\n",
       "    }\n",
       "</style>\n",
       "<table border=\"1\" class=\"dataframe\">\n",
       "  <thead>\n",
       "    <tr style=\"text-align: right;\">\n",
       "      <th></th>\n",
       "      <th>title</th>\n",
       "      <th>diversity</th>\n",
       "      <th>combination</th>\n",
       "      <th>preference</th>\n",
       "      <th>cuisine</th>\n",
       "      <th>breakfast</th>\n",
       "      <th>lunch</th>\n",
       "      <th>snacks</th>\n",
       "      <th>dinner</th>\n",
       "      <th>overall</th>\n",
       "    </tr>\n",
       "  </thead>\n",
       "  <tbody>\n",
       "    <tr>\n",
       "      <th>0</th>\n",
       "      <td>Weights1</td>\n",
       "      <td>0.691377</td>\n",
       "      <td>0.897822</td>\n",
       "      <td>0.752455</td>\n",
       "      <td>0.161193</td>\n",
       "      <td>0.712</td>\n",
       "      <td>0.644</td>\n",
       "      <td>1.000</td>\n",
       "      <td>0.732</td>\n",
       "      <td>0.77200</td>\n",
       "    </tr>\n",
       "    <tr>\n",
       "      <th>1</th>\n",
       "      <td>Weights2</td>\n",
       "      <td>0.661696</td>\n",
       "      <td>0.952478</td>\n",
       "      <td>0.689980</td>\n",
       "      <td>0.127042</td>\n",
       "      <td>0.748</td>\n",
       "      <td>0.664</td>\n",
       "      <td>0.988</td>\n",
       "      <td>0.720</td>\n",
       "      <td>0.78000</td>\n",
       "    </tr>\n",
       "    <tr>\n",
       "      <th>2</th>\n",
       "      <td>Weights3</td>\n",
       "      <td>0.782049</td>\n",
       "      <td>0.864717</td>\n",
       "      <td>0.696292</td>\n",
       "      <td>0.222373</td>\n",
       "      <td>0.790</td>\n",
       "      <td>0.900</td>\n",
       "      <td>0.985</td>\n",
       "      <td>0.750</td>\n",
       "      <td>0.85625</td>\n",
       "    </tr>\n",
       "    <tr>\n",
       "      <th>3</th>\n",
       "      <td>Weights4</td>\n",
       "      <td>0.664922</td>\n",
       "      <td>0.795437</td>\n",
       "      <td>0.876289</td>\n",
       "      <td>0.169560</td>\n",
       "      <td>0.792</td>\n",
       "      <td>0.716</td>\n",
       "      <td>1.000</td>\n",
       "      <td>0.584</td>\n",
       "      <td>0.77300</td>\n",
       "    </tr>\n",
       "    <tr>\n",
       "      <th>4</th>\n",
       "      <td>Weights5</td>\n",
       "      <td>0.738587</td>\n",
       "      <td>0.939691</td>\n",
       "      <td>0.625570</td>\n",
       "      <td>0.096277</td>\n",
       "      <td>0.780</td>\n",
       "      <td>0.788</td>\n",
       "      <td>1.000</td>\n",
       "      <td>0.776</td>\n",
       "      <td>0.83600</td>\n",
       "    </tr>\n",
       "    <tr>\n",
       "      <th>5</th>\n",
       "      <td>Weights6</td>\n",
       "      <td>0.632133</td>\n",
       "      <td>0.919061</td>\n",
       "      <td>0.782912</td>\n",
       "      <td>0.138330</td>\n",
       "      <td>0.792</td>\n",
       "      <td>0.560</td>\n",
       "      <td>1.000</td>\n",
       "      <td>0.744</td>\n",
       "      <td>0.77400</td>\n",
       "    </tr>\n",
       "    <tr>\n",
       "      <th>6</th>\n",
       "      <td>Weights7</td>\n",
       "      <td>0.740400</td>\n",
       "      <td>0.746562</td>\n",
       "      <td>0.853268</td>\n",
       "      <td>0.203270</td>\n",
       "      <td>0.728</td>\n",
       "      <td>0.824</td>\n",
       "      <td>0.992</td>\n",
       "      <td>0.696</td>\n",
       "      <td>0.81000</td>\n",
       "    </tr>\n",
       "    <tr>\n",
       "      <th>7</th>\n",
       "      <td>Weights8</td>\n",
       "      <td>0.666146</td>\n",
       "      <td>0.837694</td>\n",
       "      <td>0.876512</td>\n",
       "      <td>0.130546</td>\n",
       "      <td>0.805</td>\n",
       "      <td>0.815</td>\n",
       "      <td>1.000</td>\n",
       "      <td>0.655</td>\n",
       "      <td>0.81875</td>\n",
       "    </tr>\n",
       "  </tbody>\n",
       "</table>\n",
       "</div>"
      ],
      "text/plain": [
       "      title  diversity  combination  preference   cuisine  breakfast  lunch  \\\n",
       "0  Weights1   0.691377     0.897822    0.752455  0.161193      0.712  0.644   \n",
       "1  Weights2   0.661696     0.952478    0.689980  0.127042      0.748  0.664   \n",
       "2  Weights3   0.782049     0.864717    0.696292  0.222373      0.790  0.900   \n",
       "3  Weights4   0.664922     0.795437    0.876289  0.169560      0.792  0.716   \n",
       "4  Weights5   0.738587     0.939691    0.625570  0.096277      0.780  0.788   \n",
       "5  Weights6   0.632133     0.919061    0.782912  0.138330      0.792  0.560   \n",
       "6  Weights7   0.740400     0.746562    0.853268  0.203270      0.728  0.824   \n",
       "7  Weights8   0.666146     0.837694    0.876512  0.130546      0.805  0.815   \n",
       "\n",
       "   snacks  dinner  overall  \n",
       "0   1.000   0.732  0.77200  \n",
       "1   0.988   0.720  0.78000  \n",
       "2   0.985   0.750  0.85625  \n",
       "3   1.000   0.584  0.77300  \n",
       "4   1.000   0.776  0.83600  \n",
       "5   1.000   0.744  0.77400  \n",
       "6   0.992   0.696  0.81000  \n",
       "7   1.000   0.655  0.81875  "
      ]
     },
     "execution_count": 22,
     "metadata": {},
     "output_type": "execute_result"
    }
   ],
   "source": [
    "result_df_weights = pd.DataFrame(res)\n",
    "result_df_weights.head(10)"
   ]
  },
  {
   "cell_type": "markdown",
   "metadata": {},
   "source": [
    "#### Ablation Study"
   ]
  },
  {
   "cell_type": "code",
   "execution_count": null,
   "metadata": {},
   "outputs": [],
   "source": [
    "res = []\n",
    "for id in range(1,9):\n",
    "    meal_plans = get_meal_plans(\"ablation_study\",f\"Ablation_Study{id}\",all_single)\n",
    "    avg_res = {\n",
    "        \"title\": f\"Ablation_Study{id}\",\n",
    "    }\n",
    "    avg_res.update(evaluate_meal_plans(meal_plans))\n",
    "    res.append(avg_res)"
   ]
  },
  {
   "cell_type": "code",
   "execution_count": null,
   "metadata": {},
   "outputs": [
    {
     "data": {
      "text/html": [
       "<div>\n",
       "<style scoped>\n",
       "    .dataframe tbody tr th:only-of-type {\n",
       "        vertical-align: middle;\n",
       "    }\n",
       "\n",
       "    .dataframe tbody tr th {\n",
       "        vertical-align: top;\n",
       "    }\n",
       "\n",
       "    .dataframe thead th {\n",
       "        text-align: right;\n",
       "    }\n",
       "</style>\n",
       "<table border=\"1\" class=\"dataframe\">\n",
       "  <thead>\n",
       "    <tr style=\"text-align: right;\">\n",
       "      <th></th>\n",
       "      <th>title</th>\n",
       "      <th>diversity</th>\n",
       "      <th>combination</th>\n",
       "      <th>preference</th>\n",
       "      <th>cuisine</th>\n",
       "      <th>breakfast</th>\n",
       "      <th>lunch</th>\n",
       "      <th>snacks</th>\n",
       "      <th>dinner</th>\n",
       "      <th>overall</th>\n",
       "    </tr>\n",
       "  </thead>\n",
       "  <tbody>\n",
       "    <tr>\n",
       "      <th>0</th>\n",
       "      <td>Ablation_Study1</td>\n",
       "      <td>0.540960</td>\n",
       "      <td>0.918864</td>\n",
       "      <td>-0.002701</td>\n",
       "      <td>0.253069</td>\n",
       "      <td>0.647826</td>\n",
       "      <td>0.621739</td>\n",
       "      <td>0.969565</td>\n",
       "      <td>0.569565</td>\n",
       "      <td>0.702174</td>\n",
       "    </tr>\n",
       "    <tr>\n",
       "      <th>1</th>\n",
       "      <td>Ablation_Study2</td>\n",
       "      <td>0.977003</td>\n",
       "      <td>0.142610</td>\n",
       "      <td>-0.013995</td>\n",
       "      <td>0.698840</td>\n",
       "      <td>0.904545</td>\n",
       "      <td>0.690909</td>\n",
       "      <td>0.977273</td>\n",
       "      <td>0.727273</td>\n",
       "      <td>0.825000</td>\n",
       "    </tr>\n",
       "    <tr>\n",
       "      <th>2</th>\n",
       "      <td>Ablation_Study3</td>\n",
       "      <td>0.551803</td>\n",
       "      <td>0.993453</td>\n",
       "      <td>-0.005714</td>\n",
       "      <td>0.167015</td>\n",
       "      <td>0.716279</td>\n",
       "      <td>0.218605</td>\n",
       "      <td>0.995349</td>\n",
       "      <td>0.418605</td>\n",
       "      <td>0.587209</td>\n",
       "    </tr>\n",
       "    <tr>\n",
       "      <th>3</th>\n",
       "      <td>Ablation_Study4</td>\n",
       "      <td>0.796055</td>\n",
       "      <td>0.913330</td>\n",
       "      <td>0.046469</td>\n",
       "      <td>0.200497</td>\n",
       "      <td>0.681633</td>\n",
       "      <td>0.865306</td>\n",
       "      <td>0.991837</td>\n",
       "      <td>0.742857</td>\n",
       "      <td>0.820408</td>\n",
       "    </tr>\n",
       "    <tr>\n",
       "      <th>4</th>\n",
       "      <td>Ablation_Study5</td>\n",
       "      <td>0.519974</td>\n",
       "      <td>0.562829</td>\n",
       "      <td>0.966968</td>\n",
       "      <td>0.102676</td>\n",
       "      <td>0.826087</td>\n",
       "      <td>0.730435</td>\n",
       "      <td>1.000000</td>\n",
       "      <td>0.708696</td>\n",
       "      <td>0.816304</td>\n",
       "    </tr>\n",
       "    <tr>\n",
       "      <th>5</th>\n",
       "      <td>Ablation_Study6</td>\n",
       "      <td>0.922766</td>\n",
       "      <td>0.222284</td>\n",
       "      <td>0.623344</td>\n",
       "      <td>0.553320</td>\n",
       "      <td>0.767347</td>\n",
       "      <td>0.710204</td>\n",
       "      <td>0.995918</td>\n",
       "      <td>0.661224</td>\n",
       "      <td>0.783673</td>\n",
       "    </tr>\n",
       "    <tr>\n",
       "      <th>6</th>\n",
       "      <td>Ablation_Study7</td>\n",
       "      <td>0.540582</td>\n",
       "      <td>0.941787</td>\n",
       "      <td>0.628249</td>\n",
       "      <td>0.140792</td>\n",
       "      <td>0.888372</td>\n",
       "      <td>0.623256</td>\n",
       "      <td>1.000000</td>\n",
       "      <td>0.562791</td>\n",
       "      <td>0.768605</td>\n",
       "    </tr>\n",
       "    <tr>\n",
       "      <th>7</th>\n",
       "      <td>Ablation_Study8</td>\n",
       "      <td>0.832984</td>\n",
       "      <td>0.678531</td>\n",
       "      <td>0.451243</td>\n",
       "      <td>0.484705</td>\n",
       "      <td>0.792000</td>\n",
       "      <td>0.736000</td>\n",
       "      <td>0.996000</td>\n",
       "      <td>0.728000</td>\n",
       "      <td>0.813000</td>\n",
       "    </tr>\n",
       "  </tbody>\n",
       "</table>\n",
       "</div>"
      ],
      "text/plain": [
       "             title  diversity  combination  preference   cuisine  breakfast  \\\n",
       "0  Ablation_Study1   0.540960     0.918864   -0.002701  0.253069   0.647826   \n",
       "1  Ablation_Study2   0.977003     0.142610   -0.013995  0.698840   0.904545   \n",
       "2  Ablation_Study3   0.551803     0.993453   -0.005714  0.167015   0.716279   \n",
       "3  Ablation_Study4   0.796055     0.913330    0.046469  0.200497   0.681633   \n",
       "4  Ablation_Study5   0.519974     0.562829    0.966968  0.102676   0.826087   \n",
       "5  Ablation_Study6   0.922766     0.222284    0.623344  0.553320   0.767347   \n",
       "6  Ablation_Study7   0.540582     0.941787    0.628249  0.140792   0.888372   \n",
       "7  Ablation_Study8   0.832984     0.678531    0.451243  0.484705   0.792000   \n",
       "\n",
       "      lunch    snacks    dinner   overall  \n",
       "0  0.621739  0.969565  0.569565  0.702174  \n",
       "1  0.690909  0.977273  0.727273  0.825000  \n",
       "2  0.218605  0.995349  0.418605  0.587209  \n",
       "3  0.865306  0.991837  0.742857  0.820408  \n",
       "4  0.730435  1.000000  0.708696  0.816304  \n",
       "5  0.710204  0.995918  0.661224  0.783673  \n",
       "6  0.623256  1.000000  0.562791  0.768605  \n",
       "7  0.736000  0.996000  0.728000  0.813000  "
      ]
     },
     "execution_count": 22,
     "metadata": {},
     "output_type": "execute_result"
    }
   ],
   "source": [
    "result_df_ablation = pd.DataFrame(res)\n",
    "result_df_ablation.head(10)"
   ]
  },
  {
   "cell_type": "markdown",
   "metadata": {},
   "source": [
    "### Observations"
   ]
  },
  {
   "cell_type": "code",
   "execution_count": 22,
   "metadata": {},
   "outputs": [],
   "source": [
    "weighted_meal_plans = get_meal_plans(\"single_objective\",f\"Weights1\",all_single)\n",
    "ablation_meal_plans = get_meal_plans(\"ablation_study\",f\"Ablation_Study8\",all_single)"
   ]
  },
  {
   "cell_type": "code",
   "execution_count": 23,
   "metadata": {},
   "outputs": [
    {
     "name": "stdout",
     "output_type": "stream",
     "text": [
      "Spinach Quiche : 1 : -1 : main-dish : -1\n",
      "\n",
      "\n",
      "Karyn'S Cream Of Crab Soup : 1 : United States : appetizer : United States\n",
      "Beef Samosas : 1 : Indian Subcontinent : appetizer : Indian Subcontinent\n",
      "Gujarati Carrot And Peanut Salad : 2 : Indian Subcontinent : appetizer : Indian Subcontinent\n",
      "\n",
      "\n",
      "Yummy Potato Skins : 1 : Canada : appetizer : Canada\n",
      "\n",
      "Indian Chickpeas : 2 : Indian Subcontinent : main-dish : Indian Subcontinent\n",
      "Chocolate Spiders : 2 : -1 : dessert : -1\n",
      "Bombay Chicken Wings : 2 : Indian Subcontinent : appetizer : Indian Subcontinent\n",
      "\n",
      "\n",
      "[0.8315449555714926, 0.7224250354279808, 0.5833333333333334, 0.0]\n"
     ]
    }
   ],
   "source": [
    "for dish in weighted_meal_plans[0].plan:\n",
    "    print(dish)\n",
    "print(weighted_meal_plans[0].evaluate_plan())"
   ]
  },
  {
   "cell_type": "code",
   "execution_count": 24,
   "metadata": {},
   "outputs": [
    {
     "name": "stdout",
     "output_type": "stream",
     "text": [
      "Shredded Potato Quiche : 1 : -1 : main-dish : -1\n",
      "\n",
      "\n",
      "Karyn'S Cream Of Crab Soup : 1 : United States : appetizer : United States\n",
      "Beef Samosas : 1 : Indian Subcontinent : appetizer : Indian Subcontinent\n",
      "Gujarati Carrot And Peanut Salad : 2 : Indian Subcontinent : appetizer : Indian Subcontinent\n",
      "\n",
      "\n",
      "Ice Cream Kolacky : 1 : Eastern Europe : dessert : Eastern Europe\n",
      "\n",
      "Indian Chickpeas : 2 : Indian Subcontinent : main-dish : Indian Subcontinent\n",
      "Chocolate Spiders : 2 : -1 : dessert : -1\n",
      "Bombay Chicken Wings : 2 : Indian Subcontinent : appetizer : Indian Subcontinent\n",
      "\n",
      "\n",
      "[0.8315449555714926, 0.7224250354279808, 0.5833333333333334, 0.0]\n"
     ]
    }
   ],
   "source": [
    "for dish in weighted_meal_plans[2].plan:\n",
    "    print(dish)\n",
    "print(weighted_meal_plans[2].evaluate_plan())"
   ]
  },
  {
   "cell_type": "code",
   "execution_count": 25,
   "metadata": {},
   "outputs": [
    {
     "name": "stdout",
     "output_type": "stream",
     "text": [
      "2.1373033243328066\n",
      "2.1373033243328066\n"
     ]
    }
   ],
   "source": [
    "print(sum(weighted_meal_plans[0].evaluate_plan()))\n",
    "print(sum(weighted_meal_plans[2].evaluate_plan()))"
   ]
  },
  {
   "cell_type": "code",
   "execution_count": 26,
   "metadata": {},
   "outputs": [
    {
     "name": "stdout",
     "output_type": "stream",
     "text": [
      "Date Nut Bread : 1 : -1 : appetizer : -1\n",
      "\n",
      "\n",
      "Scotch Eggs : 2 : British Isles : appetizer : British Isles\n",
      "Irish Potato Candy : 2 : British Isles : dessert : British Isles\n",
      "Irish Bacon And Cabbage Soup : 2 : British Isles : appetizer : British Isles\n",
      "\n",
      "\n",
      "Butterscotch Squares : 1 : Canada : dessert : Canada\n",
      "\n",
      "Tom Ka Gai (Coconut Chicken Soup) : 2 : South East Asia : main-dish : South East Asia\n",
      "Chocolate Chai : 2 : Indian Subcontinent : main-dish : Indian Subcontinent\n",
      "Chocolate Spiders : 2 : -1 : dessert : -1\n",
      "\n",
      "\n"
     ]
    }
   ],
   "source": [
    "for dish in ablation_meal_plans[0].plan:\n",
    "    print(dish)"
   ]
  },
  {
   "cell_type": "code",
   "execution_count": 27,
   "metadata": {},
   "outputs": [
    {
     "name": "stdout",
     "output_type": "stream",
     "text": [
      "Omelet In A Bag : 1 : France : main-dish : France\n",
      "\n",
      "\n",
      "Stuffed Tomatoes : 2 : Indian Subcontinent : appetizer : Indian Subcontinent\n",
      "Corn Tortillas : 1 : Mexico : appetizer : Mexico\n",
      "Buckeye Balls Ii : 1 : United States : dessert : United States\n",
      "\n",
      "\n",
      "Peanut Clusters : 2 : -1 : dessert : -1\n",
      "\n",
      "Caramelized Chicken Wings : 1 : -1 : main-dish : -1\n",
      "Fortune Cookies I : 1 : China : dessert : China\n",
      "Chocolate Spiders : 2 : -1 : dessert : -1\n",
      "Bombay Chicken Wings : 2 : Indian Subcontinent : appetizer : Indian Subcontinent\n",
      "\n"
     ]
    }
   ],
   "source": [
    "for dish in ablation_meal_plans[1].plan:\n",
    "    print(dish)"
   ]
  },
  {
   "cell_type": "code",
   "execution_count": 24,
   "metadata": {},
   "outputs": [
    {
     "name": "stdout",
     "output_type": "stream",
     "text": [
      "['Indian Subcontinent']\n",
      "['China']\n"
     ]
    }
   ],
   "source": [
    "print(all_single[0]['groups'][0]['positive_preferences'])\n",
    "print(all_single[0]['groups'][0]['negative_preferences'])"
   ]
  },
  {
   "cell_type": "code",
   "execution_count": 28,
   "metadata": {},
   "outputs": [
    {
     "name": "stdout",
     "output_type": "stream",
     "text": [
      "title          Ablation_Study8\n",
      "diversity             0.833959\n",
      "combination           0.679584\n",
      "preference            0.401553\n",
      "cuisine                0.48284\n",
      "breakfast             0.808511\n",
      "lunch                 0.668085\n",
      "snacks                0.991489\n",
      "dinner                0.744681\n",
      "overall               0.803191\n",
      "Name: 7, dtype: object\n"
     ]
    }
   ],
   "source": [
    "print(result_df_ablation.iloc[-1])"
   ]
  },
  {
   "cell_type": "code",
   "execution_count": 32,
   "metadata": {},
   "outputs": [
    {
     "name": "stdout",
     "output_type": "stream",
     "text": [
      "title          Weights3\n",
      "diversity      0.782049\n",
      "combination    0.864717\n",
      "preference     0.696292\n",
      "cuisine        0.222373\n",
      "breakfast          0.79\n",
      "lunch               0.9\n",
      "snacks            0.985\n",
      "dinner             0.75\n",
      "overall         0.85625\n",
      "Name: 2, dtype: object\n"
     ]
    }
   ],
   "source": [
    "print(result_df_weights.iloc[2])"
   ]
  },
  {
   "cell_type": "markdown",
   "metadata": {},
   "source": [
    "### Comparing Best scores"
   ]
  },
  {
   "cell_type": "code",
   "execution_count": 41,
   "metadata": {},
   "outputs": [],
   "source": [
    "def get_best_scores(base_path,file_name,all_single):\n",
    "    df = pd.read_csv(output_base_path+f\"{base_path}/{file_name}.tsv\",sep='\\t')\n",
    "    all_data = df.values\n",
    "    cfg_to_score = {}\n",
    "    #   \"overall\": 0,\n",
    "    #   \"cuisine\": 0,\n",
    "    #   \"diversity\": 0,\n",
    "    #   \"combination\": 0,\n",
    "    #   \"preference\": 0,\n",
    "    for plan_id,plan in enumerate(all_data):\n",
    "        meal_plan = []\n",
    "        for i in range(0,len(plan)-1,2):\n",
    "            dish_index = i//2\n",
    "            dish_id = plan[i]\n",
    "            dish_qty = plan[i+1]\n",
    "            meal = \"Breakfast\"\n",
    "            if dish_index > 2 and dish_index <= 7:\n",
    "                meal = \"Lunch\"\n",
    "            elif dish_index > 7 and dish_index <= 9:\n",
    "                meal = \"Snacks\"\n",
    "            elif dish_index > 9:\n",
    "                meal = \"Dinner\"\n",
    "            if dish_id == 0:\n",
    "                dish = Dish.get_padding_dish()\n",
    "            else:\n",
    "                dish = Dish(\n",
    "                    id = str(dish_id),\n",
    "                    quantity = dish_qty,\n",
    "                    vector = data.get_dish_vector(dish_id),\n",
    "                    title = data.get_dish_title(dish_id),\n",
    "                    meal = meal,\n",
    "                    cuisine = data.get_dish_cuisine(dish_id),\n",
    "                    tags = data.get_dish_cuisine(dish_id),\n",
    "                    category = data.get_dish_category(dish_id)\n",
    "                )\n",
    "            meal_plan.append(dish)\n",
    "        cfg_id = plan[-1]\n",
    "        \n",
    "        problem_config=ProblemConfig(**all_single[cfg_id])\n",
    "        meal_plan = MealPlan(problem_config,data,meal_plan)\n",
    "        course_res = get_course_scores(meal_plan.plan)\n",
    "        cuisine_res = get_cuisine_score(meal_plan.plan)\n",
    "        if cfg_id not in cfg_to_score or ( cfg_to_score[cfg_id][\"overall\"] + cfg_to_score[cfg_id][\"cuisine\"] < course_res[\"overall\"]+cuisine_res):\n",
    "            cfg_to_score[cfg_id] = {\n",
    "                \"combination\": meal_plan.get_combi_value(),\n",
    "                \"diversity\": meal_plan.get_diversity(),\n",
    "                \"overall\": course_res[\"overall\"],\n",
    "                \"cuisine\": 1 - cuisine_res\n",
    "            }\n",
    "    return cfg_to_score"
   ]
  },
  {
   "cell_type": "code",
   "execution_count": 59,
   "metadata": {},
   "outputs": [],
   "source": [
    "cfg_to_score_single = get_best_scores(\"single_objective\",\"Weights3\",all_single)\n",
    "cfg_to_score_ablation = get_best_scores(\"ablation_study\",\"Ablation_Study8\",all_single)"
   ]
  },
  {
   "cell_type": "code",
   "execution_count": 68,
   "metadata": {},
   "outputs": [
    {
     "data": {
      "image/png": "[encoded data removed]",
      "text/plain": [
       "<Figure size 640x480 with 1 Axes>"
      ]
     },
     "metadata": {},
     "output_type": "display_data"
    }
   ],
   "source": [
    "overall_single = [val[\"overall\"] for key,val in cfg_to_score_multi.items() if key < 40]\n",
    "overall_ablation = [val[\"overall\"] for key,val in cfg_to_score_ablation.items() if key < 40]\n",
    "bar_width = 0.4\n",
    "x_pos = np.array(list(range(len(overall_single))))\n",
    "plt.bar(x_pos - bar_width/2,width=bar_width,height=overall_single,label = 'single')\n",
    "plt.bar(x_pos + bar_width/2,width=bar_width,height=overall_ablation,label = 'ablation')\n",
    "plt.legend()\n",
    "plt.show()"
   ]
  },
  {
   "cell_type": "code",
   "execution_count": 71,
   "metadata": {},
   "outputs": [
    {
     "data": {
      "text/plain": [
       "(34, 26)"
      ]
     },
     "execution_count": 71,
     "metadata": {},
     "output_type": "execute_result"
    }
   ],
   "source": [
    "cnt_better_single = 0\n",
    "cnt_better_ablation = 0\n",
    "for indx in range(len(overall_single)):\n",
    "    if overall_single[indx] <= overall_ablation[indx]:\n",
    "        cnt_better_ablation += 1\n",
    "    if overall_single[indx] >= overall_ablation[indx]:\n",
    "        cnt_better_single += 1\n",
    "cnt_better_ablation, cnt_better_single"
   ]
  },
  {
   "cell_type": "code",
   "execution_count": 72,
   "metadata": {},
   "outputs": [
    {
     "data": {
      "image/png": "[encoded data removed]",
      "text/plain": [
       "<Figure size 640x480 with 1 Axes>"
      ]
     },
     "metadata": {},
     "output_type": "display_data"
    }
   ],
   "source": [
    "cuisine_single = [val[\"cuisine\"] for key,val in cfg_to_score_multi.items() if key < 40]\n",
    "cuisine_ablation = [val[\"cuisine\"] for key,val in cfg_to_score_ablation.items() if key < 40]\n",
    "bar_width = 0.4\n",
    "x_pos = np.array(list(range(len(cuisine_single))))\n",
    "plt.bar(x_pos - bar_width/2,width=bar_width,height=cuisine_single,label = 'single')\n",
    "plt.bar(x_pos + bar_width/2,width=bar_width,height=cuisine_ablation,label = 'ablation')\n",
    "plt.legend()\n",
    "plt.show()"
   ]
  },
  {
   "cell_type": "code",
   "execution_count": 73,
   "metadata": {},
   "outputs": [
    {
     "data": {
      "text/plain": [
       "(12, 33)"
      ]
     },
     "execution_count": 73,
     "metadata": {},
     "output_type": "execute_result"
    }
   ],
   "source": [
    "cnt_better_single = 0\n",
    "cnt_better_ablation = 0\n",
    "for indx in range(len(overall_single)):\n",
    "    if cuisine_single[indx] <= cuisine_ablation[indx]:\n",
    "        cnt_better_ablation += 1\n",
    "    if cuisine_single[indx] >= cuisine_ablation[indx]:\n",
    "        cnt_better_single += 1\n",
    "cnt_better_ablation, cnt_better_single"
   ]
  },
  {
   "cell_type": "markdown",
   "metadata": {},
   "source": [
    "### Selection of Individuals"
   ]
  },
  {
   "cell_type": "code",
   "execution_count": 24,
   "metadata": {},
   "outputs": [],
   "source": [
    "col_names = []\n",
    "for i in range(15):\n",
    "    col_names.append(f'Dish Id {i+1}')\n",
    "    col_names.append(f'Dish Qty {i+1}')\n",
    "    \n",
    "## skip index col while reading\n",
    "df = pd.read_csv(output_base_path+f\"first_gen_multi.csv\",header=None,names=col_names,index_col=False)"
   ]
  },
  {
   "cell_type": "code",
   "execution_count": 25,
   "metadata": {},
   "outputs": [
    {
     "data": {
      "text/html": [
       "<div>\n",
       "<style scoped>\n",
       "    .dataframe tbody tr th:only-of-type {\n",
       "        vertical-align: middle;\n",
       "    }\n",
       "\n",
       "    .dataframe tbody tr th {\n",
       "        vertical-align: top;\n",
       "    }\n",
       "\n",
       "    .dataframe thead th {\n",
       "        text-align: right;\n",
       "    }\n",
       "</style>\n",
       "<table border=\"1\" class=\"dataframe\">\n",
       "  <thead>\n",
       "    <tr style=\"text-align: right;\">\n",
       "      <th></th>\n",
       "      <th>Dish Id 1</th>\n",
       "      <th>Dish Qty 1</th>\n",
       "      <th>Dish Id 2</th>\n",
       "      <th>Dish Qty 2</th>\n",
       "      <th>Dish Id 3</th>\n",
       "      <th>Dish Qty 3</th>\n",
       "      <th>Dish Id 4</th>\n",
       "      <th>Dish Qty 4</th>\n",
       "      <th>Dish Id 5</th>\n",
       "      <th>Dish Qty 5</th>\n",
       "      <th>...</th>\n",
       "      <th>Dish Id 11</th>\n",
       "      <th>Dish Qty 11</th>\n",
       "      <th>Dish Id 12</th>\n",
       "      <th>Dish Qty 12</th>\n",
       "      <th>Dish Id 13</th>\n",
       "      <th>Dish Qty 13</th>\n",
       "      <th>Dish Id 14</th>\n",
       "      <th>Dish Qty 14</th>\n",
       "      <th>Dish Id 15</th>\n",
       "      <th>Dish Qty 15</th>\n",
       "    </tr>\n",
       "  </thead>\n",
       "  <tbody>\n",
       "    <tr>\n",
       "      <th>0</th>\n",
       "      <td>37</td>\n",
       "      <td>2</td>\n",
       "      <td>5814</td>\n",
       "      <td>2</td>\n",
       "      <td>0</td>\n",
       "      <td>0</td>\n",
       "      <td>4195</td>\n",
       "      <td>2</td>\n",
       "      <td>1996</td>\n",
       "      <td>2</td>\n",
       "      <td>...</td>\n",
       "      <td>443</td>\n",
       "      <td>1</td>\n",
       "      <td>4331</td>\n",
       "      <td>2</td>\n",
       "      <td>2707</td>\n",
       "      <td>1</td>\n",
       "      <td>4716</td>\n",
       "      <td>2</td>\n",
       "      <td>0</td>\n",
       "      <td>0</td>\n",
       "    </tr>\n",
       "    <tr>\n",
       "      <th>1</th>\n",
       "      <td>5052</td>\n",
       "      <td>1</td>\n",
       "      <td>0</td>\n",
       "      <td>0</td>\n",
       "      <td>0</td>\n",
       "      <td>0</td>\n",
       "      <td>1322</td>\n",
       "      <td>2</td>\n",
       "      <td>4331</td>\n",
       "      <td>2</td>\n",
       "      <td>...</td>\n",
       "      <td>4681</td>\n",
       "      <td>2</td>\n",
       "      <td>4097</td>\n",
       "      <td>2</td>\n",
       "      <td>3720</td>\n",
       "      <td>2</td>\n",
       "      <td>7036</td>\n",
       "      <td>2</td>\n",
       "      <td>0</td>\n",
       "      <td>0</td>\n",
       "    </tr>\n",
       "    <tr>\n",
       "      <th>2</th>\n",
       "      <td>34</td>\n",
       "      <td>1</td>\n",
       "      <td>0</td>\n",
       "      <td>0</td>\n",
       "      <td>0</td>\n",
       "      <td>0</td>\n",
       "      <td>3694</td>\n",
       "      <td>2</td>\n",
       "      <td>3142</td>\n",
       "      <td>1</td>\n",
       "      <td>...</td>\n",
       "      <td>4681</td>\n",
       "      <td>2</td>\n",
       "      <td>3167</td>\n",
       "      <td>1</td>\n",
       "      <td>7142</td>\n",
       "      <td>2</td>\n",
       "      <td>0</td>\n",
       "      <td>0</td>\n",
       "      <td>0</td>\n",
       "      <td>0</td>\n",
       "    </tr>\n",
       "    <tr>\n",
       "      <th>3</th>\n",
       "      <td>14</td>\n",
       "      <td>2</td>\n",
       "      <td>0</td>\n",
       "      <td>0</td>\n",
       "      <td>0</td>\n",
       "      <td>0</td>\n",
       "      <td>509</td>\n",
       "      <td>1</td>\n",
       "      <td>5079</td>\n",
       "      <td>2</td>\n",
       "      <td>...</td>\n",
       "      <td>527</td>\n",
       "      <td>1</td>\n",
       "      <td>1665</td>\n",
       "      <td>1</td>\n",
       "      <td>1903</td>\n",
       "      <td>2</td>\n",
       "      <td>0</td>\n",
       "      <td>0</td>\n",
       "      <td>0</td>\n",
       "      <td>0</td>\n",
       "    </tr>\n",
       "    <tr>\n",
       "      <th>4</th>\n",
       "      <td>16</td>\n",
       "      <td>2</td>\n",
       "      <td>0</td>\n",
       "      <td>0</td>\n",
       "      <td>0</td>\n",
       "      <td>0</td>\n",
       "      <td>1686</td>\n",
       "      <td>1</td>\n",
       "      <td>3142</td>\n",
       "      <td>1</td>\n",
       "      <td>...</td>\n",
       "      <td>1322</td>\n",
       "      <td>1</td>\n",
       "      <td>4331</td>\n",
       "      <td>1</td>\n",
       "      <td>2707</td>\n",
       "      <td>1</td>\n",
       "      <td>4716</td>\n",
       "      <td>2</td>\n",
       "      <td>2461</td>\n",
       "      <td>2</td>\n",
       "    </tr>\n",
       "  </tbody>\n",
       "</table>\n",
       "<p>5 rows × 30 columns</p>\n",
       "</div>"
      ],
      "text/plain": [
       "   Dish Id 1  Dish Qty 1  Dish Id 2  Dish Qty 2  Dish Id 3  Dish Qty 3  \\\n",
       "0         37           2       5814           2          0           0   \n",
       "1       5052           1          0           0          0           0   \n",
       "2         34           1          0           0          0           0   \n",
       "3         14           2          0           0          0           0   \n",
       "4         16           2          0           0          0           0   \n",
       "\n",
       "   Dish Id 4  Dish Qty 4  Dish Id 5  Dish Qty 5  ...  Dish Id 11  Dish Qty 11  \\\n",
       "0       4195           2       1996           2  ...         443            1   \n",
       "1       1322           2       4331           2  ...        4681            2   \n",
       "2       3694           2       3142           1  ...        4681            2   \n",
       "3        509           1       5079           2  ...         527            1   \n",
       "4       1686           1       3142           1  ...        1322            1   \n",
       "\n",
       "   Dish Id 12  Dish Qty 12  Dish Id 13  Dish Qty 13  Dish Id 14  Dish Qty 14  \\\n",
       "0        4331            2        2707            1        4716            2   \n",
       "1        4097            2        3720            2        7036            2   \n",
       "2        3167            1        7142            2           0            0   \n",
       "3        1665            1        1903            2           0            0   \n",
       "4        4331            1        2707            1        4716            2   \n",
       "\n",
       "   Dish Id 15  Dish Qty 15  \n",
       "0           0            0  \n",
       "1           0            0  \n",
       "2           0            0  \n",
       "3           0            0  \n",
       "4        2461            2  \n",
       "\n",
       "[5 rows x 30 columns]"
      ]
     },
     "execution_count": 25,
     "metadata": {},
     "output_type": "execute_result"
    }
   ],
   "source": [
    "df.head()"
   ]
  },
  {
   "cell_type": "code",
   "execution_count": 26,
   "metadata": {},
   "outputs": [],
   "source": [
    "def get_scores(when,type):\n",
    "    col_names = []\n",
    "    for i in range(15):\n",
    "        col_names.append(f'Dish Id {i+1}')\n",
    "        col_names.append(f'Dish Qty {i+1}')\n",
    "    df = pd.read_csv(output_base_path+f\"{when}_gen_{type}.csv\",header=None,names=col_names,index_col=False)\n",
    "    all_data = df.values\n",
    "    scores = []\n",
    "    for plan_id,plan in enumerate(all_data):\n",
    "        meal_plan = []\n",
    "        for i in range(0,len(plan)-1,2):\n",
    "            dish_index = i//2\n",
    "            dish_id = plan[i]\n",
    "            dish_qty = plan[i+1]\n",
    "            meal = \"Breakfast\"\n",
    "            if dish_index > 2 and dish_index <= 7:\n",
    "                meal = \"Lunch\"\n",
    "            elif dish_index > 7 and dish_index <= 9:\n",
    "                meal = \"Snacks\"\n",
    "            elif dish_index > 9:\n",
    "                meal = \"Dinner\"\n",
    "            if dish_id == 0:\n",
    "                dish = Dish.get_padding_dish()\n",
    "            else:\n",
    "                dish = Dish(\n",
    "                    id = str(dish_id),\n",
    "                    quantity = dish_qty,\n",
    "                    vector = data.get_dish_vector(dish_id),\n",
    "                    title = data.get_dish_title(dish_id),\n",
    "                    meal = meal,\n",
    "                    cuisine = data.get_dish_cuisine(dish_id),\n",
    "                    tags = data.get_dish_cuisine(dish_id),\n",
    "                    category = data.get_dish_category(dish_id)\n",
    "                )\n",
    "            meal_plan.append(dish)\n",
    "        problem_config=ProblemConfig(**all_single[0])\n",
    "        meal_plan = MealPlan(problem_config,data,meal_plan)\n",
    "        scores.append(\n",
    "            [\n",
    "                meal_plan.get_combi_value(),\n",
    "                meal_plan.get_diversity(),\n",
    "                meal_plan.get_pos_preference() - meal_plan.get_neg_preference(),\n",
    "                get_course_scores(meal_plan.plan),\n",
    "                get_cuisine_score(meal_plan.plan),\n",
    "            ]\n",
    "        )\n",
    "    return np.array(scores)"
   ]
  },
  {
   "cell_type": "code",
   "execution_count": 26,
   "metadata": {},
   "outputs": [],
   "source": [
    "scores_multi_init = get_scores('first','multi')\n",
    "scores_single_init = get_scores('first','single')\n",
    "\n",
    "scores_multi_sel = get_scores('selected','multi')\n",
    "scores_single_sel = get_scores('selected','single')"
   ]
  },
  {
   "cell_type": "code",
   "execution_count": 27,
   "metadata": {},
   "outputs": [
    {
     "data": {
      "text/plain": [
       "((400, 3), (401, 3))"
      ]
     },
     "execution_count": 27,
     "metadata": {},
     "output_type": "execute_result"
    }
   ],
   "source": [
    "scores_multi_init.shape,scores_single_init.shape"
   ]
  },
  {
   "cell_type": "code",
   "execution_count": 28,
   "metadata": {},
   "outputs": [
    {
     "data": {
      "text/plain": [
       "((200, 3), (200, 3))"
      ]
     },
     "execution_count": 28,
     "metadata": {},
     "output_type": "execute_result"
    }
   ],
   "source": [
    "scores_multi_sel.shape,scores_single_sel.shape"
   ]
  },
  {
   "cell_type": "code",
   "execution_count": 30,
   "metadata": {},
   "outputs": [
    {
     "data": {
      "image/png": "[encoded data removed]",
      "text/plain": [
       "<Figure size 640x480 with 1 Axes>"
      ]
     },
     "metadata": {},
     "output_type": "display_data"
    }
   ],
   "source": [
    "plt.scatter(x = scores_multi_init[:,0], y = scores_multi_init[:,1], s =5,label = 'multi_init')\n",
    "plt.scatter(x = scores_multi_sel[:,0], y = scores_multi_sel[:,1], s =5, label = 'multi_final')\n",
    "plt.scatter(x = scores_single_init[:,0], y = scores_single_init[:,1], s =5,label = 'single_init')\n",
    "plt.scatter(x = scores_single_sel[:,0], y = scores_single_sel[:,1], s =5, label = 'single_final')\n",
    "plt.legend()\n",
    "plt.show()"
   ]
  },
  {
   "cell_type": "code",
   "execution_count": 101,
   "metadata": {},
   "outputs": [
    {
     "data": {
      "image/png": "[encoded data removed]",
      "text/plain": [
       "<Figure size 640x480 with 1 Axes>"
      ]
     },
     "metadata": {},
     "output_type": "display_data"
    }
   ],
   "source": [
    "plt.scatter(x = scores_single_init[:,0], y = scores_single_init[:,1], s =5,label = 'init')\n",
    "plt.scatter(x = scores_single_sel[:,0], y = scores_single_sel[:,1], s =5, label = 'final')\n",
    "plt.legend()\n",
    "plt.show()"
   ]
  },
  {
   "cell_type": "code",
   "execution_count": 110,
   "metadata": {},
   "outputs": [],
   "source": [
    "from NSGA.utils import NSGAUtils\n",
    "from NSGA import NSGAPopulation\n",
    "from plan import Individual"
   ]
  },
  {
   "cell_type": "code",
   "execution_count": 140,
   "metadata": {},
   "outputs": [],
   "source": [
    "def get_population(when,type):\n",
    "    col_names = []\n",
    "    for i in range(15):\n",
    "        col_names.append(f'Dish Id {i+1}')\n",
    "        col_names.append(f'Dish Qty {i+1}')\n",
    "    df = pd.read_csv(output_base_path+f\"{when}_gen_{type}.csv\",header=None,names=col_names,index_col=False)\n",
    "    all_data = df.values\n",
    "    scores = []\n",
    "    pop = NSGAPopulation()\n",
    "    for plan_id,plan in enumerate(all_data):\n",
    "        meal_plan = []\n",
    "        for i in range(0,len(plan)-1,2):\n",
    "            dish_index = i//2\n",
    "            dish_id = plan[i]\n",
    "            dish_qty = plan[i+1]\n",
    "            meal = \"Breakfast\"\n",
    "            if dish_index > 2 and dish_index <= 7:\n",
    "                meal = \"Lunch\"\n",
    "            elif dish_index > 7 and dish_index <= 9:\n",
    "                meal = \"Snacks\"\n",
    "            elif dish_index > 9:\n",
    "                meal = \"Dinner\"\n",
    "            if dish_id == 0:\n",
    "                dish = Dish.get_padding_dish()\n",
    "            else:\n",
    "                dish = Dish(\n",
    "                    id = str(dish_id),\n",
    "                    quantity = dish_qty,\n",
    "                    vector = data.get_dish_vector(dish_id),\n",
    "                    title = data.get_dish_title(dish_id),\n",
    "                    meal = meal,\n",
    "                    cuisine = data.get_dish_cuisine(dish_id),\n",
    "                    tags = data.get_dish_cuisine(dish_id),\n",
    "                    category = data.get_dish_category(dish_id)\n",
    "                )\n",
    "            meal_plan.append(dish)\n",
    "        all_single[0][\"planning\"][\"weights\"] = [1,1,1]\n",
    "        all_single[0][\"planning\"][\"num_objectives\"] = 1\n",
    "        problem_config=ProblemConfig(**all_single[0])\n",
    "        meal_plan = MealPlan(problem_config,data,meal_plan)\n",
    "        ind = Individual(meal_plan)\n",
    "        pop.append(ind)\n",
    "    return pop"
   ]
  },
  {
   "cell_type": "code",
   "execution_count": null,
   "metadata": {},
   "outputs": [],
   "source": []
  },
  {
   "cell_type": "code",
   "execution_count": 141,
   "metadata": {},
   "outputs": [],
   "source": [
    "pop_init_single = get_population('first','single')"
   ]
  },
  {
   "cell_type": "code",
   "execution_count": 142,
   "metadata": {},
   "outputs": [
    {
     "data": {
      "text/plain": [
       "True"
      ]
     },
     "execution_count": 142,
     "metadata": {},
     "output_type": "execute_result"
    }
   ],
   "source": [
    "hasattr(pop_init_single[0].meal_plan.problem_config.planning,'weights')"
   ]
  },
  {
   "cell_type": "code",
   "execution_count": 143,
   "metadata": {},
   "outputs": [],
   "source": [
    "problem_config=ProblemConfig(**all_single[0])\n",
    "problem_config.planning.num_objectives = 1\n",
    "problem_config.planning.weights = [1,1,1]\n",
    "utils = NSGAUtils(data,problem_config)"
   ]
  },
  {
   "cell_type": "code",
   "execution_count": 144,
   "metadata": {},
   "outputs": [],
   "source": [
    "for ind in pop_init_single:\n",
    "    ind.calculate_objectives()"
   ]
  },
  {
   "cell_type": "code",
   "execution_count": 145,
   "metadata": {},
   "outputs": [],
   "source": [
    "utils.fast_nondominated_sort(pop_init_single)"
   ]
  },
  {
   "cell_type": "code",
   "execution_count": 146,
   "metadata": {},
   "outputs": [
    {
     "data": {
      "text/plain": [
       "[1.3998983190635983]"
      ]
     },
     "execution_count": 146,
     "metadata": {},
     "output_type": "execute_result"
    }
   ],
   "source": [
    "pop_init_single[0].objectives"
   ]
  },
  {
   "cell_type": "code",
   "execution_count": 147,
   "metadata": {},
   "outputs": [],
   "source": [
    "ranks = set([ind.rank for ind in pop_init_single])"
   ]
  },
  {
   "cell_type": "code",
   "execution_count": 148,
   "metadata": {},
   "outputs": [
    {
     "data": {
      "text/plain": [
       "400"
      ]
     },
     "execution_count": 148,
     "metadata": {},
     "output_type": "execute_result"
    }
   ],
   "source": [
    "max(ranks)"
   ]
  },
  {
   "cell_type": "markdown",
   "metadata": {},
   "source": [
    "### Over the generations"
   ]
  },
  {
   "cell_type": "code",
   "execution_count": 56,
   "metadata": {},
   "outputs": [
    {
     "data": {
      "image/png": "[encoded data removed]",
      "text/plain": [
       "<Figure size 640x480 with 1 Axes>"
      ]
     },
     "metadata": {},
     "output_type": "display_data"
    }
   ],
   "source": [
    "for i in range(1,100,20):\n",
    "    scores = get_scores(f'selected_{i}','single')\n",
    "    plt.scatter(scores[:,2],scores[:,0],s=5,label =f'Gen {i}')\n",
    "plt.legend()\n",
    "plt.show()"
   ]
  },
  {
   "cell_type": "code",
   "execution_count": 33,
   "metadata": {},
   "outputs": [
    {
     "data": {
      "application/vnd.plotly.v1+json": {
       "config": {
        "plotlyServerURL": "https://plot.ly"
       },
       "data": [
        {
         "mode": "markers",
         "name": "multi",
         "type": "scatter3d",
         "x": [
          0.10936778038740158,
          0.8420992394288381,
          0.9934871395428976,
          0.5898544092973074,
          0.3276821613311768,
          0.6264850298563639,
          0.19318128898739814,
          0.6117070615291595,
          0.7086495203631265,
          0.11130227372050286,
          0.9401898781458536,
          0.6742262194554011,
          0.9806573722097609,
          0.21798950769007205,
          0.9238436818122864,
          0.8965115348498026,
          0.44488314621978337,
          0.7192024290561676,
          0.5412360940660749,
          0.57350821296374,
          0.6946384949343545,
          0.7303222715854645,
          0.8566809381757464,
          0.3102432481944561,
          0.9806573722097609,
          0.316379443431894,
          0.35418684366676545,
          0.8266542298453194,
          0.3399823784828186,
          0.8254273618970599,
          0.9490372041861216,
          0.8401235242684683,
          0.9741105675697327,
          0.5838733514149984,
          0.9575476547082266,
          0.2863919727504253,
          0.9692425032456716,
          0.8104670345783234,
          0.9639782905578613,
          0.9575476547082266,
          0.693646177649498,
          0.2983609437942505,
          0.34695007279515266,
          0.31912481784820557,
          0.8114163364682879,
          0.34658830240368843,
          0.55339210703969,
          0.9735185636414422,
          0.5962850451469421,
          0.6358918423453966,
          0.6777884385415486,
          0.32483997609880233,
          0.7303222715854645,
          0.38694039508700373,
          0.4166412088606093,
          0.29622501209378244,
          0.2834104109141562,
          0.6578800231218338,
          0.2633150029513571,
          0.35725037977099416,
          0.4303127924601237,
          0.3249490350484848,
          0.7654868279184613,
          0.6960589230060578,
          0.3743535810046726,
          0.40770257181591457,
          0.846929540236791,
          0.6757914828402656,
          0.37371113449335097,
          0.57350821296374,
          0.9531392653783163,
          0.26220996007323266,
          0.6742262194554011,
          0.7192024290561676,
          0.8453714715109931,
          0.6686076521873474,
          0.9466205139954885,
          0.6583527080714703,
          0.7168375104665756,
          0.82683222161399,
          0.7099605202674866,
          0.6578800231218338,
          0.2983609437942505,
          0.8433490480695452,
          0.2838123780157831,
          0.85649131404029,
          0.6919731696446737,
          0.5509729800479752,
          0.6155082732439041,
          0.42509658800231087,
          0.9460053741931915,
          0.3543201552497016,
          0.8972370965140206,
          0.7313241064548492,
          0.6195456460118294,
          0.4130513419707616,
          0.9401898781458536,
          0.6721549960119384,
          0.5367370711432563,
          0.2717436276376247,
          0.683076268860272,
          0.7941208382447561,
          0.7381296820110745,
          0.8420992394288381,
          0.6363308259419033,
          0.7771135653768267,
          0.5953819858176368,
          0.8114163364682879,
          0.8438146644168429,
          0.49344238970014787,
          0.6983337828091213,
          0.7941208382447561,
          0.6469120316207408,
          0.7345383805888039,
          0.6223198005131313,
          0.7146214566060475,
          0.2834104109141562,
          0.5810478578011194,
          0.5955414950847626,
          0.5324618452125125,
          0.9238436818122864,
          0.9367930690447489,
          0.723356220457289,
          0.7771135653768267,
          0.7043381929397583,
          0.7654868279184613,
          0.6358918423453966,
          0.717994416753451,
          0.6621911923090616,
          0.7541009386380514,
          0.7047660201787949,
          0.8309393354824611,
          0.959569901227951,
          0.45597428679466245,
          0.44488314621978337,
          0.800738696541105,
          0.3606065385043621,
          0.4763559016088645,
          0.6027952515416675,
          0.3535224613216188,
          0.6835785327213151,
          0.5240604215198092,
          0.6904375212533134,
          0.33422474728690255,
          0.5908910251326032,
          0.8042092323303223,
          0.6423224781950315,
          0.7405364116032919,
          0.6367324165999889,
          0.560025069448683,
          0.6621911923090616,
          0.4104070723056793,
          0.6922103336879185,
          0.5898544092973074,
          0.22745119945870507,
          0.6303066194057465,
          0.613005518913269,
          0.5506731282387461,
          0.6657818986309899,
          0.40357153945498997,
          0.8104670345783234,
          0.5044342089030478,
          0.7575905663626534,
          0.6898529132207235,
          0.8309393354824611,
          0.7191755796472231,
          0.6652356651094224,
          0.3605433888733387,
          0.4284371554851532,
          0.4236808605492115,
          0.2838123780157831,
          0.7461651180471692,
          0.7117333327020917,
          0.6224390665690104,
          0.5338655941188335,
          0.6423224781950315,
          0.40600283853709696,
          0.570699179811137,
          0.5721716715229882,
          0.4761044846640693,
          0.6066952837365014,
          0.7168375104665756,
          0.7461651180471692,
          0.6819281056523323,
          0.6721549960119384,
          0.7405364116032919,
          0.8033331433931986,
          0.7575905663626534,
          0.717994416753451,
          0.5761896190898759,
          0.40730060471428764,
          0.9531392653783163,
          0.6195456460118294,
          0.7044298897186915,
          0.47916221618652344,
          0.5721716715229882,
          0.3743535810046726,
          0.7541009386380514,
          0.40730060471428764,
          0.9367930690447489
         ],
         "y": [
          0.9211723268905432,
          0.45441935703114583,
          0.6817592322392526,
          0.6208838549077071,
          0.9062796221454954,
          0.8551515891082009,
          0.9093476244530528,
          0.5985334151013347,
          0.554575208621054,
          0.9150693182945624,
          0.569643169871035,
          0.5061083782526048,
          0.4842909517961245,
          0.9125465086996238,
          0.7167957118016118,
          0.7279204929946048,
          0.7176695998464221,
          0.6855639652489846,
          0.8246527523498236,
          0.7680363968382838,
          0.6807059588472626,
          0.5275953356170132,
          0.832110572656645,
          0.9010520229192848,
          0.4842909517961245,
          0.8938799050050483,
          0.8579912141447896,
          0.6626091272483402,
          0.8457910898538545,
          0.640566446807539,
          0.7031352369771412,
          0.7502193767634097,
          0.520399475699687,
          0.6793131341022138,
          0.46266750017999564,
          0.9085752581749063,
          0.6987339933877031,
          0.6064314894701707,
          0.6462339035244057,
          0.46266750017999564,
          0.7350811859538627,
          0.8727689528220907,
          0.8718477088265221,
          0.8832931050864377,
          0.7666971970337476,
          0.8649673169626823,
          0.8466002712822688,
          0.5208219561740457,
          0.804450258252117,
          0.580384209309922,
          0.6107052985209106,
          0.8998386650356053,
          0.5275953356170132,
          0.8791913522785973,
          0.8792238823489837,
          0.8992550563423155,
          0.8671441087550082,
          0.6532609201831815,
          0.8988180339655146,
          0.8880804217797511,
          0.8494910428288693,
          0.904150894118608,
          0.8261876202087295,
          0.8294712548010157,
          0.8875885310284618,
          0.8610269064006998,
          0.8298996362941278,
          0.6182402066701831,
          0.871707240213462,
          0.7680363968382838,
          0.6280869093501932,
          0.8840931141961794,
          0.5061083782526048,
          0.6855639652489846,
          0.7342952947045531,
          0.7284208970720211,
          0.753209573215445,
          0.8871954052357811,
          0.8449536146565993,
          0.8192412904360528,
          0.8343532568156953,
          0.6532609201831815,
          0.8727689528220907,
          0.6271843932763383,
          0.8747889886037192,
          0.5763266650725817,
          0.783272142611371,
          0.8613110172290425,
          0.7947621086584573,
          0.8255185700122794,
          0.8237460718856991,
          0.8346714646224981,
          0.8032790153797624,
          0.7744829044999637,
          0.7275367512404988,
          0.8692716291658473,
          0.569643169871035,
          0.7869583978333,
          0.8068858096413316,
          0.8786616410143833,
          0.7586331350670809,
          0.7535840314007475,
          0.8760832728810217,
          0.45441935703114583,
          0.6529541886111417,
          0.8158223980449328,
          0.8600902668404272,
          0.7666971970337476,
          0.6107775981145768,
          0.837153515754332,
          0.8447184789794919,
          0.7535840314007475,
          0.8204763053222942,
          0.8389975804723618,
          0.7790849388373503,
          0.8521419951788014,
          0.8671441087550082,
          0.8474743872679671,
          0.800571867906209,
          0.8187931681852498,
          0.7167957118016118,
          0.77523945128077,
          0.8415811712827777,
          0.8158223980449328,
          0.7609322682881395,
          0.8261876202087295,
          0.580384209309922,
          0.8258417195547012,
          0.8446088603374492,
          0.8108967659137969,
          0.5771125563218914,
          0.7979090782456046,
          0.8116533126946032,
          0.862032789091247,
          0.7176695998464221,
          0.8340863642632677,
          0.8667642835396515,
          0.8652519836419783,
          0.8080951930526542,
          0.8970754107397512,
          0.8145016164951552,
          0.8413367426833268,
          0.8031413756038382,
          0.8663453898330045,
          0.7759164643207664,
          0.8327244092580517,
          0.763950612654332,
          0.822989525104893,
          0.8233750656334333,
          0.7955936098033711,
          0.8446088603374492,
          0.8357419372434232,
          0.7861916725626706,
          0.6208838549077071,
          0.9052415969546007,
          0.8418436878590814,
          0.814304171732862,
          0.8520473625052919,
          0.8287002283427849,
          0.8770666245965439,
          0.6064314894701707,
          0.8530977145103101,
          0.7846105168330758,
          0.8187369259155154,
          0.7979090782456046,
          0.827348944122981,
          0.7998912815778244,
          0.8654584642981227,
          0.8833672970087905,
          0.8681903208692466,
          0.8747889886037192,
          0.8286323583085652,
          0.8174035537745276,
          0.857147585763485,
          0.8589772896731198,
          0.763950612654332,
          0.8751292170370861,
          0.8546144576152477,
          0.8158836597205885,
          0.8608909394388412,
          0.8568446274744309,
          0.8449536146565993,
          0.8286323583085652,
          0.841395239855932,
          0.7869583978333,
          0.822989525104893,
          0.8020906520056768,
          0.7846105168330758,
          0.8258417195547012,
          0.7851875823234791,
          0.8533820265519888,
          0.6280869093501932,
          0.7275367512404988,
          0.8379344787457973,
          0.8559599494929971,
          0.8158836597205885,
          0.8875885310284618,
          0.8108967659137969,
          0.8533820265519888,
          0.77523945128077
         ],
         "z": [
          0.125,
          0.5454545454545454,
          0,
          0.7272727272727273,
          0.11764705882352941,
          0,
          0.21428571428571427,
          0.7,
          0.6666666666666666,
          0.13333333333333333,
          0.5,
          0.7272727272727273,
          0.3333333333333333,
          0.14285714285714285,
          0.4,
          0.3333333333333333,
          0.6666666666666666,
          0.5384615384615384,
          0.5454545454545454,
          0.6363636363636364,
          0.5833333333333334,
          0.6153846153846154,
          0.14285714285714285,
          0.23076923076923078,
          0.3333333333333333,
          0.18181818181818182,
          0.46153846153846156,
          0.4166666666666667,
          0.5,
          0.5454545454545454,
          0.36363636363636365,
          0.36363636363636365,
          0.3076923076923077,
          0.6666666666666666,
          0.4166666666666667,
          0.13333333333333333,
          0,
          0.6,
          0.2727272727272727,
          0.4166666666666667,
          0.5384615384615384,
          0.4166666666666667,
          0.3125,
          0.35714285714285715,
          0.45454545454545453,
          0.375,
          0.35714285714285715,
          0.18181818181818182,
          0.6,
          0.7272727272727273,
          0.6153846153846154,
          0.16666666666666666,
          0.6153846153846154,
          0.26666666666666666,
          0.15384615384615385,
          0.2857142857142857,
          0.42857142857142855,
          0.6363636363636364,
          0.3333333333333333,
          0.2,
          0.4166666666666667,
          0.15384615384615385,
          0.25,
          0.23076923076923078,
          0.25,
          0.36363636363636365,
          0.16666666666666666,
          0.6666666666666666,
          0.3333333333333333,
          0.6363636363636364,
          0.4166666666666667,
          0.3333333333333333,
          0.7272727272727273,
          0.5384615384615384,
          0.38461538461538464,
          0.5833333333333334,
          0.3,
          0.125,
          0.2,
          0.21428571428571427,
          0.4,
          0.6363636363636364,
          0.4166666666666667,
          0.46153846153846156,
          0.38461538461538464,
          0.5,
          0.45454545454545453,
          0.2727272727272727,
          0.46153846153846156,
          0.5833333333333334,
          0.15384615384615385,
          0.5384615384615384,
          0.2857142857142857,
          0.45454545454545453,
          0.6363636363636364,
          0.21428571428571427,
          0.5,
          0.4166666666666667,
          0.4166666666666667,
          0.375,
          0.5454545454545454,
          0.5,
          0.13333333333333333,
          0.5454545454545454,
          0.6666666666666666,
          0.36363636363636365,
          0.16666666666666666,
          0.45454545454545453,
          0.5,
          0.45454545454545453,
          0.2727272727272727,
          0.5,
          0.36363636363636365,
          0.15384615384615385,
          0.5833333333333334,
          0.14285714285714285,
          0.42857142857142855,
          0.16666666666666666,
          0.5384615384615384,
          0.45454545454545453,
          0.4,
          0.3076923076923077,
          0.15384615384615385,
          0.36363636363636365,
          0.46153846153846156,
          0.25,
          0.7272727272727273,
          0.3,
          0.3,
          0.4,
          0.6153846153846154,
          0.4,
          0.2727272727272727,
          0.23076923076923078,
          0.6666666666666666,
          0.14285714285714285,
          0.35714285714285715,
          0.3076923076923077,
          0.4166666666666667,
          0.16666666666666666,
          0.4,
          0.38461538461538464,
          0.45454545454545453,
          0.45454545454545453,
          0.5384615384615384,
          0.16666666666666666,
          0.6,
          0.2727272727272727,
          0.3076923076923077,
          0.5833333333333334,
          0.3,
          0.5,
          0.45454545454545453,
          0.7272727272727273,
          0.3076923076923077,
          0.25,
          0.45454545454545453,
          0.38461538461538464,
          0.25,
          0.23076923076923078,
          0.6,
          0.2,
          0.4166666666666667,
          0.3333333333333333,
          0.36363636363636365,
          0.2727272727272727,
          0.4166666666666667,
          0.38461538461538464,
          0.25,
          0.3333333333333333,
          0.38461538461538464,
          0.25,
          0.4,
          0.18181818181818182,
          0.21428571428571427,
          0.6,
          0.25,
          0.3333333333333333,
          0.45454545454545453,
          0.16666666666666666,
          0.25,
          0.21428571428571427,
          0.25,
          0.16666666666666666,
          0.4166666666666667,
          0.2727272727272727,
          0.3,
          0.4166666666666667,
          0.3,
          0.5454545454545454,
          0.4166666666666667,
          0.4166666666666667,
          0.6363636363636364,
          0.18181818181818182,
          0.3076923076923077,
          0.45454545454545453,
          0.25,
          0.4,
          0.4166666666666667,
          0.3076923076923077
         ]
        },
        {
         "mode": "markers",
         "name": "multi",
         "type": "scatter3d",
         "x": [
          0.9388286769390106,
          0.9388286769390106,
          0.9388286769390106,
          0.9388286769390106,
          0.9388286769390106,
          0.9388286769390106,
          0.9388286769390106,
          0.9388286769390106,
          0.9388286769390106,
          0.9388286769390106,
          0.9388286769390106,
          0.9388286769390106,
          0.9388286769390106,
          0.9388286769390106,
          0.9388286769390106,
          0.9388286769390106,
          0.9388286769390106,
          0.9388286769390106,
          0.9388286769390106,
          0.9388286769390106,
          0.9388286769390106,
          0.9388286769390106,
          0.9388286769390106,
          0.9388286769390106,
          0.9388286769390106,
          0.9388286769390106,
          0.9388286769390106,
          0.9388286769390106,
          0.9388286769390106,
          0.9388286769390106,
          0.9388286769390106,
          0.9388286769390106,
          0.9388286769390106,
          0.9388286769390106,
          0.9388286769390106,
          0.9388286769390106,
          0.9388286769390106,
          0.9388286769390106,
          0.9388286769390106,
          0.9388286769390106,
          0.9388286769390106,
          0.9388286769390106,
          0.9388286769390106,
          0.9388286769390106,
          0.9388286769390106,
          0.9388286769390106,
          0.9388286769390106,
          0.9388286769390106,
          0.9388286769390106,
          0.9388286769390106,
          0.9388286769390106,
          0.9388286769390106,
          0.9388286769390106,
          0.9388286769390106,
          0.9388286769390106,
          0.9388286769390106,
          0.9388286769390106,
          0.9388286769390106,
          0.9388286769390106,
          0.9388286769390106,
          0.9388286769390106,
          0.9388286769390106,
          0.9388286769390106,
          0.9388286769390106,
          0.9388286769390106,
          0.9388286769390106,
          0.9388286769390106,
          0.9388286769390106,
          0.9388286769390106,
          0.9388286769390106,
          0.9388286769390106,
          0.9388286769390106,
          0.9388286769390106,
          0.9388286769390106,
          0.9388286769390106,
          0.9388286769390106,
          0.9388286769390106,
          0.9388286769390106,
          0.9388286769390106,
          0.9388286769390106,
          0.9388286769390106,
          0.9388286769390106,
          0.9388286769390106,
          0.9388286769390106,
          0.9388286769390106,
          0.9388286769390106,
          0.9388286769390106,
          0.9388286769390106,
          0.9388286769390106,
          0.9388286769390106,
          0.9388286769390106,
          0.9388286769390106,
          0.9388286769390106,
          0.9388286769390106,
          0.9388286769390106,
          0.9388286769390106,
          0.9388286769390106,
          0.9388286769390106,
          0.9388286769390106,
          0.9388286769390106,
          0.9388286769390106,
          0.9388286769390106,
          0.9388286769390106,
          0.9388286769390106,
          0.9388286769390106,
          0.9388286769390106,
          0.9388286769390106,
          0.9388286769390106,
          0.9388286769390106,
          0.9388286769390106,
          0.9388286769390106,
          0.9388286769390106,
          0.9388286769390106,
          0.9388286769390106,
          0.9388286769390106,
          0.9388286769390106,
          0.9388286769390106,
          0.9388286769390106,
          0.9388286769390106,
          0.9388286769390106,
          0.9388286769390106,
          0.9388286769390106,
          0.9388286769390106,
          0.9388286769390106,
          0.9388286769390106,
          0.9388286769390106,
          0.9388286769390106,
          0.9388286769390106,
          0.9388286769390106,
          0.9388286769390106,
          0.9388286769390106,
          0.9388286769390106,
          0.9388286769390106,
          0.9388286769390106,
          0.9388286769390106,
          0.9388286769390106,
          0.9388286769390106,
          0.9388286769390106,
          0.9388286769390106,
          0.9388286769390106,
          0.9388286769390106,
          0.9388286769390106,
          0.9388286769390106,
          0.9388286769390106,
          0.9388286769390106,
          0.9388286769390106,
          0.9388286769390106,
          0.9388286769390106,
          0.9388286769390106,
          0.9388286769390106,
          0.9388286769390106,
          0.9388286769390106,
          0.9388286769390106,
          0.9388286769390106,
          0.9388286769390106,
          0.9388286769390106,
          0.9388286769390106,
          0.9388286769390106,
          0.9388286769390106,
          0.9388286769390106,
          0.9388286769390106,
          0.9388286769390106,
          0.9388286769390106,
          0.9388286769390106,
          0.9388286769390106,
          0.9388286769390106,
          0.9388286769390106,
          0.9388286769390106,
          0.9388286769390106,
          0.9388286769390106,
          0.9388286769390106,
          0.9388286769390106,
          0.9388286769390106,
          0.9388286769390106,
          0.9388286769390106,
          0.9388286769390106,
          0.9388286769390106,
          0.9388286769390106,
          0.9388286769390106,
          0.9388286769390106,
          0.9388286769390106,
          0.9388286769390106,
          0.9388286769390106,
          0.9388286769390106,
          0.9388286769390106,
          0.9388286769390106,
          0.9388286769390106,
          0.9388286769390106,
          0.9388286769390106,
          0.9388286769390106,
          0.9388286769390106,
          0.9388286769390106,
          0.9388286769390106,
          0.9388286769390106,
          0.9388286769390106,
          0.9388286769390106,
          0.9388286769390106,
          0.9388286769390106,
          0.9388286769390106,
          0.9388286769390106
         ],
         "y": [
          0.5817399235182988,
          0.5817399235182988,
          0.5817399235182988,
          0.5817399235182988,
          0.5817399235182988,
          0.5817399235182988,
          0.5817399235182988,
          0.5817399235182988,
          0.5817399235182988,
          0.5817399235182988,
          0.5817399235182988,
          0.5817399235182988,
          0.5817399235182988,
          0.5817399235182988,
          0.5817399235182988,
          0.5817399235182988,
          0.5817399235182988,
          0.5817399235182988,
          0.5817399235182988,
          0.5817399235182988,
          0.5817399235182988,
          0.5817399235182988,
          0.5817399235182988,
          0.5817399235182988,
          0.5817399235182988,
          0.5817399235182988,
          0.5817399235182988,
          0.5817399235182988,
          0.5817399235182988,
          0.5817399235182988,
          0.5817399235182988,
          0.5817399235182988,
          0.5817399235182988,
          0.5817399235182988,
          0.5817399235182988,
          0.5817399235182988,
          0.5817399235182988,
          0.5817399235182988,
          0.5817399235182988,
          0.5817399235182988,
          0.5817399235182988,
          0.5817399235182988,
          0.5817399235182988,
          0.5817399235182988,
          0.5817399235182988,
          0.5817399235182988,
          0.5817399235182988,
          0.5817399235182988,
          0.5817399235182988,
          0.5817399235182988,
          0.5817399235182988,
          0.5817399235182988,
          0.5817399235182988,
          0.5817399235182988,
          0.5817399235182988,
          0.5817399235182988,
          0.5817399235182988,
          0.5817399235182988,
          0.5817399235182988,
          0.5817399235182988,
          0.5817399235182988,
          0.5817399235182988,
          0.5817399235182988,
          0.5817399235182988,
          0.5817399235182988,
          0.5817399235182988,
          0.5817399235182988,
          0.5817399235182988,
          0.5817399235182988,
          0.5817399235182988,
          0.5817399235182988,
          0.5817399235182988,
          0.5817399235182988,
          0.5817399235182988,
          0.5817399235182988,
          0.5817399235182988,
          0.5817399235182988,
          0.5817399235182988,
          0.5817399235182988,
          0.5817399235182988,
          0.5817399235182988,
          0.5817399235182988,
          0.5817399235182988,
          0.5817399235182988,
          0.5817399235182988,
          0.5817399235182988,
          0.5817399235182988,
          0.5817399235182988,
          0.5817399235182988,
          0.5817399235182988,
          0.5817399235182988,
          0.5817399235182988,
          0.5817399235182988,
          0.5817399235182988,
          0.5817399235182988,
          0.5817399235182988,
          0.5817399235182988,
          0.5817399235182988,
          0.5817399235182988,
          0.5817399235182988,
          0.5817399235182988,
          0.5817399235182988,
          0.5817399235182988,
          0.5817399235182988,
          0.5817399235182988,
          0.5817399235182988,
          0.5817399235182988,
          0.5817399235182988,
          0.5817399235182988,
          0.5817399235182988,
          0.5817399235182988,
          0.5817399235182988,
          0.5817399235182988,
          0.5817399235182988,
          0.5817399235182988,
          0.5817399235182988,
          0.5817399235182988,
          0.5817399235182988,
          0.5817399235182988,
          0.5817399235182988,
          0.5817399235182988,
          0.5817399235182988,
          0.5817399235182988,
          0.5817399235182988,
          0.5817399235182988,
          0.5817399235182988,
          0.5817399235182988,
          0.5817399235182988,
          0.5817399235182988,
          0.5817399235182988,
          0.5817399235182988,
          0.5817399235182988,
          0.5817399235182988,
          0.5817399235182988,
          0.5817399235182988,
          0.5817399235182988,
          0.5817399235182988,
          0.5817399235182988,
          0.5817399235182988,
          0.5817399235182988,
          0.5817399235182988,
          0.5817399235182988,
          0.5817399235182988,
          0.5817399235182988,
          0.5817399235182988,
          0.5817399235182988,
          0.5817399235182988,
          0.5817399235182988,
          0.5817399235182988,
          0.5817399235182988,
          0.5817399235182988,
          0.5817399235182988,
          0.5817399235182988,
          0.5817399235182988,
          0.5817399235182988,
          0.5817399235182988,
          0.5817399235182988,
          0.5817399235182988,
          0.5817399235182988,
          0.5817399235182988,
          0.5817399235182988,
          0.5817399235182988,
          0.5817399235182988,
          0.5817399235182988,
          0.5817399235182988,
          0.5817399235182988,
          0.5817399235182988,
          0.5817399235182988,
          0.5817399235182988,
          0.5817399235182988,
          0.5817399235182988,
          0.5817399235182988,
          0.5817399235182988,
          0.5817399235182988,
          0.5817399235182988,
          0.5817399235182988,
          0.5817399235182988,
          0.5817399235182988,
          0.5817399235182988,
          0.5817399235182988,
          0.5817399235182988,
          0.5817399235182988,
          0.5817399235182988,
          0.5817399235182988,
          0.5817399235182988,
          0.5817399235182988,
          0.5817399235182988,
          0.5817399235182988,
          0.5817399235182988,
          0.5817399235182988,
          0.5817399235182988,
          0.5817399235182988,
          0.5817399235182988,
          0.5817399235182988,
          0.5817399235182988,
          0.5817399235182988,
          0.5817399235182988,
          0.5817399235182988,
          0.5817399235182988,
          0.5817399235182988
         ],
         "z": [
          0.7,
          0.7,
          0.7,
          0.7,
          0.7,
          0.7,
          0.7,
          0.7,
          0.7,
          0.7,
          0.7,
          0.7,
          0.7,
          0.7,
          0.7,
          0.7,
          0.7,
          0.7,
          0.7,
          0.7,
          0.7,
          0.7,
          0.7,
          0.7,
          0.7,
          0.7,
          0.7,
          0.7,
          0.7,
          0.7,
          0.7,
          0.7,
          0.7,
          0.7,
          0.7,
          0.7,
          0.7,
          0.7,
          0.7,
          0.7,
          0.7,
          0.7,
          0.7,
          0.7,
          0.7,
          0.7,
          0.7,
          0.7,
          0.7,
          0.7,
          0.7,
          0.7,
          0.7,
          0.7,
          0.7,
          0.7,
          0.7,
          0.7,
          0.7,
          0.7,
          0.7,
          0.7,
          0.7,
          0.7,
          0.7,
          0.7,
          0.7,
          0.7,
          0.7,
          0.7,
          0.7,
          0.7,
          0.7,
          0.7,
          0.7,
          0.7,
          0.7,
          0.7,
          0.7,
          0.7,
          0.7,
          0.7,
          0.7,
          0.7,
          0.7,
          0.7,
          0.7,
          0.7,
          0.7,
          0.7,
          0.7,
          0.7,
          0.7,
          0.7,
          0.7,
          0.7,
          0.7,
          0.7,
          0.7,
          0.7,
          0.7,
          0.7,
          0.7,
          0.7,
          0.7,
          0.7,
          0.7,
          0.7,
          0.7,
          0.7,
          0.7,
          0.7,
          0.7,
          0.7,
          0.7,
          0.7,
          0.7,
          0.7,
          0.7,
          0.7,
          0.7,
          0.7,
          0.7,
          0.7,
          0.7,
          0.7,
          0.7,
          0.7,
          0.7,
          0.7,
          0.7,
          0.7,
          0.7,
          0.7,
          0.7,
          0.7,
          0.7,
          0.6363636363636364,
          0.6363636363636364,
          0.6363636363636364,
          0.6363636363636364,
          0.6363636363636364,
          0.6363636363636364,
          0.6363636363636364,
          0.6363636363636364,
          0.6363636363636364,
          0.6363636363636364,
          0.6363636363636364,
          0.6363636363636364,
          0.6363636363636364,
          0.6363636363636364,
          0.6363636363636364,
          0.6363636363636364,
          0.6363636363636364,
          0.6363636363636364,
          0.6363636363636364,
          0.6363636363636364,
          0.6363636363636364,
          0.6363636363636364,
          0.6363636363636364,
          0.6363636363636364,
          0.6363636363636364,
          0.6363636363636364,
          0.6363636363636364,
          0.6363636363636364,
          0.6363636363636364,
          0.6363636363636364,
          0.6363636363636364,
          0.6363636363636364,
          0.6363636363636364,
          0.6363636363636364,
          0.6363636363636364,
          0.6363636363636364,
          0.6363636363636364,
          0.6363636363636364,
          0.6363636363636364,
          0.6363636363636364,
          0.6363636363636364,
          0.6363636363636364,
          0.6363636363636364,
          0.6363636363636364,
          0.6363636363636364,
          0.6363636363636364,
          0.6363636363636364,
          0.6363636363636364,
          0.6363636363636364,
          0.6363636363636364,
          0.6363636363636364,
          0.6363636363636364,
          0.6363636363636364,
          0.6363636363636364,
          0.6363636363636364,
          0.6363636363636364,
          0.6363636363636364,
          0.6363636363636364,
          0.6363636363636364,
          0.6363636363636364,
          0.6363636363636364,
          0.6363636363636364,
          0.6363636363636364
         ]
        }
       ],
       "layout": {
        "template": {
         "data": {
          "bar": [
           {
            "error_x": {
             "color": "#2a3f5f"
            },
            "error_y": {
             "color": "#2a3f5f"
            },
            "marker": {
             "line": {
              "color": "#E5ECF6",
              "width": 0.5
             },
             "pattern": {
              "fillmode": "overlay",
              "size": 10,
              "solidity": 0.2
             }
            },
            "type": "bar"
           }
          ],
          "barpolar": [
           {
            "marker": {
             "line": {
              "color": "#E5ECF6",
              "width": 0.5
             },
             "pattern": {
              "fillmode": "overlay",
              "size": 10,
              "solidity": 0.2
             }
            },
            "type": "barpolar"
           }
          ],
          "carpet": [
           {
            "aaxis": {
             "endlinecolor": "#2a3f5f",
             "gridcolor": "white",
             "linecolor": "white",
             "minorgridcolor": "white",
             "startlinecolor": "#2a3f5f"
            },
            "baxis": {
             "endlinecolor": "#2a3f5f",
             "gridcolor": "white",
             "linecolor": "white",
             "minorgridcolor": "white",
             "startlinecolor": "#2a3f5f"
            },
            "type": "carpet"
           }
          ],
          "choropleth": [
           {
            "colorbar": {
             "outlinewidth": 0,
             "ticks": ""
            },
            "type": "choropleth"
           }
          ],
          "contour": [
           {
            "colorbar": {
             "outlinewidth": 0,
             "ticks": ""
            },
            "colorscale": [
             [
              0,
              "#0d0887"
             ],
             [
              0.1111111111111111,
              "#46039f"
             ],
             [
              0.2222222222222222,
              "#7201a8"
             ],
             [
              0.3333333333333333,
              "#9c179e"
             ],
             [
              0.4444444444444444,
              "#bd3786"
             ],
             [
              0.5555555555555556,
              "#d8576b"
             ],
             [
              0.6666666666666666,
              "#ed7953"
             ],
             [
              0.7777777777777778,
              "#fb9f3a"
             ],
             [
              0.8888888888888888,
              "#fdca26"
             ],
             [
              1,
              "#f0f921"
             ]
            ],
            "type": "contour"
           }
          ],
          "contourcarpet": [
           {
            "colorbar": {
             "outlinewidth": 0,
             "ticks": ""
            },
            "type": "contourcarpet"
           }
          ],
          "heatmap": [
           {
            "colorbar": {
             "outlinewidth": 0,
             "ticks": ""
            },
            "colorscale": [
             [
              0,
              "#0d0887"
             ],
             [
              0.1111111111111111,
              "#46039f"
             ],
             [
              0.2222222222222222,
              "#7201a8"
             ],
             [
              0.3333333333333333,
              "#9c179e"
             ],
             [
              0.4444444444444444,
              "#bd3786"
             ],
             [
              0.5555555555555556,
              "#d8576b"
             ],
             [
              0.6666666666666666,
              "#ed7953"
             ],
             [
              0.7777777777777778,
              "#fb9f3a"
             ],
             [
              0.8888888888888888,
              "#fdca26"
             ],
             [
              1,
              "#f0f921"
             ]
            ],
            "type": "heatmap"
           }
          ],
          "heatmapgl": [
           {
            "colorbar": {
             "outlinewidth": 0,
             "ticks": ""
            },
            "colorscale": [
             [
              0,
              "#0d0887"
             ],
             [
              0.1111111111111111,
              "#46039f"
             ],
             [
              0.2222222222222222,
              "#7201a8"
             ],
             [
              0.3333333333333333,
              "#9c179e"
             ],
             [
              0.4444444444444444,
              "#bd3786"
             ],
             [
              0.5555555555555556,
              "#d8576b"
             ],
             [
              0.6666666666666666,
              "#ed7953"
             ],
             [
              0.7777777777777778,
              "#fb9f3a"
             ],
             [
              0.8888888888888888,
              "#fdca26"
             ],
             [
              1,
              "#f0f921"
             ]
            ],
            "type": "heatmapgl"
           }
          ],
          "histogram": [
           {
            "marker": {
             "pattern": {
              "fillmode": "overlay",
              "size": 10,
              "solidity": 0.2
             }
            },
            "type": "histogram"
           }
          ],
          "histogram2d": [
           {
            "colorbar": {
             "outlinewidth": 0,
             "ticks": ""
            },
            "colorscale": [
             [
              0,
              "#0d0887"
             ],
             [
              0.1111111111111111,
              "#46039f"
             ],
             [
              0.2222222222222222,
              "#7201a8"
             ],
             [
              0.3333333333333333,
              "#9c179e"
             ],
             [
              0.4444444444444444,
              "#bd3786"
             ],
             [
              0.5555555555555556,
              "#d8576b"
             ],
             [
              0.6666666666666666,
              "#ed7953"
             ],
             [
              0.7777777777777778,
              "#fb9f3a"
             ],
             [
              0.8888888888888888,
              "#fdca26"
             ],
             [
              1,
              "#f0f921"
             ]
            ],
            "type": "histogram2d"
           }
          ],
          "histogram2dcontour": [
           {
            "colorbar": {
             "outlinewidth": 0,
             "ticks": ""
            },
            "colorscale": [
             [
              0,
              "#0d0887"
             ],
             [
              0.1111111111111111,
              "#46039f"
             ],
             [
              0.2222222222222222,
              "#7201a8"
             ],
             [
              0.3333333333333333,
              "#9c179e"
             ],
             [
              0.4444444444444444,
              "#bd3786"
             ],
             [
              0.5555555555555556,
              "#d8576b"
             ],
             [
              0.6666666666666666,
              "#ed7953"
             ],
             [
              0.7777777777777778,
              "#fb9f3a"
             ],
             [
              0.8888888888888888,
              "#fdca26"
             ],
             [
              1,
              "#f0f921"
             ]
            ],
            "type": "histogram2dcontour"
           }
          ],
          "mesh3d": [
           {
            "colorbar": {
             "outlinewidth": 0,
             "ticks": ""
            },
            "type": "mesh3d"
           }
          ],
          "parcoords": [
           {
            "line": {
             "colorbar": {
              "outlinewidth": 0,
              "ticks": ""
             }
            },
            "type": "parcoords"
           }
          ],
          "pie": [
           {
            "automargin": true,
            "type": "pie"
           }
          ],
          "scatter": [
           {
            "fillpattern": {
             "fillmode": "overlay",
             "size": 10,
             "solidity": 0.2
            },
            "type": "scatter"
           }
          ],
          "scatter3d": [
           {
            "line": {
             "colorbar": {
              "outlinewidth": 0,
              "ticks": ""
             }
            },
            "marker": {
             "colorbar": {
              "outlinewidth": 0,
              "ticks": ""
             }
            },
            "type": "scatter3d"
           }
          ],
          "scattercarpet": [
           {
            "marker": {
             "colorbar": {
              "outlinewidth": 0,
              "ticks": ""
             }
            },
            "type": "scattercarpet"
           }
          ],
          "scattergeo": [
           {
            "marker": {
             "colorbar": {
              "outlinewidth": 0,
              "ticks": ""
             }
            },
            "type": "scattergeo"
           }
          ],
          "scattergl": [
           {
            "marker": {
             "colorbar": {
              "outlinewidth": 0,
              "ticks": ""
             }
            },
            "type": "scattergl"
           }
          ],
          "scattermapbox": [
           {
            "marker": {
             "colorbar": {
              "outlinewidth": 0,
              "ticks": ""
             }
            },
            "type": "scattermapbox"
           }
          ],
          "scatterpolar": [
           {
            "marker": {
             "colorbar": {
              "outlinewidth": 0,
              "ticks": ""
             }
            },
            "type": "scatterpolar"
           }
          ],
          "scatterpolargl": [
           {
            "marker": {
             "colorbar": {
              "outlinewidth": 0,
              "ticks": ""
             }
            },
            "type": "scatterpolargl"
           }
          ],
          "scatterternary": [
           {
            "marker": {
             "colorbar": {
              "outlinewidth": 0,
              "ticks": ""
             }
            },
            "type": "scatterternary"
           }
          ],
          "surface": [
           {
            "colorbar": {
             "outlinewidth": 0,
             "ticks": ""
            },
            "colorscale": [
             [
              0,
              "#0d0887"
             ],
             [
              0.1111111111111111,
              "#46039f"
             ],
             [
              0.2222222222222222,
              "#7201a8"
             ],
             [
              0.3333333333333333,
              "#9c179e"
             ],
             [
              0.4444444444444444,
              "#bd3786"
             ],
             [
              0.5555555555555556,
              "#d8576b"
             ],
             [
              0.6666666666666666,
              "#ed7953"
             ],
             [
              0.7777777777777778,
              "#fb9f3a"
             ],
             [
              0.8888888888888888,
              "#fdca26"
             ],
             [
              1,
              "#f0f921"
             ]
            ],
            "type": "surface"
           }
          ],
          "table": [
           {
            "cells": {
             "fill": {
              "color": "#EBF0F8"
             },
             "line": {
              "color": "white"
             }
            },
            "header": {
             "fill": {
              "color": "#C8D4E3"
             },
             "line": {
              "color": "white"
             }
            },
            "type": "table"
           }
          ]
         },
         "layout": {
          "annotationdefaults": {
           "arrowcolor": "#2a3f5f",
           "arrowhead": 0,
           "arrowwidth": 1
          },
          "autotypenumbers": "strict",
          "coloraxis": {
           "colorbar": {
            "outlinewidth": 0,
            "ticks": ""
           }
          },
          "colorscale": {
           "diverging": [
            [
             0,
             "#8e0152"
            ],
            [
             0.1,
             "#c51b7d"
            ],
            [
             0.2,
             "#de77ae"
            ],
            [
             0.3,
             "#f1b6da"
            ],
            [
             0.4,
             "#fde0ef"
            ],
            [
             0.5,
             "#f7f7f7"
            ],
            [
             0.6,
             "#e6f5d0"
            ],
            [
             0.7,
             "#b8e186"
            ],
            [
             0.8,
             "#7fbc41"
            ],
            [
             0.9,
             "#4d9221"
            ],
            [
             1,
             "#276419"
            ]
           ],
           "sequential": [
            [
             0,
             "#0d0887"
            ],
            [
             0.1111111111111111,
             "#46039f"
            ],
            [
             0.2222222222222222,
             "#7201a8"
            ],
            [
             0.3333333333333333,
             "#9c179e"
            ],
            [
             0.4444444444444444,
             "#bd3786"
            ],
            [
             0.5555555555555556,
             "#d8576b"
            ],
            [
             0.6666666666666666,
             "#ed7953"
            ],
            [
             0.7777777777777778,
             "#fb9f3a"
            ],
            [
             0.8888888888888888,
             "#fdca26"
            ],
            [
             1,
             "#f0f921"
            ]
           ],
           "sequentialminus": [
            [
             0,
             "#0d0887"
            ],
            [
             0.1111111111111111,
             "#46039f"
            ],
            [
             0.2222222222222222,
             "#7201a8"
            ],
            [
             0.3333333333333333,
             "#9c179e"
            ],
            [
             0.4444444444444444,
             "#bd3786"
            ],
            [
             0.5555555555555556,
             "#d8576b"
            ],
            [
             0.6666666666666666,
             "#ed7953"
            ],
            [
             0.7777777777777778,
             "#fb9f3a"
            ],
            [
             0.8888888888888888,
             "#fdca26"
            ],
            [
             1,
             "#f0f921"
            ]
           ]
          },
          "colorway": [
           "#636efa",
           "#EF553B",
           "#00cc96",
           "#ab63fa",
           "#FFA15A",
           "#19d3f3",
           "#FF6692",
           "#B6E880",
           "#FF97FF",
           "#FECB52"
          ],
          "font": {
           "color": "#2a3f5f"
          },
          "geo": {
           "bgcolor": "white",
           "lakecolor": "white",
           "landcolor": "#E5ECF6",
           "showlakes": true,
           "showland": true,
           "subunitcolor": "white"
          },
          "hoverlabel": {
           "align": "left"
          },
          "hovermode": "closest",
          "mapbox": {
           "style": "light"
          },
          "paper_bgcolor": "white",
          "plot_bgcolor": "#E5ECF6",
          "polar": {
           "angularaxis": {
            "gridcolor": "white",
            "linecolor": "white",
            "ticks": ""
           },
           "bgcolor": "#E5ECF6",
           "radialaxis": {
            "gridcolor": "white",
            "linecolor": "white",
            "ticks": ""
           }
          },
          "scene": {
           "xaxis": {
            "backgroundcolor": "#E5ECF6",
            "gridcolor": "white",
            "gridwidth": 2,
            "linecolor": "white",
            "showbackground": true,
            "ticks": "",
            "zerolinecolor": "white"
           },
           "yaxis": {
            "backgroundcolor": "#E5ECF6",
            "gridcolor": "white",
            "gridwidth": 2,
            "linecolor": "white",
            "showbackground": true,
            "ticks": "",
            "zerolinecolor": "white"
           },
           "zaxis": {
            "backgroundcolor": "#E5ECF6",
            "gridcolor": "white",
            "gridwidth": 2,
            "linecolor": "white",
            "showbackground": true,
            "ticks": "",
            "zerolinecolor": "white"
           }
          },
          "shapedefaults": {
           "line": {
            "color": "#2a3f5f"
           }
          },
          "ternary": {
           "aaxis": {
            "gridcolor": "white",
            "linecolor": "white",
            "ticks": ""
           },
           "baxis": {
            "gridcolor": "white",
            "linecolor": "white",
            "ticks": ""
           },
           "bgcolor": "#E5ECF6",
           "caxis": {
            "gridcolor": "white",
            "linecolor": "white",
            "ticks": ""
           }
          },
          "title": {
           "x": 0.05
          },
          "xaxis": {
           "automargin": true,
           "gridcolor": "white",
           "linecolor": "white",
           "ticks": "",
           "title": {
            "standoff": 15
           },
           "zerolinecolor": "white",
           "zerolinewidth": 2
          },
          "yaxis": {
           "automargin": true,
           "gridcolor": "white",
           "linecolor": "white",
           "ticks": "",
           "title": {
            "standoff": 15
           },
           "zerolinecolor": "white",
           "zerolinewidth": 2
          }
         }
        }
       }
      }
     },
     "metadata": {},
     "output_type": "display_data"
    }
   ],
   "source": [
    "import plotly.graph_objects as go\n",
    "\n",
    "fig = go.Figure()\n",
    "scores = get_scores(f'selected_81','multi')\n",
    "fig.add_trace(go.Scatter3d(x=scores[:,0], y=scores[:,1],z= scores[:,2],mode='markers',name='multi'))\n",
    "scores = get_scores(f'selected_81','single')\n",
    "fig.add_trace(go.Scatter3d(x=scores[:,0], y=scores[:,1],z= scores[:,2],mode='markers',name='multi'))\n",
    "fig.show()"
   ]
  },
  {
   "cell_type": "code",
   "execution_count": 61,
   "metadata": {},
   "outputs": [
    {
     "data": {
      "image/png": "[encoded data removed]",
      "text/plain": [
       "<Figure size 640x480 with 1 Axes>"
      ]
     },
     "metadata": {},
     "output_type": "display_data"
    }
   ],
   "source": [
    "for i in range(81,100,20):\n",
    "    scores = get_scores(f'selected_{i}','multi')\n",
    "    plt.scatter(scores[:,1],scores[:,0],s=5,label =f'Diveristy')\n",
    "    plt.scatter(scores[:,2],scores[:,0],s=5,label =f'Preference')\n",
    "plt.legend()\n",
    "plt.show()"
   ]
  },
  {
   "cell_type": "code",
   "execution_count": null,
   "metadata": {},
   "outputs": [],
   "source": []
  }
 ],
 "metadata": {
  "kernelspec": {
   "display_name": "btp",
   "language": "python",
   "name": "python3"
  },
  "language_info": {
   "codemirror_mode": {
    "name": "ipython",
    "version": 3
   },
   "file_extension": ".py",
   "mimetype": "text/x-python",
   "name": "python",
   "nbconvert_exporter": "python",
   "pygments_lexer": "ipython3",
   "version": "3.9.2"
  },
  "orig_nbformat": 4
 },
 "nbformat": 4,
 "nbformat_minor": 2
}
