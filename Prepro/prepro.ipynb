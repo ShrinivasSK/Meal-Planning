{
 "cells": [
  {
   "cell_type": "code",
   "execution_count": 1,
   "metadata": {},
   "outputs": [],
   "source": [
    "import pandas as pd\n",
    "import csv\n",
    "import ast\n",
    "\n",
    "from tqdm import tqdm\n",
    "from collections import defaultdict\n",
    "\n",
    "import spacy\n",
    "import string\n",
    "import re\n",
    "\n",
    "import nltk"
   ]
  },
  {
   "cell_type": "code",
   "execution_count": 2,
   "metadata": {},
   "outputs": [],
   "source": [
    "df_recipe=pd.read_csv(\"F:/SHRINIVAS/KGP/BTP/Meal-Planning/Data/MealRec/recipe.csv\")"
   ]
  },
  {
   "cell_type": "code",
   "execution_count": 3,
   "metadata": {},
   "outputs": [
    {
     "data": {
      "text/html": [
       "<div>\n",
       "<style scoped>\n",
       "    .dataframe tbody tr th:only-of-type {\n",
       "        vertical-align: middle;\n",
       "    }\n",
       "\n",
       "    .dataframe tbody tr th {\n",
       "        vertical-align: top;\n",
       "    }\n",
       "\n",
       "    .dataframe thead th {\n",
       "        text-align: right;\n",
       "    }\n",
       "</style>\n",
       "<table border=\"1\" class=\"dataframe\">\n",
       "  <thead>\n",
       "    <tr style=\"text-align: right;\">\n",
       "      <th></th>\n",
       "      <th>Unnamed: 0</th>\n",
       "      <th>recipe_id</th>\n",
       "      <th>recipe_name</th>\n",
       "      <th>review_nums</th>\n",
       "      <th>category</th>\n",
       "      <th>aver_rate</th>\n",
       "      <th>image_url</th>\n",
       "      <th>ingredients</th>\n",
       "      <th>cooking_directions</th>\n",
       "      <th>nutritions</th>\n",
       "      <th>reviews</th>\n",
       "      <th>tags</th>\n",
       "    </tr>\n",
       "  </thead>\n",
       "  <tbody>\n",
       "    <tr>\n",
       "      <th>0</th>\n",
       "      <td>0</td>\n",
       "      <td>6698</td>\n",
       "      <td>Mom's Zucchini Bread</td>\n",
       "      <td>9355</td>\n",
       "      <td>appetizer</td>\n",
       "      <td>4.754207</td>\n",
       "      <td>https://images.media-allrecipes.com/userphotos...</td>\n",
       "      <td>all-purpose flour^salt^baking soda^baking powd...</td>\n",
       "      <td>{'directions': u'Prep\\n20 m\\nCook\\n1 h\\nReady ...</td>\n",
       "      <td>{u'niacin': {u'hasCompleteData': True, u'name'...</td>\n",
       "      <td>{9568256: {'rating': 5, 'followersCount': 0, '...</td>\n",
       "      <td>north-american;breads;easy;beginner-cook;inexp...</td>\n",
       "    </tr>\n",
       "    <tr>\n",
       "      <th>1</th>\n",
       "      <td>1</td>\n",
       "      <td>6709</td>\n",
       "      <td>Zucchini Walnut Bread</td>\n",
       "      <td>58</td>\n",
       "      <td>appetizer</td>\n",
       "      <td>4.478873</td>\n",
       "      <td>http://images.media-allrecipes.com/userphotos/...</td>\n",
       "      <td>chopped walnuts^eggs^white sugar^vegetable oil...</td>\n",
       "      <td>{'directions': u'Whisk together flour, baking ...</td>\n",
       "      <td>{u'niacin': {u'hasCompleteData': True, u'name'...</td>\n",
       "      <td>{1636096: {'rating': 4, 'followersCount': 0, '...</td>\n",
       "      <td>weeknight;breads;fruit;vegetables;kid-friendly...</td>\n",
       "    </tr>\n",
       "    <tr>\n",
       "      <th>2</th>\n",
       "      <td>2</td>\n",
       "      <td>6725</td>\n",
       "      <td>Honey Wheat Bread I</td>\n",
       "      <td>2054</td>\n",
       "      <td>appetizer</td>\n",
       "      <td>4.766846</td>\n",
       "      <td>http://images.media-allrecipes.com/userphotos/...</td>\n",
       "      <td>rapid rise yeast^white sugar^warm water (110 d...</td>\n",
       "      <td>{'directions': u'Prep\\n25 m\\nCook\\n35 m\\nReady...</td>\n",
       "      <td>{u'niacin': {u'hasCompleteData': True, u'name'...</td>\n",
       "      <td>{1542146: {'rating': 4, 'followersCount': 56, ...</td>\n",
       "      <td>healthy;breads;dietary;low-cholesterol;healthy...</td>\n",
       "    </tr>\n",
       "    <tr>\n",
       "      <th>3</th>\n",
       "      <td>3</td>\n",
       "      <td>6730</td>\n",
       "      <td>Chocolate Chip Orange Zucchini Bread</td>\n",
       "      <td>503</td>\n",
       "      <td>dessert</td>\n",
       "      <td>4.674833</td>\n",
       "      <td>https://images.media-allrecipes.com/userphotos...</td>\n",
       "      <td>eggs^white sugar^vegetable oil^vanilla extract...</td>\n",
       "      <td>{'directions': u'Sift together flour, baking p...</td>\n",
       "      <td>{u'niacin': {u'hasCompleteData': True, u'name'...</td>\n",
       "      <td>{1978376: {'rating': 5, 'followersCount': 0, '...</td>\n",
       "      <td>for-large-groups;healthy;breads;kid-friendly;d...</td>\n",
       "    </tr>\n",
       "    <tr>\n",
       "      <th>4</th>\n",
       "      <td>4</td>\n",
       "      <td>6732</td>\n",
       "      <td>Chocolate Chip Pumpkin Bread</td>\n",
       "      <td>866</td>\n",
       "      <td>dessert</td>\n",
       "      <td>4.718112</td>\n",
       "      <td>https://images.media-allrecipes.com/userphotos...</td>\n",
       "      <td>white sugar^pumpkin puree^vegetable oil^water^...</td>\n",
       "      <td>{'directions': u'Prep\\n30 m\\nCook\\n1 h\\nReady ...</td>\n",
       "      <td>{u'niacin': {u'hasCompleteData': True, u'name'...</td>\n",
       "      <td>{1830917: {'rating': 3, 'followersCount': 0, '...</td>\n",
       "      <td>breads;fall;winter;seasonal;quick-breads;4-hou...</td>\n",
       "    </tr>\n",
       "  </tbody>\n",
       "</table>\n",
       "</div>"
      ],
      "text/plain": [
       "   Unnamed: 0  recipe_id                           recipe_name  review_nums  \\\n",
       "0           0       6698                  Mom's Zucchini Bread         9355   \n",
       "1           1       6709                 Zucchini Walnut Bread           58   \n",
       "2           2       6725                   Honey Wheat Bread I         2054   \n",
       "3           3       6730  Chocolate Chip Orange Zucchini Bread          503   \n",
       "4           4       6732          Chocolate Chip Pumpkin Bread          866   \n",
       "\n",
       "    category  aver_rate                                          image_url  \\\n",
       "0  appetizer   4.754207  https://images.media-allrecipes.com/userphotos...   \n",
       "1  appetizer   4.478873  http://images.media-allrecipes.com/userphotos/...   \n",
       "2  appetizer   4.766846  http://images.media-allrecipes.com/userphotos/...   \n",
       "3    dessert   4.674833  https://images.media-allrecipes.com/userphotos...   \n",
       "4    dessert   4.718112  https://images.media-allrecipes.com/userphotos...   \n",
       "\n",
       "                                         ingredients  \\\n",
       "0  all-purpose flour^salt^baking soda^baking powd...   \n",
       "1  chopped walnuts^eggs^white sugar^vegetable oil...   \n",
       "2  rapid rise yeast^white sugar^warm water (110 d...   \n",
       "3  eggs^white sugar^vegetable oil^vanilla extract...   \n",
       "4  white sugar^pumpkin puree^vegetable oil^water^...   \n",
       "\n",
       "                                  cooking_directions  \\\n",
       "0  {'directions': u'Prep\\n20 m\\nCook\\n1 h\\nReady ...   \n",
       "1  {'directions': u'Whisk together flour, baking ...   \n",
       "2  {'directions': u'Prep\\n25 m\\nCook\\n35 m\\nReady...   \n",
       "3  {'directions': u'Sift together flour, baking p...   \n",
       "4  {'directions': u'Prep\\n30 m\\nCook\\n1 h\\nReady ...   \n",
       "\n",
       "                                          nutritions  \\\n",
       "0  {u'niacin': {u'hasCompleteData': True, u'name'...   \n",
       "1  {u'niacin': {u'hasCompleteData': True, u'name'...   \n",
       "2  {u'niacin': {u'hasCompleteData': True, u'name'...   \n",
       "3  {u'niacin': {u'hasCompleteData': True, u'name'...   \n",
       "4  {u'niacin': {u'hasCompleteData': True, u'name'...   \n",
       "\n",
       "                                             reviews  \\\n",
       "0  {9568256: {'rating': 5, 'followersCount': 0, '...   \n",
       "1  {1636096: {'rating': 4, 'followersCount': 0, '...   \n",
       "2  {1542146: {'rating': 4, 'followersCount': 56, ...   \n",
       "3  {1978376: {'rating': 5, 'followersCount': 0, '...   \n",
       "4  {1830917: {'rating': 3, 'followersCount': 0, '...   \n",
       "\n",
       "                                                tags  \n",
       "0  north-american;breads;easy;beginner-cook;inexp...  \n",
       "1  weeknight;breads;fruit;vegetables;kid-friendly...  \n",
       "2  healthy;breads;dietary;low-cholesterol;healthy...  \n",
       "3  for-large-groups;healthy;breads;kid-friendly;d...  \n",
       "4  breads;fall;winter;seasonal;quick-breads;4-hou...  "
      ]
     },
     "execution_count": 3,
     "metadata": {},
     "output_type": "execute_result"
    }
   ],
   "source": [
    "df_recipe.head()"
   ]
  },
  {
   "cell_type": "code",
   "execution_count": 5,
   "metadata": {},
   "outputs": [],
   "source": [
    "## ['Title','Cuisine','Calories','Carbohydrates','Fats','Proteins','Category',\n",
    "##  'Typical_serving_size', 'Breakfast','Lunch','Snacks','Dinner']"
   ]
  },
  {
   "cell_type": "code",
   "execution_count": 6,
   "metadata": {},
   "outputs": [],
   "source": [
    "df={}"
   ]
  },
  {
   "cell_type": "code",
   "execution_count": 7,
   "metadata": {},
   "outputs": [],
   "source": [
    "df['Title']=df_recipe['recipe_name'].values"
   ]
  },
  {
   "cell_type": "code",
   "execution_count": 50,
   "metadata": {},
   "outputs": [],
   "source": [
    "remove_punc=['!','\"','.','?',':','/','*','~','#','$','%',';','+','=','[',']','<','>','@','`','^','\\\\','_','{','}','|']\n",
    "remove_punc_str=\"\".join(remove_punc) "
   ]
  },
  {
   "cell_type": "code",
   "execution_count": 51,
   "metadata": {},
   "outputs": [],
   "source": [
    "def clean(s):\n",
    "  s = s.title() # convert to titlecase: All individual words first letter capitalised\n",
    "  s=s.strip() # Remove trailing and leading spaces\n",
    "  s=s.lstrip(string.digits+\" \"+string.punctuation) # remove leading numbers, spaces and punctuations\n",
    "  s = s.translate(str.maketrans({key: None for key in remove_punc_str})) # remove other unnecessary punctuations\n",
    "  if(len(s)>3):\n",
    "    if(s[:2]==\"A \" or s[:3]==\"A'S\" or s[:2]==\"A-\" or s[:2]==\"A)\" or s[:2]==\"A1\" or s[:3]==\"(A)\"):\n",
    "      s=s[2:]\n",
    "  else:\n",
    "    return ''\n",
    "  s=s.lstrip(string.digits+\" \"+string.punctuation) # remove leading numbers, spaces and punctuations\n",
    "  s=s.rstrip(\" \"+remove_punc_str)  # remove trailing spaces and punctuations. Not digits as titles can end with <recipe> for 1\n",
    "  s=re.sub(' +', ' ', s) # remove extra spaces from in between\n",
    "  return s"
   ]
  },
  {
   "cell_type": "code",
   "execution_count": 56,
   "metadata": {},
   "outputs": [],
   "source": [
    "df['Title']=[clean(val) for val in df['Title']]"
   ]
  },
  {
   "cell_type": "code",
   "execution_count": 8,
   "metadata": {},
   "outputs": [],
   "source": [
    "df['Category']=df_recipe['category'].values"
   ]
  },
  {
   "cell_type": "code",
   "execution_count": 9,
   "metadata": {},
   "outputs": [],
   "source": [
    "df['Typical_serving_size']=[100]*len(df_recipe)"
   ]
  },
  {
   "cell_type": "code",
   "execution_count": 10,
   "metadata": {},
   "outputs": [],
   "source": [
    "nutri=[ast.literal_eval(v) for v in df_recipe['nutritions'].values]"
   ]
  },
  {
   "cell_type": "code",
   "execution_count": 11,
   "metadata": {},
   "outputs": [
    {
     "data": {
      "text/plain": [
       "dict_keys(['niacin', 'sugars', 'sodium', 'carbohydrates', 'vitaminB6', 'calories', 'thiamin', 'fat', 'folate', 'caloriesFromFat', 'calcium', 'fiber', 'magnesium', 'iron', 'cholesterol', 'protein', 'vitaminA', 'potassium', 'saturatedFat', 'vitaminC'])"
      ]
     },
     "execution_count": 11,
     "metadata": {},
     "output_type": "execute_result"
    }
   ],
   "source": [
    "nutri[0].keys()"
   ]
  },
  {
   "cell_type": "code",
   "execution_count": 12,
   "metadata": {},
   "outputs": [],
   "source": [
    "df['Calories']=[v['calories']['amount'] for v in nutri]\n",
    "df['Fats']=[v['fat']['amount'] for v in nutri]\n",
    "df['Proteins']=[v['protein']['amount'] for v in nutri]\n",
    "df['Carbohydrates']=[v['carbohydrates']['amount'] for v in nutri]"
   ]
  },
  {
   "cell_type": "code",
   "execution_count": 13,
   "metadata": {},
   "outputs": [],
   "source": [
    "df_cul=pd.read_csv(\"F:/SHRINIVAS/KGP/BTP/Meal-Planning/Data/Culinary-DB/rec.csv\")"
   ]
  },
  {
   "cell_type": "code",
   "execution_count": 14,
   "metadata": {},
   "outputs": [
    {
     "data": {
      "text/html": [
       "<div>\n",
       "<style scoped>\n",
       "    .dataframe tbody tr th:only-of-type {\n",
       "        vertical-align: middle;\n",
       "    }\n",
       "\n",
       "    .dataframe tbody tr th {\n",
       "        vertical-align: top;\n",
       "    }\n",
       "\n",
       "    .dataframe thead th {\n",
       "        text-align: right;\n",
       "    }\n",
       "</style>\n",
       "<table border=\"1\" class=\"dataframe\">\n",
       "  <thead>\n",
       "    <tr style=\"text-align: right;\">\n",
       "      <th></th>\n",
       "      <th>Recipe ID</th>\n",
       "      <th>Title</th>\n",
       "      <th>Source</th>\n",
       "      <th>Cuisine</th>\n",
       "    </tr>\n",
       "  </thead>\n",
       "  <tbody>\n",
       "    <tr>\n",
       "      <th>0</th>\n",
       "      <td>1</td>\n",
       "      <td>5 spice vegetable fried rice</td>\n",
       "      <td>TARLA_DALAL</td>\n",
       "      <td>Indian Subcontinent</td>\n",
       "    </tr>\n",
       "    <tr>\n",
       "      <th>1</th>\n",
       "      <td>2</td>\n",
       "      <td>aachar aaloo</td>\n",
       "      <td>TARLA_DALAL</td>\n",
       "      <td>Indian Subcontinent</td>\n",
       "    </tr>\n",
       "    <tr>\n",
       "      <th>2</th>\n",
       "      <td>3</td>\n",
       "      <td>aadu lassan keri nu athanu</td>\n",
       "      <td>TARLA_DALAL</td>\n",
       "      <td>Indian Subcontinent</td>\n",
       "    </tr>\n",
       "    <tr>\n",
       "      <th>3</th>\n",
       "      <td>4</td>\n",
       "      <td>aaloo kofta</td>\n",
       "      <td>TARLA_DALAL</td>\n",
       "      <td>Indian Subcontinent</td>\n",
       "    </tr>\n",
       "    <tr>\n",
       "      <th>4</th>\n",
       "      <td>5</td>\n",
       "      <td>aaloo tamatar subzi</td>\n",
       "      <td>TARLA_DALAL</td>\n",
       "      <td>Indian Subcontinent</td>\n",
       "    </tr>\n",
       "  </tbody>\n",
       "</table>\n",
       "</div>"
      ],
      "text/plain": [
       "   Recipe ID                         Title       Source              Cuisine\n",
       "0          1  5 spice vegetable fried rice  TARLA_DALAL  Indian Subcontinent\n",
       "1          2                  aachar aaloo  TARLA_DALAL  Indian Subcontinent\n",
       "2          3    aadu lassan keri nu athanu  TARLA_DALAL  Indian Subcontinent\n",
       "3          4                   aaloo kofta  TARLA_DALAL  Indian Subcontinent\n",
       "4          5           aaloo tamatar subzi  TARLA_DALAL  Indian Subcontinent"
      ]
     },
     "execution_count": 14,
     "metadata": {},
     "output_type": "execute_result"
    }
   ],
   "source": [
    "df_cul.head()"
   ]
  },
  {
   "cell_type": "code",
   "execution_count": 15,
   "metadata": {},
   "outputs": [],
   "source": [
    "titles=df_cul['Title'].values\n",
    "cuisine=df_cul['Cuisine'].values\n",
    "cuisines={titles[i]:cuisine[i] for i in range(len(titles))}\n",
    "cnt=0\n",
    "for val in df['Title']:\n",
    "    if val in cuisines:\n",
    "        cnt+=1"
   ]
  },
  {
   "cell_type": "code",
   "execution_count": 16,
   "metadata": {},
   "outputs": [
    {
     "data": {
      "text/plain": [
       "2630"
      ]
     },
     "execution_count": 16,
     "metadata": {},
     "output_type": "execute_result"
    }
   ],
   "source": [
    "cnt"
   ]
  },
  {
   "cell_type": "code",
   "execution_count": 17,
   "metadata": {},
   "outputs": [
    {
     "data": {
      "text/plain": [
       "array(['Indian Subcontinent', 'Africa', 'China', 'Thailand',\n",
       "       'South East Asia', 'Middle East', 'Korea', 'Japan',\n",
       "       'Australia & NZ', 'Mexico', 'Caribbean', 'South America',\n",
       "       'Misc.: Belgian', 'DACH Countries', 'Greece', 'France',\n",
       "       'Misc.: Portugal', 'Italy', 'Misc.: Dutch', 'British Isles',\n",
       "       'Scandinavia', 'Eastern Europe', 'Spain', 'USA', 'Canada',\n",
       "       'Misc.: Central America'], dtype=object)"
      ]
     },
     "execution_count": 17,
     "metadata": {},
     "output_type": "execute_result"
    }
   ],
   "source": [
    "df_cul['Cuisine'].unique()"
   ]
  },
  {
   "cell_type": "code",
   "execution_count": 63,
   "metadata": {},
   "outputs": [],
   "source": [
    "tags=df_recipe['tags'].values\n",
    "nlp = spacy.load('en_core_web_sm')\n",
    "scores={\n",
    "    \"NORP\": 1,\n",
    "    \"ORG\": 3,\n",
    "    \"GPE\": 0,\n",
    "    \"LOC\": 2,\n",
    "}\n",
    "titles=df_cul['Title'].values\n",
    "titles=[clean(val) for val in titles]\n",
    "cuisine=df_cul['Cuisine'].values\n",
    "data={titles[i]:cuisine[i] for i in range(len(titles))}"
   ]
  },
  {
   "cell_type": "code",
   "execution_count": 64,
   "metadata": {},
   "outputs": [
    {
     "name": "stderr",
     "output_type": "stream",
     "text": [
      "100%|██████████| 7280/7280 [01:42<00:00, 71.34it/s] \n"
     ]
    }
   ],
   "source": [
    "cuisines=[]\n",
    "for id,val in enumerate(tqdm(tags)):\n",
    "    if(df['Title'][id] in data):\n",
    "        cuisines.append(data[df['Title'][id]])\n",
    "        continue\n",
    "    doc = nlp(str(val).replace(';',' ').replace('-',' '))\n",
    "    ents=[]\n",
    "    for e in doc.ents:\n",
    "        if (e.label_==\"NORP\" or e.label_==\"LOC\" or e.label_==\"GPE\" or e.label_==\"ORG\"):\n",
    "            ents.append([scores[e.label_],e.text])\n",
    "\n",
    "    ents=sorted(ents)\n",
    "    if(len(ents)>0):\n",
    "        cuisines.append(ents[0][1])\n",
    "    else:\n",
    "        cuisines.append(\"\")"
   ]
  },
  {
   "cell_type": "code",
   "execution_count": 62,
   "metadata": {},
   "outputs": [
    {
     "data": {
      "text/plain": [
       "3648"
      ]
     },
     "execution_count": 62,
     "metadata": {},
     "output_type": "execute_result"
    }
   ],
   "source": [
    "len([1 for val in cuisines if len(val)!=0])"
   ]
  },
  {
   "cell_type": "code",
   "execution_count": 65,
   "metadata": {},
   "outputs": [],
   "source": [
    "count=defaultdict(int)\n",
    "for val in cuisines:\n",
    "    count[val]+=1"
   ]
  },
  {
   "cell_type": "code",
   "execution_count": 66,
   "metadata": {},
   "outputs": [
    {
     "data": {
      "text/plain": [
       "defaultdict(int,\n",
       "            {'north american': 160,\n",
       "             '': 3250,\n",
       "             'breads': 1,\n",
       "             'USA': 781,\n",
       "             'american': 593,\n",
       "             'european': 183,\n",
       "             'Italy': 448,\n",
       "             'Middle East': 40,\n",
       "             'South East Asia': 30,\n",
       "             'Canada': 159,\n",
       "             'France': 82,\n",
       "             'Mexico': 372,\n",
       "             'British Isles': 68,\n",
       "             'Australia & NZ': 124,\n",
       "             'english': 12,\n",
       "             'Misc.: Dutch': 4,\n",
       "             'southern united states': 25,\n",
       "             'Greece': 81,\n",
       "             'Scandinavia': 27,\n",
       "             'DACH Countries': 38,\n",
       "             'canadian': 55,\n",
       "             'Spain': 16,\n",
       "             'asian': 145,\n",
       "             'Eastern Europe': 43,\n",
       "             'Caribbean': 48,\n",
       "             'french': 8,\n",
       "             'China': 59,\n",
       "             'australian': 27,\n",
       "             'mexican': 39,\n",
       "             'Japan': 31,\n",
       "             'african asian': 1,\n",
       "             'Africa': 39,\n",
       "             'greek': 4,\n",
       "             'Thailand': 46,\n",
       "             'united states': 58,\n",
       "             'scottish': 2,\n",
       "             'south african': 2,\n",
       "             'british': 8,\n",
       "             'Misc.: Belgian': 1,\n",
       "             'scandinavian european dinner party': 1,\n",
       "             'Misc.: Portugal': 9,\n",
       "             'South America': 16,\n",
       "             'italian': 4,\n",
       "             'pennsylvania': 4,\n",
       "             'Indian Subcontinent': 63,\n",
       "             'african': 13,\n",
       "             'german': 4,\n",
       "             'irish': 1,\n",
       "             'asian thai': 1,\n",
       "             'rosh': 1,\n",
       "             'south west pacific': 2,\n",
       "             'new zealand': 5,\n",
       "             'french european': 1,\n",
       "             'central american': 1,\n",
       "             'brazilian': 1,\n",
       "             'european potluck dinner': 1,\n",
       "             'czech': 1,\n",
       "             'northeastern united states': 4,\n",
       "             'Korea': 13,\n",
       "             'south american': 8,\n",
       "             'danish': 1,\n",
       "             'superbowl': 1,\n",
       "             'hawaiian': 3,\n",
       "             'winter one': 1,\n",
       "             'melanesia': 1,\n",
       "             'asian korean': 1,\n",
       "             'dutch': 1,\n",
       "             'argentine': 1,\n",
       "             'mango': 1,\n",
       "             'cookies': 1,\n",
       "             'lebanese': 1,\n",
       "             'norwegian': 1,\n",
       "             'ecuadorean': 1,\n",
       "             'caribbean central american': 1})"
      ]
     },
     "execution_count": 66,
     "metadata": {},
     "output_type": "execute_result"
    }
   ],
   "source": [
    "count"
   ]
  },
  {
   "cell_type": "markdown",
   "metadata": {},
   "source": [
    "### Final\n",
    "\n",
    "- North America 160+594+1\n",
    "- United States 781+25+58+4+1+1\n",
    "- Europe 184+12+38+2+8+4+1+1+1+4+1+9+16\n",
    "- Canada 159+56\n",
    "- Italy 446+4\n",
    "- Australia & NZ 124+27\n",
    "- Mexico 372+39\n",
    "- Middle East 39+1\n",
    "- Eastern Europe 27+43\n",
    "- Africa 1+39+2+13\n",
    "- South East Asia 30+2+46\n",
    "- France 82+8+1\n",
    "- British Isles 68\n",
    "- Greece 81+4\n",
    "- Asia 146+1\n",
    "- South America 48+16+1+1\n",
    "- China 58\n",
    "- Japan 30\n",
    "- Indian Subcontinent 60\n",
    "- Korea 13+1"
   ]
  },
  {
   "cell_type": "code",
   "execution_count": 67,
   "metadata": {},
   "outputs": [],
   "source": [
    "replacements={\n",
    "    'breads': '',\n",
    "    'mango':'',\n",
    "    'cookies': '',\n",
    "    'rosh': '',\n",
    "    'winter one': '',\n",
    "    'USA': 'United States',\n",
    "    'american': 'North America',\n",
    "    'english': 'Europe',\n",
    "    'southern united states': 'United States',\n",
    "    'north american': 'North America',\n",
    "    'canadian': 'Canada',\n",
    "    'australian': 'Australia & NZ',\n",
    "    'mexican': 'Mexico',\n",
    "    'lebanese': 'Middle East',\n",
    "    'african asian': 'Africa',\n",
    "    'south african': 'Africa',\n",
    "    'british': 'Europe',\n",
    "    'scandinavian european dinner party': 'Eastern Europe',\n",
    "    'Scandinavia': 'Eastern Europe',\n",
    "    'DACH Countries': 'Europe',\n",
    "    'french': 'France',\n",
    "    'greek': 'Greece',\n",
    "    'united states': 'United States',\n",
    "    'scottish': 'Europe',\n",
    "    'Caribbean': 'South America',\n",
    "    'italian': 'Italy',\n",
    "    'african': 'Africa',\n",
    "    'german': 'Europe',\n",
    "    'irish': 'Europe',\n",
    "    'asian thai': 'Asia',\n",
    "    'asian': 'Asia',\n",
    "    'south west pacific': 'South East Asia',\n",
    "    'new zealand': 'Australia & NZ',\n",
    "    'french european': 'France',\n",
    "    'central american': 'North America',\n",
    "    'brazilian': 'Europe',\n",
    "    'european potluck dinner': 'Europe',\n",
    "    'czech':'Europe',\n",
    "    'northeastern united states': 'North America',\n",
    "    'south american': 'South America',\n",
    "    'danish': 'Europe',\n",
    "    'superbowl': 'United States',\n",
    "    'hawaiian': 'United States',\n",
    "    'iranian': 'Middle East',\n",
    "    'asian korean': 'Korea',\n",
    "    'dutch': 'Europe',\n",
    "    'argentine': 'South America',\n",
    "    'norwegian': 'Europe',\n",
    "    'ecuadorean': 'South America',\n",
    "    'caribbean central american': 'South America',\n",
    "    'Misc.: Belgian': 'Europe',\n",
    "    'Misc.: Dutch': 'Europe',\n",
    "    'Misc.: Portugal': 'Europe',\n",
    "    'pennsylvania': 'United States',\n",
    "    'Spain': 'Europe',\n",
    "    'Thailand': 'South East Asia',\n",
    "    'melanesia': 'South East Asia',\n",
    "    'european': 'Europe'\n",
    "}"
   ]
  },
  {
   "cell_type": "code",
   "execution_count": 68,
   "metadata": {},
   "outputs": [],
   "source": [
    "cuisines=[replacements[k] if k in replacements else k for k in cuisines]"
   ]
  },
  {
   "cell_type": "code",
   "execution_count": 70,
   "metadata": {},
   "outputs": [
    {
     "name": "stdout",
     "output_type": "stream",
     "text": [
      "4025\n"
     ]
    },
    {
     "data": {
      "text/plain": [
       "defaultdict(int,\n",
       "            {'North America': 758,\n",
       "             '': 3255,\n",
       "             'United States': 872,\n",
       "             'Europe': 284,\n",
       "             'Italy': 452,\n",
       "             'Middle East': 41,\n",
       "             'South East Asia': 79,\n",
       "             'Canada': 214,\n",
       "             'France': 91,\n",
       "             'Mexico': 411,\n",
       "             'British Isles': 68,\n",
       "             'Australia & NZ': 156,\n",
       "             'Greece': 85,\n",
       "             'Eastern Europe': 71,\n",
       "             'Asia': 146,\n",
       "             'South America': 75,\n",
       "             'China': 59,\n",
       "             'Japan': 31,\n",
       "             'Africa': 55,\n",
       "             'Indian Subcontinent': 63,\n",
       "             'Korea': 14})"
      ]
     },
     "execution_count": 70,
     "metadata": {},
     "output_type": "execute_result"
    }
   ],
   "source": [
    "count=defaultdict(int)\n",
    "cnt=0\n",
    "for val in cuisines:\n",
    "    count[val]+=1\n",
    "    if val!='':\n",
    "        cnt+=1\n",
    "print(cnt)\n",
    "count"
   ]
  },
  {
   "cell_type": "code",
   "execution_count": 71,
   "metadata": {},
   "outputs": [],
   "source": [
    "df['Cuisine']=cuisines"
   ]
  },
  {
   "cell_type": "code",
   "execution_count": 72,
   "metadata": {},
   "outputs": [],
   "source": [
    "df_kgl=pd.read_csv(\"F:\\SHRINIVAS\\KGP\\BTP\\Meal-Planning\\Data\\Kaggle Meal Plan\\kaggle_summary.csv\")"
   ]
  },
  {
   "cell_type": "code",
   "execution_count": 73,
   "metadata": {},
   "outputs": [
    {
     "data": {
      "text/html": [
       "<div>\n",
       "<style scoped>\n",
       "    .dataframe tbody tr th:only-of-type {\n",
       "        vertical-align: middle;\n",
       "    }\n",
       "\n",
       "    .dataframe tbody tr th {\n",
       "        vertical-align: top;\n",
       "    }\n",
       "\n",
       "    .dataframe thead th {\n",
       "        text-align: right;\n",
       "    }\n",
       "</style>\n",
       "<table border=\"1\" class=\"dataframe\">\n",
       "  <thead>\n",
       "    <tr style=\"text-align: right;\">\n",
       "      <th></th>\n",
       "      <th>Unnamed: 0</th>\n",
       "      <th>Title</th>\n",
       "      <th>Breakfast</th>\n",
       "      <th>Lunch</th>\n",
       "      <th>Snacks</th>\n",
       "      <th>Dinner</th>\n",
       "    </tr>\n",
       "  </thead>\n",
       "  <tbody>\n",
       "    <tr>\n",
       "      <th>0</th>\n",
       "      <td>0</td>\n",
       "      <td>Cherry Poke Cake</td>\n",
       "      <td>0</td>\n",
       "      <td>1</td>\n",
       "      <td>0</td>\n",
       "      <td>1</td>\n",
       "    </tr>\n",
       "    <tr>\n",
       "      <th>1</th>\n",
       "      <td>1</td>\n",
       "      <td>Complete Breakfast Smoothie</td>\n",
       "      <td>0</td>\n",
       "      <td>1</td>\n",
       "      <td>0</td>\n",
       "      <td>1</td>\n",
       "    </tr>\n",
       "    <tr>\n",
       "      <th>2</th>\n",
       "      <td>2</td>\n",
       "      <td>Jambalaya</td>\n",
       "      <td>0</td>\n",
       "      <td>1</td>\n",
       "      <td>0</td>\n",
       "      <td>1</td>\n",
       "    </tr>\n",
       "    <tr>\n",
       "      <th>3</th>\n",
       "      <td>3</td>\n",
       "      <td>Lemon Icebox Pie</td>\n",
       "      <td>0</td>\n",
       "      <td>1</td>\n",
       "      <td>0</td>\n",
       "      <td>1</td>\n",
       "    </tr>\n",
       "    <tr>\n",
       "      <th>4</th>\n",
       "      <td>4</td>\n",
       "      <td>Dish Chicken Parmesan</td>\n",
       "      <td>0</td>\n",
       "      <td>0</td>\n",
       "      <td>0</td>\n",
       "      <td>1</td>\n",
       "    </tr>\n",
       "  </tbody>\n",
       "</table>\n",
       "</div>"
      ],
      "text/plain": [
       "   Unnamed: 0                        Title  Breakfast  Lunch  Snacks  Dinner\n",
       "0           0             Cherry Poke Cake          0      1       0       1\n",
       "1           1  Complete Breakfast Smoothie          0      1       0       1\n",
       "2           2                    Jambalaya          0      1       0       1\n",
       "3           3             Lemon Icebox Pie          0      1       0       1\n",
       "4           4        Dish Chicken Parmesan          0      0       0       1"
      ]
     },
     "execution_count": 73,
     "metadata": {},
     "output_type": "execute_result"
    }
   ],
   "source": [
    "df_kgl.head()"
   ]
  },
  {
   "cell_type": "code",
   "execution_count": 74,
   "metadata": {},
   "outputs": [],
   "source": [
    "titles=set(df_kgl['Title'].values)"
   ]
  },
  {
   "cell_type": "code",
   "execution_count": 75,
   "metadata": {},
   "outputs": [],
   "source": [
    "cnt=0\n",
    "for val in df['Title']:\n",
    "    if val in titles:\n",
    "        cnt+=1"
   ]
  },
  {
   "cell_type": "code",
   "execution_count": 76,
   "metadata": {},
   "outputs": [
    {
     "data": {
      "text/plain": [
       "6225"
      ]
     },
     "execution_count": 76,
     "metadata": {},
     "output_type": "execute_result"
    }
   ],
   "source": [
    "cnt"
   ]
  },
  {
   "cell_type": "code",
   "execution_count": 99,
   "metadata": {},
   "outputs": [],
   "source": [
    "titles=df_kgl['Title'].values\n",
    "meal=df_kgl['Breakfast'].values\n",
    "data={titles[i]:meal[i] for i in range(len(titles))}\n",
    "df['Breakfast']=[data[k] if k in data else -1 for k in df['Title']]\n",
    "\n",
    "meal=df_kgl['Lunch'].values\n",
    "data={titles[i]:meal[i] for i in range(len(titles))}\n",
    "df['Lunch']=[data[k] if k in data else -1 for k in df['Title']]\n",
    "\n",
    "meal=df_kgl['Snacks'].values\n",
    "data={titles[i]:meal[i] for i in range(len(titles))}\n",
    "df['Snacks']=[data[k] if k in data else -1 for k in df['Title']]\n",
    "\n",
    "meal=df_kgl['Dinner'].values\n",
    "data={titles[i]:meal[i] for i in range(len(titles))}\n",
    "df['Dinner']=[data[k] if k in data else -1 for k in df['Title']]"
   ]
  },
  {
   "cell_type": "code",
   "execution_count": 100,
   "metadata": {},
   "outputs": [],
   "source": [
    "df['ID']=[i+1 for i in range(len(df['Title']))]"
   ]
  },
  {
   "cell_type": "code",
   "execution_count": 101,
   "metadata": {},
   "outputs": [
    {
     "data": {
      "text/plain": [
       "Index(['ID', 'Title', 'Category', 'Cuisine', 'Calories', 'Fats', 'Proteins',\n",
       "       'Carbohydrates', 'Breakfast', 'Lunch', 'Snacks', 'Dinner',\n",
       "       'Typical_serving_size'],\n",
       "      dtype='object')"
      ]
     },
     "execution_count": 101,
     "metadata": {},
     "output_type": "execute_result"
    }
   ],
   "source": [
    "df.keys()"
   ]
  },
  {
   "cell_type": "code",
   "execution_count": 102,
   "metadata": {},
   "outputs": [],
   "source": [
    "df=pd.DataFrame(df)\n",
    "df=df[['ID', 'Title', 'Category','Cuisine', 'Calories', 'Fats',\n",
    "       'Proteins', 'Carbohydrates', 'Breakfast', 'Lunch', 'Snacks',\n",
    "       'Dinner','Typical_serving_size']]"
   ]
  },
  {
   "cell_type": "code",
   "execution_count": 104,
   "metadata": {},
   "outputs": [
    {
     "data": {
      "text/html": [
       "<div>\n",
       "<style scoped>\n",
       "    .dataframe tbody tr th:only-of-type {\n",
       "        vertical-align: middle;\n",
       "    }\n",
       "\n",
       "    .dataframe tbody tr th {\n",
       "        vertical-align: top;\n",
       "    }\n",
       "\n",
       "    .dataframe thead th {\n",
       "        text-align: right;\n",
       "    }\n",
       "</style>\n",
       "<table border=\"1\" class=\"dataframe\">\n",
       "  <thead>\n",
       "    <tr style=\"text-align: right;\">\n",
       "      <th></th>\n",
       "      <th>ID</th>\n",
       "      <th>Title</th>\n",
       "      <th>Category</th>\n",
       "      <th>Cuisine</th>\n",
       "      <th>Calories</th>\n",
       "      <th>Fats</th>\n",
       "      <th>Proteins</th>\n",
       "      <th>Carbohydrates</th>\n",
       "      <th>Breakfast</th>\n",
       "      <th>Lunch</th>\n",
       "      <th>Snacks</th>\n",
       "      <th>Dinner</th>\n",
       "      <th>Typical_serving_size</th>\n",
       "    </tr>\n",
       "  </thead>\n",
       "  <tbody>\n",
       "    <tr>\n",
       "      <th>240</th>\n",
       "      <td>241</td>\n",
       "      <td>Chocolate Decadence Cake I</td>\n",
       "      <td>dessert</td>\n",
       "      <td>NaN</td>\n",
       "      <td>424.7165</td>\n",
       "      <td>31.142550</td>\n",
       "      <td>4.968791</td>\n",
       "      <td>38.494020</td>\n",
       "      <td>0</td>\n",
       "      <td>1</td>\n",
       "      <td>0</td>\n",
       "      <td>1</td>\n",
       "      <td>100</td>\n",
       "    </tr>\n",
       "    <tr>\n",
       "      <th>1856</th>\n",
       "      <td>1857</td>\n",
       "      <td>Hot Chipped Beef Dip</td>\n",
       "      <td>appetizer</td>\n",
       "      <td>NaN</td>\n",
       "      <td>255.1890</td>\n",
       "      <td>25.310290</td>\n",
       "      <td>4.726992</td>\n",
       "      <td>3.193869</td>\n",
       "      <td>0</td>\n",
       "      <td>0</td>\n",
       "      <td>0</td>\n",
       "      <td>1</td>\n",
       "      <td>100</td>\n",
       "    </tr>\n",
       "    <tr>\n",
       "      <th>6508</th>\n",
       "      <td>6509</td>\n",
       "      <td>Light And Easy Greek Potato Salad</td>\n",
       "      <td>appetizer</td>\n",
       "      <td>Greece</td>\n",
       "      <td>105.0407</td>\n",
       "      <td>6.856941</td>\n",
       "      <td>1.202796</td>\n",
       "      <td>10.399120</td>\n",
       "      <td>0</td>\n",
       "      <td>1</td>\n",
       "      <td>0</td>\n",
       "      <td>1</td>\n",
       "      <td>100</td>\n",
       "    </tr>\n",
       "    <tr>\n",
       "      <th>856</th>\n",
       "      <td>857</td>\n",
       "      <td>Pumpkin Whoopie Pies</td>\n",
       "      <td>dessert</td>\n",
       "      <td>NaN</td>\n",
       "      <td>424.8207</td>\n",
       "      <td>21.677300</td>\n",
       "      <td>3.410936</td>\n",
       "      <td>55.756290</td>\n",
       "      <td>0</td>\n",
       "      <td>0</td>\n",
       "      <td>1</td>\n",
       "      <td>1</td>\n",
       "      <td>100</td>\n",
       "    </tr>\n",
       "    <tr>\n",
       "      <th>4114</th>\n",
       "      <td>4115</td>\n",
       "      <td>Black-Eyed Pea Dip</td>\n",
       "      <td>appetizer</td>\n",
       "      <td>Mexico</td>\n",
       "      <td>123.4825</td>\n",
       "      <td>7.128050</td>\n",
       "      <td>2.929962</td>\n",
       "      <td>12.786940</td>\n",
       "      <td>-1</td>\n",
       "      <td>-1</td>\n",
       "      <td>-1</td>\n",
       "      <td>-1</td>\n",
       "      <td>100</td>\n",
       "    </tr>\n",
       "  </tbody>\n",
       "</table>\n",
       "</div>"
      ],
      "text/plain": [
       "        ID                              Title   Category Cuisine  Calories  \\\n",
       "240    241         Chocolate Decadence Cake I    dessert     NaN  424.7165   \n",
       "1856  1857               Hot Chipped Beef Dip  appetizer     NaN  255.1890   \n",
       "6508  6509  Light And Easy Greek Potato Salad  appetizer  Greece  105.0407   \n",
       "856    857               Pumpkin Whoopie Pies    dessert     NaN  424.8207   \n",
       "4114  4115                 Black-Eyed Pea Dip  appetizer  Mexico  123.4825   \n",
       "\n",
       "           Fats  Proteins  Carbohydrates  Breakfast  Lunch  Snacks  Dinner  \\\n",
       "240   31.142550  4.968791      38.494020          0      1       0       1   \n",
       "1856  25.310290  4.726992       3.193869          0      0       0       1   \n",
       "6508   6.856941  1.202796      10.399120          0      1       0       1   \n",
       "856   21.677300  3.410936      55.756290          0      0       1       1   \n",
       "4114   7.128050  2.929962      12.786940         -1     -1      -1      -1   \n",
       "\n",
       "      Typical_serving_size  \n",
       "240                    100  \n",
       "1856                   100  \n",
       "6508                   100  \n",
       "856                    100  \n",
       "4114                   100  "
      ]
     },
     "execution_count": 104,
     "metadata": {},
     "output_type": "execute_result"
    }
   ],
   "source": [
    "df.sample(5)"
   ]
  },
  {
   "cell_type": "code",
   "execution_count": 105,
   "metadata": {},
   "outputs": [],
   "source": [
    "df.to_csv('F:\\SHRINIVAS\\KGP\\BTP\\Meal-Planning\\Data\\Processed\\dishes.csv',index=False)"
   ]
  },
  {
   "cell_type": "markdown",
   "metadata": {},
   "source": [
    "## Ingredients"
   ]
  },
  {
   "cell_type": "code",
   "execution_count": 4,
   "metadata": {},
   "outputs": [
    {
     "data": {
      "text/html": [
       "<div>\n",
       "<style scoped>\n",
       "    .dataframe tbody tr th:only-of-type {\n",
       "        vertical-align: middle;\n",
       "    }\n",
       "\n",
       "    .dataframe tbody tr th {\n",
       "        vertical-align: top;\n",
       "    }\n",
       "\n",
       "    .dataframe thead th {\n",
       "        text-align: right;\n",
       "    }\n",
       "</style>\n",
       "<table border=\"1\" class=\"dataframe\">\n",
       "  <thead>\n",
       "    <tr style=\"text-align: right;\">\n",
       "      <th></th>\n",
       "      <th>Unnamed: 0</th>\n",
       "      <th>recipe_id</th>\n",
       "      <th>recipe_name</th>\n",
       "      <th>review_nums</th>\n",
       "      <th>category</th>\n",
       "      <th>aver_rate</th>\n",
       "      <th>image_url</th>\n",
       "      <th>ingredients</th>\n",
       "      <th>cooking_directions</th>\n",
       "      <th>nutritions</th>\n",
       "      <th>reviews</th>\n",
       "      <th>tags</th>\n",
       "    </tr>\n",
       "  </thead>\n",
       "  <tbody>\n",
       "    <tr>\n",
       "      <th>0</th>\n",
       "      <td>0</td>\n",
       "      <td>6698</td>\n",
       "      <td>Mom's Zucchini Bread</td>\n",
       "      <td>9355</td>\n",
       "      <td>appetizer</td>\n",
       "      <td>4.754207</td>\n",
       "      <td>https://images.media-allrecipes.com/userphotos...</td>\n",
       "      <td>all-purpose flour^salt^baking soda^baking powd...</td>\n",
       "      <td>{'directions': u'Prep\\n20 m\\nCook\\n1 h\\nReady ...</td>\n",
       "      <td>{u'niacin': {u'hasCompleteData': True, u'name'...</td>\n",
       "      <td>{9568256: {'rating': 5, 'followersCount': 0, '...</td>\n",
       "      <td>north-american;breads;easy;beginner-cook;inexp...</td>\n",
       "    </tr>\n",
       "    <tr>\n",
       "      <th>1</th>\n",
       "      <td>1</td>\n",
       "      <td>6709</td>\n",
       "      <td>Zucchini Walnut Bread</td>\n",
       "      <td>58</td>\n",
       "      <td>appetizer</td>\n",
       "      <td>4.478873</td>\n",
       "      <td>http://images.media-allrecipes.com/userphotos/...</td>\n",
       "      <td>chopped walnuts^eggs^white sugar^vegetable oil...</td>\n",
       "      <td>{'directions': u'Whisk together flour, baking ...</td>\n",
       "      <td>{u'niacin': {u'hasCompleteData': True, u'name'...</td>\n",
       "      <td>{1636096: {'rating': 4, 'followersCount': 0, '...</td>\n",
       "      <td>weeknight;breads;fruit;vegetables;kid-friendly...</td>\n",
       "    </tr>\n",
       "    <tr>\n",
       "      <th>2</th>\n",
       "      <td>2</td>\n",
       "      <td>6725</td>\n",
       "      <td>Honey Wheat Bread I</td>\n",
       "      <td>2054</td>\n",
       "      <td>appetizer</td>\n",
       "      <td>4.766846</td>\n",
       "      <td>http://images.media-allrecipes.com/userphotos/...</td>\n",
       "      <td>rapid rise yeast^white sugar^warm water (110 d...</td>\n",
       "      <td>{'directions': u'Prep\\n25 m\\nCook\\n35 m\\nReady...</td>\n",
       "      <td>{u'niacin': {u'hasCompleteData': True, u'name'...</td>\n",
       "      <td>{1542146: {'rating': 4, 'followersCount': 56, ...</td>\n",
       "      <td>healthy;breads;dietary;low-cholesterol;healthy...</td>\n",
       "    </tr>\n",
       "    <tr>\n",
       "      <th>3</th>\n",
       "      <td>3</td>\n",
       "      <td>6730</td>\n",
       "      <td>Chocolate Chip Orange Zucchini Bread</td>\n",
       "      <td>503</td>\n",
       "      <td>dessert</td>\n",
       "      <td>4.674833</td>\n",
       "      <td>https://images.media-allrecipes.com/userphotos...</td>\n",
       "      <td>eggs^white sugar^vegetable oil^vanilla extract...</td>\n",
       "      <td>{'directions': u'Sift together flour, baking p...</td>\n",
       "      <td>{u'niacin': {u'hasCompleteData': True, u'name'...</td>\n",
       "      <td>{1978376: {'rating': 5, 'followersCount': 0, '...</td>\n",
       "      <td>for-large-groups;healthy;breads;kid-friendly;d...</td>\n",
       "    </tr>\n",
       "    <tr>\n",
       "      <th>4</th>\n",
       "      <td>4</td>\n",
       "      <td>6732</td>\n",
       "      <td>Chocolate Chip Pumpkin Bread</td>\n",
       "      <td>866</td>\n",
       "      <td>dessert</td>\n",
       "      <td>4.718112</td>\n",
       "      <td>https://images.media-allrecipes.com/userphotos...</td>\n",
       "      <td>white sugar^pumpkin puree^vegetable oil^water^...</td>\n",
       "      <td>{'directions': u'Prep\\n30 m\\nCook\\n1 h\\nReady ...</td>\n",
       "      <td>{u'niacin': {u'hasCompleteData': True, u'name'...</td>\n",
       "      <td>{1830917: {'rating': 3, 'followersCount': 0, '...</td>\n",
       "      <td>breads;fall;winter;seasonal;quick-breads;4-hou...</td>\n",
       "    </tr>\n",
       "  </tbody>\n",
       "</table>\n",
       "</div>"
      ],
      "text/plain": [
       "   Unnamed: 0  recipe_id                           recipe_name  review_nums  \\\n",
       "0           0       6698                  Mom's Zucchini Bread         9355   \n",
       "1           1       6709                 Zucchini Walnut Bread           58   \n",
       "2           2       6725                   Honey Wheat Bread I         2054   \n",
       "3           3       6730  Chocolate Chip Orange Zucchini Bread          503   \n",
       "4           4       6732          Chocolate Chip Pumpkin Bread          866   \n",
       "\n",
       "    category  aver_rate                                          image_url  \\\n",
       "0  appetizer   4.754207  https://images.media-allrecipes.com/userphotos...   \n",
       "1  appetizer   4.478873  http://images.media-allrecipes.com/userphotos/...   \n",
       "2  appetizer   4.766846  http://images.media-allrecipes.com/userphotos/...   \n",
       "3    dessert   4.674833  https://images.media-allrecipes.com/userphotos...   \n",
       "4    dessert   4.718112  https://images.media-allrecipes.com/userphotos...   \n",
       "\n",
       "                                         ingredients  \\\n",
       "0  all-purpose flour^salt^baking soda^baking powd...   \n",
       "1  chopped walnuts^eggs^white sugar^vegetable oil...   \n",
       "2  rapid rise yeast^white sugar^warm water (110 d...   \n",
       "3  eggs^white sugar^vegetable oil^vanilla extract...   \n",
       "4  white sugar^pumpkin puree^vegetable oil^water^...   \n",
       "\n",
       "                                  cooking_directions  \\\n",
       "0  {'directions': u'Prep\\n20 m\\nCook\\n1 h\\nReady ...   \n",
       "1  {'directions': u'Whisk together flour, baking ...   \n",
       "2  {'directions': u'Prep\\n25 m\\nCook\\n35 m\\nReady...   \n",
       "3  {'directions': u'Sift together flour, baking p...   \n",
       "4  {'directions': u'Prep\\n30 m\\nCook\\n1 h\\nReady ...   \n",
       "\n",
       "                                          nutritions  \\\n",
       "0  {u'niacin': {u'hasCompleteData': True, u'name'...   \n",
       "1  {u'niacin': {u'hasCompleteData': True, u'name'...   \n",
       "2  {u'niacin': {u'hasCompleteData': True, u'name'...   \n",
       "3  {u'niacin': {u'hasCompleteData': True, u'name'...   \n",
       "4  {u'niacin': {u'hasCompleteData': True, u'name'...   \n",
       "\n",
       "                                             reviews  \\\n",
       "0  {9568256: {'rating': 5, 'followersCount': 0, '...   \n",
       "1  {1636096: {'rating': 4, 'followersCount': 0, '...   \n",
       "2  {1542146: {'rating': 4, 'followersCount': 56, ...   \n",
       "3  {1978376: {'rating': 5, 'followersCount': 0, '...   \n",
       "4  {1830917: {'rating': 3, 'followersCount': 0, '...   \n",
       "\n",
       "                                                tags  \n",
       "0  north-american;breads;easy;beginner-cook;inexp...  \n",
       "1  weeknight;breads;fruit;vegetables;kid-friendly...  \n",
       "2  healthy;breads;dietary;low-cholesterol;healthy...  \n",
       "3  for-large-groups;healthy;breads;kid-friendly;d...  \n",
       "4  breads;fall;winter;seasonal;quick-breads;4-hou...  "
      ]
     },
     "execution_count": 4,
     "metadata": {},
     "output_type": "execute_result"
    }
   ],
   "source": [
    "df_recipe.head()"
   ]
  },
  {
   "cell_type": "code",
   "execution_count": 5,
   "metadata": {},
   "outputs": [],
   "source": [
    "ings=df_recipe['ingredients'].values"
   ]
  },
  {
   "cell_type": "code",
   "execution_count": 6,
   "metadata": {},
   "outputs": [
    {
     "data": {
      "text/plain": [
       "'all-purpose flour salt baking soda baking powder ground cinnamon eggs vegetable oil white sugar vanilla extract grated zucchini chopped walnuts'"
      ]
     },
     "execution_count": 6,
     "metadata": {},
     "output_type": "execute_result"
    }
   ],
   "source": [
    "' '.join(ings[0].split('^'))"
   ]
  },
  {
   "cell_type": "code",
   "execution_count": 8,
   "metadata": {},
   "outputs": [
    {
     "name": "stderr",
     "output_type": "stream",
     "text": [
      "100%|██████████| 7280/7280 [02:19<00:00, 52.12it/s]\n"
     ]
    }
   ],
   "source": [
    "# all_ings=set()\n",
    "cnt=0\n",
    "for ing in tqdm(ings):\n",
    "    for val in ing.split('^'):\n",
    "        tags=nltk.pos_tag(val.split(' '))"
   ]
  },
  {
   "cell_type": "code",
   "execution_count": 9,
   "metadata": {},
   "outputs": [
    {
     "data": {
      "text/plain": [
       "0"
      ]
     },
     "execution_count": 9,
     "metadata": {},
     "output_type": "execute_result"
    }
   ],
   "source": [
    "cnt"
   ]
  },
  {
   "cell_type": "code",
   "execution_count": null,
   "metadata": {},
   "outputs": [
    {
     "name": "stdout",
     "output_type": "stream",
     "text": [
      "[('all-purpose', 'JJ'), ('flour', 'NN'), ('salt', 'NN'), ('baking', 'VBG'), ('soda', 'NN'), ('baking', 'VBG'), ('powder', 'NN'), ('ground', 'NN'), ('cinnamon', 'NN'), ('eggs', 'NNS'), ('vegetable', 'JJ'), ('oil', 'NN'), ('white', 'JJ'), ('sugar', 'NN'), ('vanilla', 'NN'), ('extract', 'NN'), ('grated', 'VBD'), ('zucchini', 'NNP'), ('chopped', 'VBD'), ('walnuts', 'NNS')]\n"
     ]
    }
   ],
   "source": [
    "pos_tagged=nltk.pos_tag(nltk.tokenize.word_tokenize(\"all-purpose flour salt baking soda baking powder ground cinnamon eggs vegetable oil white sugar vanilla extract grated zucchini chopped walnuts\"))\n",
    "print(pos_tagged)"
   ]
  },
  {
   "cell_type": "code",
   "execution_count": null,
   "metadata": {},
   "outputs": [
    {
     "name": "stdout",
     "output_type": "stream",
     "text": [
      "[('eggs', 'NNS'), ('rise', 'VBP'), ('yeast', 'RB'), ('white', 'JJ'), ('sugar', 'NN'), ('warm', 'JJ'), ('water', 'NN'), ('(', '('), ('110', 'CD'), ('degrees', 'NNS'), ('F/45', 'NNP'), ('degrees', 'NNS'), ('C', 'NNP'), (')', ')'), ('fluid', 'VBP'), ('ounce', 'NN'), (')', ')'), ('can', 'MD'), ('evaporated', 'VBN'), ('milk', 'NN'), ('water', 'NN'), ('melted', 'VBD'), ('shortening', 'VBG'), ('honey', 'NN'), ('salt', 'NN'), ('wheat', 'NN'), ('flour', 'JJ'), ('bread', 'NN'), ('flour', 'NN'), ('butter', 'NN')]\n"
     ]
    }
   ],
   "source": [
    "pos_tagged=nltk.pos_tag(nltk.tokenize.word_tokenize(\"eggs rise yeast white sugar warm water (110 degrees F/45 degrees C) fluid ounce) can evaporated milk water melted shortening honey salt wheat flour bread flour butter\"))\n",
    "print(pos_tagged)"
   ]
  },
  {
   "cell_type": "code",
   "execution_count": 11,
   "metadata": {},
   "outputs": [],
   "source": [
    "from nltk.chunk import RegexpParser"
   ]
  },
  {
   "cell_type": "code",
   "execution_count": 12,
   "metadata": {},
   "outputs": [
    {
     "data": {
      "text/plain": [
       "'rapid rise yeast^white sugar^warm water (110 degrees F/45 degrees C)^fluid ounce) can evaporated milk^water^melted shortening^honey^salt^wheat flour^bread flour^butter'"
      ]
     },
     "execution_count": 12,
     "metadata": {},
     "output_type": "execute_result"
    }
   ],
   "source": [
    "ings[2]"
   ]
  },
  {
   "cell_type": "code",
   "execution_count": 13,
   "metadata": {},
   "outputs": [
    {
     "name": "stdout",
     "output_type": "stream",
     "text": [
      "rapid rise yeast^white sugar^warm water (110 degrees F/45 degrees C)^fluid ounce) can evaporated milk^water^melted shortening^honey^salt^wheat flour^bread flour^butter\n"
     ]
    },
    {
     "data": {
      "text/plain": [
       "'rapid rise yeast <sep> white sugar <sep> warm water (110 degrees F/45 degrees C) <sep> fluid ounce) can evaporated milk <sep> water <sep> melted shortening <sep> honey <sep> salt <sep> wheat flour <sep> bread flour <sep> butter'"
      ]
     },
     "execution_count": 13,
     "metadata": {},
     "output_type": "execute_result"
    }
   ],
   "source": [
    "id=2\n",
    "text=' <sep> '.join(ings[id].split('^'))\n",
    "print(ings[id])\n",
    "text"
   ]
  },
  {
   "cell_type": "code",
   "execution_count": 173,
   "metadata": {},
   "outputs": [],
   "source": [
    "## More can be added later if required as there are \n",
    "## too many to be removed manually\n",
    "restricted={\"additional\",\"all-purpose\",\"(optional)\"}"
   ]
  },
  {
   "cell_type": "code",
   "execution_count": 174,
   "metadata": {},
   "outputs": [],
   "source": [
    "def isValid(tag):\n",
    "    for val in str(tag[0][0].split()):\n",
    "        if val in restricted:\n",
    "            return 0\n",
    "    if (tag[1]!='REQ' or any(ch.isdigit() or ch=='®' for ch in str(tag[0][0]))):\n",
    "        return 0\n",
    "    return 1"
   ]
  },
  {
   "cell_type": "code",
   "execution_count": 210,
   "metadata": {},
   "outputs": [],
   "source": [
    "def prepro(s):\n",
    "    s=s.strip()\n",
    "    if s==\"fluid ounce) cans\":\n",
    "        return \"evaporated milk\"\n",
    "    if s==\"warm water (100\":\n",
    "        return \"warm water\"\n",
    "    return s.lower()"
   ]
  },
  {
   "cell_type": "code",
   "execution_count": 212,
   "metadata": {},
   "outputs": [
    {
     "name": "stderr",
     "output_type": "stream",
     "text": [
      "  4%|▎         | 272/7280 [00:02<00:52, 132.71it/s]"
     ]
    },
    {
     "name": "stdout",
     "output_type": "stream",
     "text": [
      "Warning: parsing empty text\n"
     ]
    },
    {
     "name": "stderr",
     "output_type": "stream",
     "text": [
      " 33%|███▎      | 2404/7280 [00:19<01:10, 68.80it/s] "
     ]
    },
    {
     "name": "stdout",
     "output_type": "stream",
     "text": [
      "Warning: parsing empty text\n"
     ]
    },
    {
     "name": "stderr",
     "output_type": "stream",
     "text": [
      "100%|██████████| 7280/7280 [01:05<00:00, 111.32it/s]\n"
     ]
    }
   ],
   "source": [
    "chunker = RegexpParser(r'''\n",
    "REQ:\n",
    "{<JJ|VB>?<NN|NNS|NNP><NN|NNS|NNP>?}\n",
    "''')\n",
    "ans=set()\n",
    "for id in tqdm(range(len(ings))):\n",
    "    for text in ings[id].split('^'):\n",
    "        res=chunker.parse(nltk.pos_tag(text.split()))\n",
    "        sel=\"\"\n",
    "        cnt=0\n",
    "        for tag in res.pos():\n",
    "            if isValid(tag):\n",
    "                sel+=str(tag[0][0])+\" \"\n",
    "                cnt+=1\n",
    "                if cnt>2:\n",
    "                    break\n",
    "            else:\n",
    "                break\n",
    "        if sel==\"\":\n",
    "            continue\n",
    "        ans.add(prepro(sel))"
   ]
  },
  {
   "cell_type": "code",
   "execution_count": 213,
   "metadata": {},
   "outputs": [
    {
     "data": {
      "text/plain": [
       "3888"
      ]
     },
     "execution_count": 213,
     "metadata": {},
     "output_type": "execute_result"
    }
   ],
   "source": [
    "len(ans)"
   ]
  },
  {
   "cell_type": "code",
   "execution_count": 214,
   "metadata": {},
   "outputs": [],
   "source": [
    "res=sorted(list(ans))\n",
    "# res=[\"evaporated milk\" if k==\"fluid ounce) cans\" else k for k in res]\n",
    "# res=[\"warm water\" if k==\"warm water (100\" else k for k in res]\n",
    "# res=list(set(res))\n",
    "# res=[k.lower() for k in res]\n",
    "# res.remove('')\n",
    "# res=sorted(res)"
   ]
  },
  {
   "cell_type": "code",
   "execution_count": 215,
   "metadata": {},
   "outputs": [
    {
     "data": {
      "text/plain": [
       "3888"
      ]
     },
     "execution_count": 215,
     "metadata": {},
     "output_type": "execute_result"
    }
   ],
   "source": [
    "len(res)"
   ]
  },
  {
   "cell_type": "code",
   "execution_count": 217,
   "metadata": {},
   "outputs": [
    {
     "data": {
      "text/plain": [
       "['acini di pepe',\n",
       " 'acorn squash',\n",
       " 'additional cocktail sauce',\n",
       " 'additional flour',\n",
       " 'additional oil',\n",
       " 'adobo',\n",
       " 'adobo sauce',\n",
       " 'agave nectar',\n",
       " 'agave syrup',\n",
       " 'alfalfa sprouts']"
      ]
     },
     "execution_count": 217,
     "metadata": {},
     "output_type": "execute_result"
    }
   ],
   "source": [
    "res[0:10]"
   ]
  },
  {
   "cell_type": "code",
   "execution_count": 183,
   "metadata": {},
   "outputs": [
    {
     "name": "stderr",
     "output_type": "stream",
     "text": [
      "100%|██████████| 7280/7280 [00:00<00:00, 282651.26it/s]\n"
     ]
    }
   ],
   "source": [
    "ans_=set()\n",
    "for id in tqdm(range(len(ings))):\n",
    "    for text in ings[id].split('^'):\n",
    "        ans_.add(text)"
   ]
  },
  {
   "cell_type": "code",
   "execution_count": 184,
   "metadata": {},
   "outputs": [
    {
     "data": {
      "text/plain": [
       "8765"
      ]
     },
     "execution_count": 184,
     "metadata": {},
     "output_type": "execute_result"
    }
   ],
   "source": [
    "len(ans_)"
   ]
  },
  {
   "cell_type": "markdown",
   "metadata": {},
   "source": [
    "While finding vectors for recipes from ingredients we will just split on space and check if any of the words are in vocab as spaced words are not in w2v vocab. Thus cleaning the ingredients is just loss of info for now. So finally we do not need to do it until we find a better way to get vectors for ingredients or if you can put spaced words\n",
    "I am leaving the code as now, but will just use the split version to get ingredients."
   ]
  },
  {
   "cell_type": "code",
   "execution_count": 185,
   "metadata": {},
   "outputs": [],
   "source": [
    "res_=sorted(list(ans_))"
   ]
  },
  {
   "cell_type": "code",
   "execution_count": 186,
   "metadata": {},
   "outputs": [
    {
     "data": {
      "text/plain": [
       "['',\n",
       " '+ 1 tablespoon + 1 teaspoon all-purpose flour',\n",
       " '1 1/2 inch thick filet mignon steaks',\n",
       " '1 inch pieces fresh asparagus',\n",
       " '1% low-fat milk',\n",
       " '1% milk',\n",
       " '100% pure pumpkin',\n",
       " '12x30-inch pieces of parchment paper',\n",
       " '15 bean mixture soaked overnight',\n",
       " '15 bean soup mix']"
      ]
     },
     "execution_count": 186,
     "metadata": {},
     "output_type": "execute_result"
    }
   ],
   "source": [
    "res_[:10]"
   ]
  },
  {
   "cell_type": "markdown",
   "metadata": {},
   "source": [
    "Turns out the split ingredients are too bad so I am shifting to the older code."
   ]
  },
  {
   "cell_type": "code",
   "execution_count": 187,
   "metadata": {},
   "outputs": [],
   "source": [
    "## ['ID','Name','Calories','Fats','Proteins','Carbohydrates','Cost','Expiry']"
   ]
  },
  {
   "cell_type": "code",
   "execution_count": 218,
   "metadata": {},
   "outputs": [],
   "source": [
    "df={}\n",
    "df['ID']=[i+1 for i in range(len(res))]\n",
    "df['Name']=res\n",
    "df['Calories']=[0]*len(res)\n",
    "df['Fats']=[0]*len(res)\n",
    "df['Carbohydrates']=[0]*len(res)\n",
    "df['Proteins']=[0]*len(res)\n",
    "df['Cost']=[0]*len(res)\n",
    "df['Expiry']=[0]*len(res)"
   ]
  },
  {
   "cell_type": "code",
   "execution_count": 219,
   "metadata": {},
   "outputs": [],
   "source": [
    "df=pd.DataFrame(df)\n",
    "df.to_csv(\"F:\\SHRINIVAS\\KGP\\BTP\\Meal-Planning\\Data\\Processed\\ingredients.csv\",index=False)"
   ]
  },
  {
   "cell_type": "code",
   "execution_count": 220,
   "metadata": {},
   "outputs": [
    {
     "data": {
      "text/html": [
       "<div>\n",
       "<style scoped>\n",
       "    .dataframe tbody tr th:only-of-type {\n",
       "        vertical-align: middle;\n",
       "    }\n",
       "\n",
       "    .dataframe tbody tr th {\n",
       "        vertical-align: top;\n",
       "    }\n",
       "\n",
       "    .dataframe thead th {\n",
       "        text-align: right;\n",
       "    }\n",
       "</style>\n",
       "<table border=\"1\" class=\"dataframe\">\n",
       "  <thead>\n",
       "    <tr style=\"text-align: right;\">\n",
       "      <th></th>\n",
       "      <th>ID</th>\n",
       "      <th>Name</th>\n",
       "      <th>Calories</th>\n",
       "      <th>Fats</th>\n",
       "      <th>Carbohydrates</th>\n",
       "      <th>Proteins</th>\n",
       "      <th>Cost</th>\n",
       "      <th>Expiry</th>\n",
       "    </tr>\n",
       "  </thead>\n",
       "  <tbody>\n",
       "    <tr>\n",
       "      <th>0</th>\n",
       "      <td>1</td>\n",
       "      <td>acini di pepe</td>\n",
       "      <td>0</td>\n",
       "      <td>0</td>\n",
       "      <td>0</td>\n",
       "      <td>0</td>\n",
       "      <td>0</td>\n",
       "      <td>0</td>\n",
       "    </tr>\n",
       "    <tr>\n",
       "      <th>1</th>\n",
       "      <td>2</td>\n",
       "      <td>acorn squash</td>\n",
       "      <td>0</td>\n",
       "      <td>0</td>\n",
       "      <td>0</td>\n",
       "      <td>0</td>\n",
       "      <td>0</td>\n",
       "      <td>0</td>\n",
       "    </tr>\n",
       "    <tr>\n",
       "      <th>2</th>\n",
       "      <td>3</td>\n",
       "      <td>additional cocktail sauce</td>\n",
       "      <td>0</td>\n",
       "      <td>0</td>\n",
       "      <td>0</td>\n",
       "      <td>0</td>\n",
       "      <td>0</td>\n",
       "      <td>0</td>\n",
       "    </tr>\n",
       "    <tr>\n",
       "      <th>3</th>\n",
       "      <td>4</td>\n",
       "      <td>additional flour</td>\n",
       "      <td>0</td>\n",
       "      <td>0</td>\n",
       "      <td>0</td>\n",
       "      <td>0</td>\n",
       "      <td>0</td>\n",
       "      <td>0</td>\n",
       "    </tr>\n",
       "    <tr>\n",
       "      <th>4</th>\n",
       "      <td>5</td>\n",
       "      <td>additional oil</td>\n",
       "      <td>0</td>\n",
       "      <td>0</td>\n",
       "      <td>0</td>\n",
       "      <td>0</td>\n",
       "      <td>0</td>\n",
       "      <td>0</td>\n",
       "    </tr>\n",
       "  </tbody>\n",
       "</table>\n",
       "</div>"
      ],
      "text/plain": [
       "   ID                       Name  Calories  Fats  Carbohydrates  Proteins  \\\n",
       "0   1              acini di pepe         0     0              0         0   \n",
       "1   2               acorn squash         0     0              0         0   \n",
       "2   3  additional cocktail sauce         0     0              0         0   \n",
       "3   4           additional flour         0     0              0         0   \n",
       "4   5             additional oil         0     0              0         0   \n",
       "\n",
       "   Cost  Expiry  \n",
       "0     0       0  \n",
       "1     0       0  \n",
       "2     0       0  \n",
       "3     0       0  \n",
       "4     0       0  "
      ]
     },
     "execution_count": 220,
     "metadata": {},
     "output_type": "execute_result"
    }
   ],
   "source": [
    "df.head()"
   ]
  },
  {
   "cell_type": "code",
   "execution_count": 221,
   "metadata": {},
   "outputs": [
    {
     "data": {
      "text/plain": [
       "3888"
      ]
     },
     "execution_count": 221,
     "metadata": {},
     "output_type": "execute_result"
    }
   ],
   "source": [
    "len(df)"
   ]
  },
  {
   "cell_type": "markdown",
   "metadata": {},
   "source": [
    "### Map recipes to ingredients"
   ]
  },
  {
   "cell_type": "code",
   "execution_count": 222,
   "metadata": {},
   "outputs": [],
   "source": [
    "df_rec=pd.read_csv(\"F:\\SHRINIVAS\\KGP\\BTP\\Meal-Planning\\Data\\Processed\\dishes.csv\")"
   ]
  },
  {
   "cell_type": "code",
   "execution_count": 223,
   "metadata": {},
   "outputs": [
    {
     "data": {
      "text/plain": [
       "7280"
      ]
     },
     "execution_count": 223,
     "metadata": {},
     "output_type": "execute_result"
    }
   ],
   "source": [
    "len(df_rec)"
   ]
  },
  {
   "cell_type": "code",
   "execution_count": 224,
   "metadata": {},
   "outputs": [
    {
     "data": {
      "text/html": [
       "<div>\n",
       "<style scoped>\n",
       "    .dataframe tbody tr th:only-of-type {\n",
       "        vertical-align: middle;\n",
       "    }\n",
       "\n",
       "    .dataframe tbody tr th {\n",
       "        vertical-align: top;\n",
       "    }\n",
       "\n",
       "    .dataframe thead th {\n",
       "        text-align: right;\n",
       "    }\n",
       "</style>\n",
       "<table border=\"1\" class=\"dataframe\">\n",
       "  <thead>\n",
       "    <tr style=\"text-align: right;\">\n",
       "      <th></th>\n",
       "      <th>ID</th>\n",
       "      <th>Title</th>\n",
       "      <th>Category</th>\n",
       "      <th>Cuisine</th>\n",
       "      <th>Calories</th>\n",
       "      <th>Fats</th>\n",
       "      <th>Proteins</th>\n",
       "      <th>Carbohydrates</th>\n",
       "      <th>Breakfast</th>\n",
       "      <th>Lunch</th>\n",
       "      <th>Snacks</th>\n",
       "      <th>Dinner</th>\n",
       "      <th>Typical_serving_size</th>\n",
       "    </tr>\n",
       "  </thead>\n",
       "  <tbody>\n",
       "    <tr>\n",
       "      <th>0</th>\n",
       "      <td>1</td>\n",
       "      <td>Mom'S Zucchini Bread</td>\n",
       "      <td>appetizer</td>\n",
       "      <td>North America</td>\n",
       "      <td>255.1692</td>\n",
       "      <td>13.140870</td>\n",
       "      <td>3.268513</td>\n",
       "      <td>32.05494</td>\n",
       "      <td>1</td>\n",
       "      <td>0</td>\n",
       "      <td>0</td>\n",
       "      <td>0</td>\n",
       "      <td>100</td>\n",
       "    </tr>\n",
       "    <tr>\n",
       "      <th>1</th>\n",
       "      <td>2</td>\n",
       "      <td>Zucchini Walnut Bread</td>\n",
       "      <td>appetizer</td>\n",
       "      <td>NaN</td>\n",
       "      <td>276.0908</td>\n",
       "      <td>13.398670</td>\n",
       "      <td>3.977222</td>\n",
       "      <td>36.54568</td>\n",
       "      <td>1</td>\n",
       "      <td>0</td>\n",
       "      <td>0</td>\n",
       "      <td>0</td>\n",
       "      <td>100</td>\n",
       "    </tr>\n",
       "    <tr>\n",
       "      <th>2</th>\n",
       "      <td>3</td>\n",
       "      <td>Honey Wheat Bread I</td>\n",
       "      <td>appetizer</td>\n",
       "      <td>NaN</td>\n",
       "      <td>156.4551</td>\n",
       "      <td>4.770610</td>\n",
       "      <td>4.626510</td>\n",
       "      <td>24.45452</td>\n",
       "      <td>0</td>\n",
       "      <td>1</td>\n",
       "      <td>0</td>\n",
       "      <td>1</td>\n",
       "      <td>100</td>\n",
       "    </tr>\n",
       "    <tr>\n",
       "      <th>3</th>\n",
       "      <td>4</td>\n",
       "      <td>Chocolate Chip Orange Zucchini Bread</td>\n",
       "      <td>dessert</td>\n",
       "      <td>NaN</td>\n",
       "      <td>280.3475</td>\n",
       "      <td>15.283680</td>\n",
       "      <td>3.563895</td>\n",
       "      <td>34.25740</td>\n",
       "      <td>1</td>\n",
       "      <td>0</td>\n",
       "      <td>0</td>\n",
       "      <td>0</td>\n",
       "      <td>100</td>\n",
       "    </tr>\n",
       "    <tr>\n",
       "      <th>4</th>\n",
       "      <td>5</td>\n",
       "      <td>Chocolate Chip Pumpkin Bread</td>\n",
       "      <td>dessert</td>\n",
       "      <td>NaN</td>\n",
       "      <td>210.1581</td>\n",
       "      <td>9.410045</td>\n",
       "      <td>2.556006</td>\n",
       "      <td>30.47000</td>\n",
       "      <td>1</td>\n",
       "      <td>0</td>\n",
       "      <td>0</td>\n",
       "      <td>0</td>\n",
       "      <td>100</td>\n",
       "    </tr>\n",
       "  </tbody>\n",
       "</table>\n",
       "</div>"
      ],
      "text/plain": [
       "   ID                                 Title   Category        Cuisine  \\\n",
       "0   1                  Mom'S Zucchini Bread  appetizer  North America   \n",
       "1   2                 Zucchini Walnut Bread  appetizer            NaN   \n",
       "2   3                   Honey Wheat Bread I  appetizer            NaN   \n",
       "3   4  Chocolate Chip Orange Zucchini Bread    dessert            NaN   \n",
       "4   5          Chocolate Chip Pumpkin Bread    dessert            NaN   \n",
       "\n",
       "   Calories       Fats  Proteins  Carbohydrates  Breakfast  Lunch  Snacks  \\\n",
       "0  255.1692  13.140870  3.268513       32.05494          1      0       0   \n",
       "1  276.0908  13.398670  3.977222       36.54568          1      0       0   \n",
       "2  156.4551   4.770610  4.626510       24.45452          0      1       0   \n",
       "3  280.3475  15.283680  3.563895       34.25740          1      0       0   \n",
       "4  210.1581   9.410045  2.556006       30.47000          1      0       0   \n",
       "\n",
       "   Dinner  Typical_serving_size  \n",
       "0       0                   100  \n",
       "1       0                   100  \n",
       "2       1                   100  \n",
       "3       0                   100  \n",
       "4       0                   100  "
      ]
     },
     "execution_count": 224,
     "metadata": {},
     "output_type": "execute_result"
    }
   ],
   "source": [
    "df_rec.head()"
   ]
  },
  {
   "cell_type": "code",
   "execution_count": 225,
   "metadata": {},
   "outputs": [],
   "source": [
    "ing_to_id={v:k for k,v in enumerate(res)}"
   ]
  },
  {
   "cell_type": "code",
   "execution_count": 227,
   "metadata": {},
   "outputs": [
    {
     "name": "stderr",
     "output_type": "stream",
     "text": [
      "  4%|▎         | 269/7280 [00:02<00:54, 129.26it/s]"
     ]
    },
    {
     "name": "stdout",
     "output_type": "stream",
     "text": [
      "Warning: parsing empty text\n"
     ]
    },
    {
     "name": "stderr",
     "output_type": "stream",
     "text": [
      " 33%|███▎      | 2420/7280 [00:17<00:31, 153.56it/s]"
     ]
    },
    {
     "name": "stdout",
     "output_type": "stream",
     "text": [
      "Warning: parsing empty text\n"
     ]
    },
    {
     "name": "stderr",
     "output_type": "stream",
     "text": [
      "100%|██████████| 7280/7280 [00:58<00:00, 125.16it/s]\n"
     ]
    }
   ],
   "source": [
    "chunker = RegexpParser(r'''\n",
    "REQ:\n",
    "{<JJ|VB>?<NN|NNS|NNP><NN|NNS|NNP>?}\n",
    "''')\n",
    "all_recs=[]\n",
    "all_ings=[]\n",
    "for id in tqdm(range(len(ings))):\n",
    "    for text in ings[id].split('^'):\n",
    "        res=chunker.parse(nltk.pos_tag(text.split()))\n",
    "        sel=\"\"\n",
    "        cnt=0\n",
    "        for tag in res.pos():\n",
    "            if isValid(tag):\n",
    "                sel+=str(tag[0][0])+\" \"\n",
    "                cnt+=1\n",
    "                if cnt>2:\n",
    "                    break\n",
    "            else:\n",
    "                break\n",
    "        if sel==\"\":\n",
    "            continue\n",
    "        all_recs.append(id+1)\n",
    "        all_ings.append(ing_to_id[prepro(sel)])"
   ]
  },
  {
   "cell_type": "code",
   "execution_count": 228,
   "metadata": {},
   "outputs": [
    {
     "data": {
      "text/plain": [
       "(52845, 52845)"
      ]
     },
     "execution_count": 228,
     "metadata": {},
     "output_type": "execute_result"
    }
   ],
   "source": [
    "len(all_recs),len(all_ings)"
   ]
  },
  {
   "cell_type": "code",
   "execution_count": 229,
   "metadata": {},
   "outputs": [],
   "source": [
    "## ['Recipe ID','Ingredient ID']"
   ]
  },
  {
   "cell_type": "code",
   "execution_count": 231,
   "metadata": {},
   "outputs": [],
   "source": [
    "df={}\n",
    "df['Recipe ID']=all_recs\n",
    "df['Ingredient ID']=all_ings"
   ]
  },
  {
   "cell_type": "code",
   "execution_count": 234,
   "metadata": {},
   "outputs": [],
   "source": [
    "df=pd.DataFrame(df)\n",
    "df.to_csv(\"F:/SHRINIVAS/KGP/BTP/Meal-Planning/Data/Processed/rec_ing.csv\")"
   ]
  },
  {
   "cell_type": "code",
   "execution_count": 235,
   "metadata": {},
   "outputs": [
    {
     "data": {
      "text/html": [
       "<div>\n",
       "<style scoped>\n",
       "    .dataframe tbody tr th:only-of-type {\n",
       "        vertical-align: middle;\n",
       "    }\n",
       "\n",
       "    .dataframe tbody tr th {\n",
       "        vertical-align: top;\n",
       "    }\n",
       "\n",
       "    .dataframe thead th {\n",
       "        text-align: right;\n",
       "    }\n",
       "</style>\n",
       "<table border=\"1\" class=\"dataframe\">\n",
       "  <thead>\n",
       "    <tr style=\"text-align: right;\">\n",
       "      <th></th>\n",
       "      <th>Recipe ID</th>\n",
       "      <th>Ingredient ID</th>\n",
       "    </tr>\n",
       "  </thead>\n",
       "  <tbody>\n",
       "    <tr>\n",
       "      <th>0</th>\n",
       "      <td>1</td>\n",
       "      <td>15</td>\n",
       "    </tr>\n",
       "    <tr>\n",
       "      <th>1</th>\n",
       "      <td>1</td>\n",
       "      <td>3051</td>\n",
       "    </tr>\n",
       "    <tr>\n",
       "      <th>2</th>\n",
       "      <td>1</td>\n",
       "      <td>1584</td>\n",
       "    </tr>\n",
       "    <tr>\n",
       "      <th>3</th>\n",
       "      <td>1</td>\n",
       "      <td>1082</td>\n",
       "    </tr>\n",
       "    <tr>\n",
       "      <th>4</th>\n",
       "      <td>1</td>\n",
       "      <td>3715</td>\n",
       "    </tr>\n",
       "  </tbody>\n",
       "</table>\n",
       "</div>"
      ],
      "text/plain": [
       "   Recipe ID  Ingredient ID\n",
       "0          1             15\n",
       "1          1           3051\n",
       "2          1           1584\n",
       "3          1           1082\n",
       "4          1           3715"
      ]
     },
     "execution_count": 235,
     "metadata": {},
     "output_type": "execute_result"
    }
   ],
   "source": [
    "df.head()"
   ]
  },
  {
   "attachments": {},
   "cell_type": "markdown",
   "metadata": {},
   "source": [
    "#### Add Recipe Tags and Category to Dataset"
   ]
  },
  {
   "cell_type": "code",
   "execution_count": 13,
   "metadata": {},
   "outputs": [],
   "source": [
    "df_rec=pd.read_csv('F:/SHRINIVAS/KGP/BTP/Meal-Planning/Data/Processed/dishes.csv')"
   ]
  },
  {
   "cell_type": "code",
   "execution_count": 14,
   "metadata": {},
   "outputs": [
    {
     "data": {
      "text/html": [
       "<div>\n",
       "<style scoped>\n",
       "    .dataframe tbody tr th:only-of-type {\n",
       "        vertical-align: middle;\n",
       "    }\n",
       "\n",
       "    .dataframe tbody tr th {\n",
       "        vertical-align: top;\n",
       "    }\n",
       "\n",
       "    .dataframe thead th {\n",
       "        text-align: right;\n",
       "    }\n",
       "</style>\n",
       "<table border=\"1\" class=\"dataframe\">\n",
       "  <thead>\n",
       "    <tr style=\"text-align: right;\">\n",
       "      <th></th>\n",
       "      <th>ID</th>\n",
       "      <th>Title</th>\n",
       "      <th>Category</th>\n",
       "      <th>Cuisine</th>\n",
       "      <th>Calories</th>\n",
       "      <th>Fats</th>\n",
       "      <th>Proteins</th>\n",
       "      <th>Carbohydrates</th>\n",
       "      <th>Breakfast</th>\n",
       "      <th>Lunch</th>\n",
       "      <th>Snacks</th>\n",
       "      <th>Dinner</th>\n",
       "      <th>Typical_serving_size</th>\n",
       "      <th>Tags</th>\n",
       "    </tr>\n",
       "  </thead>\n",
       "  <tbody>\n",
       "    <tr>\n",
       "      <th>0</th>\n",
       "      <td>1</td>\n",
       "      <td>Mom'S Zucchini Bread</td>\n",
       "      <td>appetizer</td>\n",
       "      <td>North America</td>\n",
       "      <td>255.1692</td>\n",
       "      <td>13.140870</td>\n",
       "      <td>3.268513</td>\n",
       "      <td>32.05494</td>\n",
       "      <td>1</td>\n",
       "      <td>0</td>\n",
       "      <td>0</td>\n",
       "      <td>0</td>\n",
       "      <td>100</td>\n",
       "      <td>north-american;breads;easy;beginner-cook;inexp...</td>\n",
       "    </tr>\n",
       "    <tr>\n",
       "      <th>1</th>\n",
       "      <td>2</td>\n",
       "      <td>Zucchini Walnut Bread</td>\n",
       "      <td>appetizer</td>\n",
       "      <td>NaN</td>\n",
       "      <td>276.0908</td>\n",
       "      <td>13.398670</td>\n",
       "      <td>3.977222</td>\n",
       "      <td>36.54568</td>\n",
       "      <td>1</td>\n",
       "      <td>0</td>\n",
       "      <td>0</td>\n",
       "      <td>0</td>\n",
       "      <td>100</td>\n",
       "      <td>weeknight;breads;fruit;vegetables;kid-friendly...</td>\n",
       "    </tr>\n",
       "    <tr>\n",
       "      <th>2</th>\n",
       "      <td>3</td>\n",
       "      <td>Honey Wheat Bread I</td>\n",
       "      <td>appetizer</td>\n",
       "      <td>NaN</td>\n",
       "      <td>156.4551</td>\n",
       "      <td>4.770610</td>\n",
       "      <td>4.626510</td>\n",
       "      <td>24.45452</td>\n",
       "      <td>0</td>\n",
       "      <td>1</td>\n",
       "      <td>0</td>\n",
       "      <td>1</td>\n",
       "      <td>100</td>\n",
       "      <td>healthy;breads;dietary;low-cholesterol;healthy...</td>\n",
       "    </tr>\n",
       "    <tr>\n",
       "      <th>3</th>\n",
       "      <td>4</td>\n",
       "      <td>Chocolate Chip Orange Zucchini Bread</td>\n",
       "      <td>dessert</td>\n",
       "      <td>NaN</td>\n",
       "      <td>280.3475</td>\n",
       "      <td>15.283680</td>\n",
       "      <td>3.563895</td>\n",
       "      <td>34.25740</td>\n",
       "      <td>1</td>\n",
       "      <td>0</td>\n",
       "      <td>0</td>\n",
       "      <td>0</td>\n",
       "      <td>100</td>\n",
       "      <td>for-large-groups;healthy;breads;kid-friendly;d...</td>\n",
       "    </tr>\n",
       "    <tr>\n",
       "      <th>4</th>\n",
       "      <td>5</td>\n",
       "      <td>Chocolate Chip Pumpkin Bread</td>\n",
       "      <td>dessert</td>\n",
       "      <td>NaN</td>\n",
       "      <td>210.1581</td>\n",
       "      <td>9.410045</td>\n",
       "      <td>2.556006</td>\n",
       "      <td>30.47000</td>\n",
       "      <td>1</td>\n",
       "      <td>0</td>\n",
       "      <td>0</td>\n",
       "      <td>0</td>\n",
       "      <td>100</td>\n",
       "      <td>breads;fall;winter;seasonal;quick-breads;4-hou...</td>\n",
       "    </tr>\n",
       "  </tbody>\n",
       "</table>\n",
       "</div>"
      ],
      "text/plain": [
       "   ID                                 Title   Category        Cuisine  \\\n",
       "0   1                  Mom'S Zucchini Bread  appetizer  North America   \n",
       "1   2                 Zucchini Walnut Bread  appetizer            NaN   \n",
       "2   3                   Honey Wheat Bread I  appetizer            NaN   \n",
       "3   4  Chocolate Chip Orange Zucchini Bread    dessert            NaN   \n",
       "4   5          Chocolate Chip Pumpkin Bread    dessert            NaN   \n",
       "\n",
       "   Calories       Fats  Proteins  Carbohydrates  Breakfast  Lunch  Snacks  \\\n",
       "0  255.1692  13.140870  3.268513       32.05494          1      0       0   \n",
       "1  276.0908  13.398670  3.977222       36.54568          1      0       0   \n",
       "2  156.4551   4.770610  4.626510       24.45452          0      1       0   \n",
       "3  280.3475  15.283680  3.563895       34.25740          1      0       0   \n",
       "4  210.1581   9.410045  2.556006       30.47000          1      0       0   \n",
       "\n",
       "   Dinner  Typical_serving_size  \\\n",
       "0       0                   100   \n",
       "1       0                   100   \n",
       "2       1                   100   \n",
       "3       0                   100   \n",
       "4       0                   100   \n",
       "\n",
       "                                                Tags  \n",
       "0  north-american;breads;easy;beginner-cook;inexp...  \n",
       "1  weeknight;breads;fruit;vegetables;kid-friendly...  \n",
       "2  healthy;breads;dietary;low-cholesterol;healthy...  \n",
       "3  for-large-groups;healthy;breads;kid-friendly;d...  \n",
       "4  breads;fall;winter;seasonal;quick-breads;4-hou...  "
      ]
     },
     "execution_count": 14,
     "metadata": {},
     "output_type": "execute_result"
    }
   ],
   "source": [
    "## Updated Cell to check if columns were added\n",
    "df_rec.head()"
   ]
  },
  {
   "cell_type": "code",
   "execution_count": 8,
   "metadata": {},
   "outputs": [],
   "source": [
    "df_rec['Category']=df_recipe['category']\n",
    "df_rec['Tags']=df_recipe['tags']"
   ]
  },
  {
   "cell_type": "code",
   "execution_count": 9,
   "metadata": {},
   "outputs": [
    {
     "data": {
      "text/html": [
       "<div>\n",
       "<style scoped>\n",
       "    .dataframe tbody tr th:only-of-type {\n",
       "        vertical-align: middle;\n",
       "    }\n",
       "\n",
       "    .dataframe tbody tr th {\n",
       "        vertical-align: top;\n",
       "    }\n",
       "\n",
       "    .dataframe thead th {\n",
       "        text-align: right;\n",
       "    }\n",
       "</style>\n",
       "<table border=\"1\" class=\"dataframe\">\n",
       "  <thead>\n",
       "    <tr style=\"text-align: right;\">\n",
       "      <th></th>\n",
       "      <th>ID</th>\n",
       "      <th>Title</th>\n",
       "      <th>Category</th>\n",
       "      <th>Cuisine</th>\n",
       "      <th>Calories</th>\n",
       "      <th>Fats</th>\n",
       "      <th>Proteins</th>\n",
       "      <th>Carbohydrates</th>\n",
       "      <th>Breakfast</th>\n",
       "      <th>Lunch</th>\n",
       "      <th>Snacks</th>\n",
       "      <th>Dinner</th>\n",
       "      <th>Typical_serving_size</th>\n",
       "      <th>Tags</th>\n",
       "    </tr>\n",
       "  </thead>\n",
       "  <tbody>\n",
       "    <tr>\n",
       "      <th>0</th>\n",
       "      <td>1</td>\n",
       "      <td>Mom'S Zucchini Bread</td>\n",
       "      <td>appetizer</td>\n",
       "      <td>North America</td>\n",
       "      <td>255.1692</td>\n",
       "      <td>13.140870</td>\n",
       "      <td>3.268513</td>\n",
       "      <td>32.05494</td>\n",
       "      <td>1</td>\n",
       "      <td>0</td>\n",
       "      <td>0</td>\n",
       "      <td>0</td>\n",
       "      <td>100</td>\n",
       "      <td>north-american;breads;easy;beginner-cook;inexp...</td>\n",
       "    </tr>\n",
       "    <tr>\n",
       "      <th>1</th>\n",
       "      <td>2</td>\n",
       "      <td>Zucchini Walnut Bread</td>\n",
       "      <td>appetizer</td>\n",
       "      <td>NaN</td>\n",
       "      <td>276.0908</td>\n",
       "      <td>13.398670</td>\n",
       "      <td>3.977222</td>\n",
       "      <td>36.54568</td>\n",
       "      <td>1</td>\n",
       "      <td>0</td>\n",
       "      <td>0</td>\n",
       "      <td>0</td>\n",
       "      <td>100</td>\n",
       "      <td>weeknight;breads;fruit;vegetables;kid-friendly...</td>\n",
       "    </tr>\n",
       "    <tr>\n",
       "      <th>2</th>\n",
       "      <td>3</td>\n",
       "      <td>Honey Wheat Bread I</td>\n",
       "      <td>appetizer</td>\n",
       "      <td>NaN</td>\n",
       "      <td>156.4551</td>\n",
       "      <td>4.770610</td>\n",
       "      <td>4.626510</td>\n",
       "      <td>24.45452</td>\n",
       "      <td>0</td>\n",
       "      <td>1</td>\n",
       "      <td>0</td>\n",
       "      <td>1</td>\n",
       "      <td>100</td>\n",
       "      <td>healthy;breads;dietary;low-cholesterol;healthy...</td>\n",
       "    </tr>\n",
       "    <tr>\n",
       "      <th>3</th>\n",
       "      <td>4</td>\n",
       "      <td>Chocolate Chip Orange Zucchini Bread</td>\n",
       "      <td>dessert</td>\n",
       "      <td>NaN</td>\n",
       "      <td>280.3475</td>\n",
       "      <td>15.283680</td>\n",
       "      <td>3.563895</td>\n",
       "      <td>34.25740</td>\n",
       "      <td>1</td>\n",
       "      <td>0</td>\n",
       "      <td>0</td>\n",
       "      <td>0</td>\n",
       "      <td>100</td>\n",
       "      <td>for-large-groups;healthy;breads;kid-friendly;d...</td>\n",
       "    </tr>\n",
       "    <tr>\n",
       "      <th>4</th>\n",
       "      <td>5</td>\n",
       "      <td>Chocolate Chip Pumpkin Bread</td>\n",
       "      <td>dessert</td>\n",
       "      <td>NaN</td>\n",
       "      <td>210.1581</td>\n",
       "      <td>9.410045</td>\n",
       "      <td>2.556006</td>\n",
       "      <td>30.47000</td>\n",
       "      <td>1</td>\n",
       "      <td>0</td>\n",
       "      <td>0</td>\n",
       "      <td>0</td>\n",
       "      <td>100</td>\n",
       "      <td>breads;fall;winter;seasonal;quick-breads;4-hou...</td>\n",
       "    </tr>\n",
       "  </tbody>\n",
       "</table>\n",
       "</div>"
      ],
      "text/plain": [
       "   ID                                 Title   Category        Cuisine  \\\n",
       "0   1                  Mom'S Zucchini Bread  appetizer  North America   \n",
       "1   2                 Zucchini Walnut Bread  appetizer            NaN   \n",
       "2   3                   Honey Wheat Bread I  appetizer            NaN   \n",
       "3   4  Chocolate Chip Orange Zucchini Bread    dessert            NaN   \n",
       "4   5          Chocolate Chip Pumpkin Bread    dessert            NaN   \n",
       "\n",
       "   Calories       Fats  Proteins  Carbohydrates  Breakfast  Lunch  Snacks  \\\n",
       "0  255.1692  13.140870  3.268513       32.05494          1      0       0   \n",
       "1  276.0908  13.398670  3.977222       36.54568          1      0       0   \n",
       "2  156.4551   4.770610  4.626510       24.45452          0      1       0   \n",
       "3  280.3475  15.283680  3.563895       34.25740          1      0       0   \n",
       "4  210.1581   9.410045  2.556006       30.47000          1      0       0   \n",
       "\n",
       "   Dinner  Typical_serving_size  \\\n",
       "0       0                   100   \n",
       "1       0                   100   \n",
       "2       1                   100   \n",
       "3       0                   100   \n",
       "4       0                   100   \n",
       "\n",
       "                                                Tags  \n",
       "0  north-american;breads;easy;beginner-cook;inexp...  \n",
       "1  weeknight;breads;fruit;vegetables;kid-friendly...  \n",
       "2  healthy;breads;dietary;low-cholesterol;healthy...  \n",
       "3  for-large-groups;healthy;breads;kid-friendly;d...  \n",
       "4  breads;fall;winter;seasonal;quick-breads;4-hou...  "
      ]
     },
     "execution_count": 9,
     "metadata": {},
     "output_type": "execute_result"
    }
   ],
   "source": [
    "df_rec.head()"
   ]
  },
  {
   "cell_type": "code",
   "execution_count": 12,
   "metadata": {},
   "outputs": [],
   "source": [
    "df_rec.to_csv('F:\\SHRINIVAS\\KGP\\BTP\\Meal-Planning\\Data\\Processed\\dishes.csv',index=False)"
   ]
  },
  {
   "cell_type": "code",
   "execution_count": null,
   "metadata": {},
   "outputs": [],
   "source": []
  }
 ],
 "metadata": {
  "kernelspec": {
   "display_name": "Python 3.9.2 ('btp': venv)",
   "language": "python",
   "name": "python3"
  },
  "language_info": {
   "codemirror_mode": {
    "name": "ipython",
    "version": 3
   },
   "file_extension": ".py",
   "mimetype": "text/x-python",
   "name": "python",
   "nbconvert_exporter": "python",
   "pygments_lexer": "ipython3",
   "version": "3.9.2"
  },
  "orig_nbformat": 4,
  "vscode": {
   "interpreter": {
    "hash": "c4ea768e7bd77161dc23dd01a8c4395144cbd15f8f1ca8286792567cea820d95"
   }
  }
 },
 "nbformat": 4,
 "nbformat_minor": 2
}
