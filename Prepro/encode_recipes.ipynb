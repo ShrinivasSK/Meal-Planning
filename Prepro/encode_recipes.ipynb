{
 "cells": [
  {
   "cell_type": "code",
   "execution_count": 52,
   "metadata": {},
   "outputs": [],
   "source": [
    "from gensim.models.keyedvectors import KeyedVectors\n",
    "import pandas as pd\n",
    "\n",
    "from collections import defaultdict\n",
    "from tqdm import tqdm\n",
    "\n",
    "import numpy as np"
   ]
  },
  {
   "cell_type": "code",
   "execution_count": 3,
   "metadata": {},
   "outputs": [],
   "source": [
    "model = KeyedVectors.load_word2vec_format(\"F:/SHRINIVAS/KGP/BTP/Meal-Planning/Data/Recipe1M/vocab.bin/vocab.bin\", binary=True)"
   ]
  },
  {
   "cell_type": "code",
   "execution_count": 20,
   "metadata": {},
   "outputs": [],
   "source": [
    "df=pd.read_csv(\"F:/SHRINIVAS/KGP/BTP/Meal-Planning/rec.csv\")"
   ]
  },
  {
   "cell_type": "code",
   "execution_count": 21,
   "metadata": {},
   "outputs": [
    {
     "data": {
      "text/html": [
       "<div>\n",
       "<style scoped>\n",
       "    .dataframe tbody tr th:only-of-type {\n",
       "        vertical-align: middle;\n",
       "    }\n",
       "\n",
       "    .dataframe tbody tr th {\n",
       "        vertical-align: top;\n",
       "    }\n",
       "\n",
       "    .dataframe thead th {\n",
       "        text-align: right;\n",
       "    }\n",
       "</style>\n",
       "<table border=\"1\" class=\"dataframe\">\n",
       "  <thead>\n",
       "    <tr style=\"text-align: right;\">\n",
       "      <th></th>\n",
       "      <th>Unnamed: 0</th>\n",
       "      <th>recipe_id</th>\n",
       "      <th>recipe_name</th>\n",
       "      <th>review_nums</th>\n",
       "      <th>category</th>\n",
       "      <th>aver_rate</th>\n",
       "      <th>image_url</th>\n",
       "      <th>ingredients</th>\n",
       "      <th>cooking_directions</th>\n",
       "      <th>nutritions</th>\n",
       "      <th>reviews</th>\n",
       "      <th>tags</th>\n",
       "    </tr>\n",
       "  </thead>\n",
       "  <tbody>\n",
       "    <tr>\n",
       "      <th>0</th>\n",
       "      <td>0</td>\n",
       "      <td>6698</td>\n",
       "      <td>Mom's Zucchini Bread</td>\n",
       "      <td>9355</td>\n",
       "      <td>appetizer</td>\n",
       "      <td>4.754207</td>\n",
       "      <td>https://images.media-allrecipes.com/userphotos...</td>\n",
       "      <td>all-purpose flour^salt^baking soda^baking powd...</td>\n",
       "      <td>{'directions': u'Prep\\n20 m\\nCook\\n1 h\\nReady ...</td>\n",
       "      <td>{u'niacin': {u'hasCompleteData': True, u'name'...</td>\n",
       "      <td>{9568256: {'rating': 5, 'followersCount': 0, '...</td>\n",
       "      <td>north-american;breads;easy;beginner-cook;inexp...</td>\n",
       "    </tr>\n",
       "    <tr>\n",
       "      <th>1</th>\n",
       "      <td>1</td>\n",
       "      <td>6709</td>\n",
       "      <td>Zucchini Walnut Bread</td>\n",
       "      <td>58</td>\n",
       "      <td>appetizer</td>\n",
       "      <td>4.478873</td>\n",
       "      <td>http://images.media-allrecipes.com/userphotos/...</td>\n",
       "      <td>chopped walnuts^eggs^white sugar^vegetable oil...</td>\n",
       "      <td>{'directions': u'Whisk together flour, baking ...</td>\n",
       "      <td>{u'niacin': {u'hasCompleteData': True, u'name'...</td>\n",
       "      <td>{1636096: {'rating': 4, 'followersCount': 0, '...</td>\n",
       "      <td>weeknight;breads;fruit;vegetables;kid-friendly...</td>\n",
       "    </tr>\n",
       "    <tr>\n",
       "      <th>2</th>\n",
       "      <td>2</td>\n",
       "      <td>6725</td>\n",
       "      <td>Honey Wheat Bread I</td>\n",
       "      <td>2054</td>\n",
       "      <td>appetizer</td>\n",
       "      <td>4.766846</td>\n",
       "      <td>http://images.media-allrecipes.com/userphotos/...</td>\n",
       "      <td>rapid rise yeast^white sugar^warm water (110 d...</td>\n",
       "      <td>{'directions': u'Prep\\n25 m\\nCook\\n35 m\\nReady...</td>\n",
       "      <td>{u'niacin': {u'hasCompleteData': True, u'name'...</td>\n",
       "      <td>{1542146: {'rating': 4, 'followersCount': 56, ...</td>\n",
       "      <td>healthy;breads;dietary;low-cholesterol;healthy...</td>\n",
       "    </tr>\n",
       "    <tr>\n",
       "      <th>3</th>\n",
       "      <td>3</td>\n",
       "      <td>6730</td>\n",
       "      <td>Chocolate Chip Orange Zucchini Bread</td>\n",
       "      <td>503</td>\n",
       "      <td>dessert</td>\n",
       "      <td>4.674833</td>\n",
       "      <td>https://images.media-allrecipes.com/userphotos...</td>\n",
       "      <td>eggs^white sugar^vegetable oil^vanilla extract...</td>\n",
       "      <td>{'directions': u'Sift together flour, baking p...</td>\n",
       "      <td>{u'niacin': {u'hasCompleteData': True, u'name'...</td>\n",
       "      <td>{1978376: {'rating': 5, 'followersCount': 0, '...</td>\n",
       "      <td>for-large-groups;healthy;breads;kid-friendly;d...</td>\n",
       "    </tr>\n",
       "    <tr>\n",
       "      <th>4</th>\n",
       "      <td>4</td>\n",
       "      <td>6732</td>\n",
       "      <td>Chocolate Chip Pumpkin Bread</td>\n",
       "      <td>866</td>\n",
       "      <td>dessert</td>\n",
       "      <td>4.718112</td>\n",
       "      <td>https://images.media-allrecipes.com/userphotos...</td>\n",
       "      <td>white sugar^pumpkin puree^vegetable oil^water^...</td>\n",
       "      <td>{'directions': u'Prep\\n30 m\\nCook\\n1 h\\nReady ...</td>\n",
       "      <td>{u'niacin': {u'hasCompleteData': True, u'name'...</td>\n",
       "      <td>{1830917: {'rating': 3, 'followersCount': 0, '...</td>\n",
       "      <td>breads;fall;winter;seasonal;quick-breads;4-hou...</td>\n",
       "    </tr>\n",
       "  </tbody>\n",
       "</table>\n",
       "</div>"
      ],
      "text/plain": [
       "   Unnamed: 0  recipe_id                           recipe_name  review_nums  \\\n",
       "0           0       6698                  Mom's Zucchini Bread         9355   \n",
       "1           1       6709                 Zucchini Walnut Bread           58   \n",
       "2           2       6725                   Honey Wheat Bread I         2054   \n",
       "3           3       6730  Chocolate Chip Orange Zucchini Bread          503   \n",
       "4           4       6732          Chocolate Chip Pumpkin Bread          866   \n",
       "\n",
       "    category  aver_rate                                          image_url  \\\n",
       "0  appetizer   4.754207  https://images.media-allrecipes.com/userphotos...   \n",
       "1  appetizer   4.478873  http://images.media-allrecipes.com/userphotos/...   \n",
       "2  appetizer   4.766846  http://images.media-allrecipes.com/userphotos/...   \n",
       "3    dessert   4.674833  https://images.media-allrecipes.com/userphotos...   \n",
       "4    dessert   4.718112  https://images.media-allrecipes.com/userphotos...   \n",
       "\n",
       "                                         ingredients  \\\n",
       "0  all-purpose flour^salt^baking soda^baking powd...   \n",
       "1  chopped walnuts^eggs^white sugar^vegetable oil...   \n",
       "2  rapid rise yeast^white sugar^warm water (110 d...   \n",
       "3  eggs^white sugar^vegetable oil^vanilla extract...   \n",
       "4  white sugar^pumpkin puree^vegetable oil^water^...   \n",
       "\n",
       "                                  cooking_directions  \\\n",
       "0  {'directions': u'Prep\\n20 m\\nCook\\n1 h\\nReady ...   \n",
       "1  {'directions': u'Whisk together flour, baking ...   \n",
       "2  {'directions': u'Prep\\n25 m\\nCook\\n35 m\\nReady...   \n",
       "3  {'directions': u'Sift together flour, baking p...   \n",
       "4  {'directions': u'Prep\\n30 m\\nCook\\n1 h\\nReady ...   \n",
       "\n",
       "                                          nutritions  \\\n",
       "0  {u'niacin': {u'hasCompleteData': True, u'name'...   \n",
       "1  {u'niacin': {u'hasCompleteData': True, u'name'...   \n",
       "2  {u'niacin': {u'hasCompleteData': True, u'name'...   \n",
       "3  {u'niacin': {u'hasCompleteData': True, u'name'...   \n",
       "4  {u'niacin': {u'hasCompleteData': True, u'name'...   \n",
       "\n",
       "                                             reviews  \\\n",
       "0  {9568256: {'rating': 5, 'followersCount': 0, '...   \n",
       "1  {1636096: {'rating': 4, 'followersCount': 0, '...   \n",
       "2  {1542146: {'rating': 4, 'followersCount': 56, ...   \n",
       "3  {1978376: {'rating': 5, 'followersCount': 0, '...   \n",
       "4  {1830917: {'rating': 3, 'followersCount': 0, '...   \n",
       "\n",
       "                                                tags  \n",
       "0  north-american;breads;easy;beginner-cook;inexp...  \n",
       "1  weeknight;breads;fruit;vegetables;kid-friendly...  \n",
       "2  healthy;breads;dietary;low-cholesterol;healthy...  \n",
       "3  for-large-groups;healthy;breads;kid-friendly;d...  \n",
       "4  breads;fall;winter;seasonal;quick-breads;4-hou...  "
      ]
     },
     "execution_count": 21,
     "metadata": {},
     "output_type": "execute_result"
    }
   ],
   "source": [
    "df.head()"
   ]
  },
  {
   "cell_type": "code",
   "execution_count": 54,
   "metadata": {},
   "outputs": [],
   "source": [
    "ings=df['ingredients'].values\n",
    "titles=df['recipe_name'].values"
   ]
  },
  {
   "cell_type": "code",
   "execution_count": 23,
   "metadata": {},
   "outputs": [],
   "source": [
    "vocab=set(model.key_to_index.keys())"
   ]
  },
  {
   "cell_type": "code",
   "execution_count": 26,
   "metadata": {},
   "outputs": [],
   "source": [
    "freq=defaultdict(int)\n",
    "for ing in ings:\n",
    "    for val in ing.split('^'):\n",
    "        for v in val.split():\n",
    "            freq[v]+=1"
   ]
  },
  {
   "cell_type": "code",
   "execution_count": 41,
   "metadata": {},
   "outputs": [],
   "source": [
    "maxV=max(freq.items(),key=lambda x: x[1])\n",
    "for k,v in freq.items():\n",
    "    freq[k]=v/maxV[1]"
   ]
  },
  {
   "cell_type": "code",
   "execution_count": 42,
   "metadata": {},
   "outputs": [],
   "source": [
    "DIM=300"
   ]
  },
  {
   "cell_type": "code",
   "execution_count": 56,
   "metadata": {},
   "outputs": [
    {
     "name": "stderr",
     "output_type": "stream",
     "text": [
      "100%|██████████| 7280/7280 [00:02<00:00, 3030.47it/s]\n"
     ]
    }
   ],
   "source": [
    "title2vec={}\n",
    "vecs=[]\n",
    "for id,ing in enumerate(tqdm(ings)):\n",
    "    vec=[0]*DIM\n",
    "    for val in ing.split('^'):\n",
    "        for v in val.split():\n",
    "            v=v.replace('-','_')\n",
    "            if v in vocab:\n",
    "                vec+=model.get_vector(v,norm=True)*freq[v]\n",
    "    title2vec[titles[id]]=vec\n",
    "    vecs.append(vec)"
   ]
  },
  {
   "cell_type": "code",
   "execution_count": 57,
   "metadata": {},
   "outputs": [
    {
     "data": {
      "text/plain": [
       "'Amish White Bread'"
      ]
     },
     "execution_count": 57,
     "metadata": {},
     "output_type": "execute_result"
    }
   ],
   "source": [
    "id=10\n",
    "titles[10]"
   ]
  },
  {
   "cell_type": "code",
   "execution_count": 58,
   "metadata": {},
   "outputs": [],
   "source": [
    "def sim(v1,v2):\n",
    "    return np.dot(v1,v2)/(np.linalg.norm(v1)*np.linalg.norm(v2))"
   ]
  },
  {
   "cell_type": "markdown",
   "metadata": {},
   "source": [
    "Might need some improvement as chicken is coming close to patato soup for some reason at id=1000, 1021"
   ]
  },
  {
   "cell_type": "code",
   "execution_count": 71,
   "metadata": {},
   "outputs": [
    {
     "name": "stdout",
     "output_type": "stream",
     "text": [
      "Creole Gumbo\n",
      "Chicken Pot Pies with Puff Pastry\n",
      "Cream of Brie Soup\n",
      "Oven Baked Jambalaya\n",
      "Chicken, Rice and Vegetable Soup\n"
     ]
    }
   ],
   "source": [
    "i=2132\n",
    "v1=vecs[i]\n",
    "scores=[]\n",
    "for id,v in enumerate(vecs):\n",
    "    scores.append([sim(v1,v),id])\n",
    "\n",
    "scores=sorted(scores,reverse=True)\n",
    "\n",
    "for rec in scores[:5]:\n",
    "    print(titles[rec[1]])\n"
   ]
  },
  {
   "cell_type": "code",
   "execution_count": 65,
   "metadata": {},
   "outputs": [],
   "source": [
    "vecs_np=np.array(vecs)"
   ]
  },
  {
   "cell_type": "code",
   "execution_count": 67,
   "metadata": {},
   "outputs": [],
   "source": [
    "np.save(\"F:/SHRINIVAS/KGP/BTP/Meal-Planning/Data/Processed/rec_vecs.npy\",vecs_np)"
   ]
  },
  {
   "cell_type": "code",
   "execution_count": null,
   "metadata": {},
   "outputs": [],
   "source": []
  }
 ],
 "metadata": {
  "kernelspec": {
   "display_name": "Python 3.9.2 ('btp': venv)",
   "language": "python",
   "name": "python3"
  },
  "language_info": {
   "codemirror_mode": {
    "name": "ipython",
    "version": 3
   },
   "file_extension": ".py",
   "mimetype": "text/x-python",
   "name": "python",
   "nbconvert_exporter": "python",
   "pygments_lexer": "ipython3",
   "version": "3.9.2"
  },
  "orig_nbformat": 4,
  "vscode": {
   "interpreter": {
    "hash": "c4ea768e7bd77161dc23dd01a8c4395144cbd15f8f1ca8286792567cea820d95"
   }
  }
 },
 "nbformat": 4,
 "nbformat_minor": 2
}
