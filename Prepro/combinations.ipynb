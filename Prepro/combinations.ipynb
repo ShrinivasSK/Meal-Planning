{
 "cells": [
  {
   "cell_type": "code",
   "execution_count": 1,
   "metadata": {},
   "outputs": [],
   "source": [
    "import pandas as pd\n",
    "import string\n",
    "import re\n",
    "import numpy as np\n",
    "\n",
    "from gensim.models import Word2Vec\n",
    "import networkx as nx\n",
    "from node2vec import Node2Vec\n",
    "\n",
    "from collections import defaultdict\n",
    "\n",
    "import math\n",
    "import operator"
   ]
  },
  {
   "cell_type": "code",
   "execution_count": 3,
   "metadata": {},
   "outputs": [],
   "source": [
    "df_rec=pd.read_csv(\"F:/SHRINIVAS/KGP/BTP/Meal-Planning/Data/MealRec/recipe.csv\")"
   ]
  },
  {
   "cell_type": "code",
   "execution_count": 4,
   "metadata": {},
   "outputs": [
    {
     "data": {
      "text/html": [
       "<div>\n",
       "<style scoped>\n",
       "    .dataframe tbody tr th:only-of-type {\n",
       "        vertical-align: middle;\n",
       "    }\n",
       "\n",
       "    .dataframe tbody tr th {\n",
       "        vertical-align: top;\n",
       "    }\n",
       "\n",
       "    .dataframe thead th {\n",
       "        text-align: right;\n",
       "    }\n",
       "</style>\n",
       "<table border=\"1\" class=\"dataframe\">\n",
       "  <thead>\n",
       "    <tr style=\"text-align: right;\">\n",
       "      <th></th>\n",
       "      <th>Unnamed: 0</th>\n",
       "      <th>recipe_id</th>\n",
       "      <th>recipe_name</th>\n",
       "      <th>review_nums</th>\n",
       "      <th>category</th>\n",
       "      <th>aver_rate</th>\n",
       "      <th>image_url</th>\n",
       "      <th>ingredients</th>\n",
       "      <th>cooking_directions</th>\n",
       "      <th>nutritions</th>\n",
       "      <th>reviews</th>\n",
       "      <th>tags</th>\n",
       "    </tr>\n",
       "  </thead>\n",
       "  <tbody>\n",
       "    <tr>\n",
       "      <th>0</th>\n",
       "      <td>0</td>\n",
       "      <td>6698</td>\n",
       "      <td>Mom's Zucchini Bread</td>\n",
       "      <td>9355</td>\n",
       "      <td>appetizer</td>\n",
       "      <td>4.754207</td>\n",
       "      <td>https://images.media-allrecipes.com/userphotos...</td>\n",
       "      <td>all-purpose flour^salt^baking soda^baking powd...</td>\n",
       "      <td>{'directions': u'Prep\\n20 m\\nCook\\n1 h\\nReady ...</td>\n",
       "      <td>{u'niacin': {u'hasCompleteData': True, u'name'...</td>\n",
       "      <td>{9568256: {'rating': 5, 'followersCount': 0, '...</td>\n",
       "      <td>north-american;breads;easy;beginner-cook;inexp...</td>\n",
       "    </tr>\n",
       "    <tr>\n",
       "      <th>1</th>\n",
       "      <td>1</td>\n",
       "      <td>6709</td>\n",
       "      <td>Zucchini Walnut Bread</td>\n",
       "      <td>58</td>\n",
       "      <td>appetizer</td>\n",
       "      <td>4.478873</td>\n",
       "      <td>http://images.media-allrecipes.com/userphotos/...</td>\n",
       "      <td>chopped walnuts^eggs^white sugar^vegetable oil...</td>\n",
       "      <td>{'directions': u'Whisk together flour, baking ...</td>\n",
       "      <td>{u'niacin': {u'hasCompleteData': True, u'name'...</td>\n",
       "      <td>{1636096: {'rating': 4, 'followersCount': 0, '...</td>\n",
       "      <td>weeknight;breads;fruit;vegetables;kid-friendly...</td>\n",
       "    </tr>\n",
       "    <tr>\n",
       "      <th>2</th>\n",
       "      <td>2</td>\n",
       "      <td>6725</td>\n",
       "      <td>Honey Wheat Bread I</td>\n",
       "      <td>2054</td>\n",
       "      <td>appetizer</td>\n",
       "      <td>4.766846</td>\n",
       "      <td>http://images.media-allrecipes.com/userphotos/...</td>\n",
       "      <td>rapid rise yeast^white sugar^warm water (110 d...</td>\n",
       "      <td>{'directions': u'Prep\\n25 m\\nCook\\n35 m\\nReady...</td>\n",
       "      <td>{u'niacin': {u'hasCompleteData': True, u'name'...</td>\n",
       "      <td>{1542146: {'rating': 4, 'followersCount': 56, ...</td>\n",
       "      <td>healthy;breads;dietary;low-cholesterol;healthy...</td>\n",
       "    </tr>\n",
       "    <tr>\n",
       "      <th>3</th>\n",
       "      <td>3</td>\n",
       "      <td>6730</td>\n",
       "      <td>Chocolate Chip Orange Zucchini Bread</td>\n",
       "      <td>503</td>\n",
       "      <td>dessert</td>\n",
       "      <td>4.674833</td>\n",
       "      <td>https://images.media-allrecipes.com/userphotos...</td>\n",
       "      <td>eggs^white sugar^vegetable oil^vanilla extract...</td>\n",
       "      <td>{'directions': u'Sift together flour, baking p...</td>\n",
       "      <td>{u'niacin': {u'hasCompleteData': True, u'name'...</td>\n",
       "      <td>{1978376: {'rating': 5, 'followersCount': 0, '...</td>\n",
       "      <td>for-large-groups;healthy;breads;kid-friendly;d...</td>\n",
       "    </tr>\n",
       "    <tr>\n",
       "      <th>4</th>\n",
       "      <td>4</td>\n",
       "      <td>6732</td>\n",
       "      <td>Chocolate Chip Pumpkin Bread</td>\n",
       "      <td>866</td>\n",
       "      <td>dessert</td>\n",
       "      <td>4.718112</td>\n",
       "      <td>https://images.media-allrecipes.com/userphotos...</td>\n",
       "      <td>white sugar^pumpkin puree^vegetable oil^water^...</td>\n",
       "      <td>{'directions': u'Prep\\n30 m\\nCook\\n1 h\\nReady ...</td>\n",
       "      <td>{u'niacin': {u'hasCompleteData': True, u'name'...</td>\n",
       "      <td>{1830917: {'rating': 3, 'followersCount': 0, '...</td>\n",
       "      <td>breads;fall;winter;seasonal;quick-breads;4-hou...</td>\n",
       "    </tr>\n",
       "  </tbody>\n",
       "</table>\n",
       "</div>"
      ],
      "text/plain": [
       "   Unnamed: 0  recipe_id                           recipe_name  review_nums  \\\n",
       "0           0       6698                  Mom's Zucchini Bread         9355   \n",
       "1           1       6709                 Zucchini Walnut Bread           58   \n",
       "2           2       6725                   Honey Wheat Bread I         2054   \n",
       "3           3       6730  Chocolate Chip Orange Zucchini Bread          503   \n",
       "4           4       6732          Chocolate Chip Pumpkin Bread          866   \n",
       "\n",
       "    category  aver_rate                                          image_url  \\\n",
       "0  appetizer   4.754207  https://images.media-allrecipes.com/userphotos...   \n",
       "1  appetizer   4.478873  http://images.media-allrecipes.com/userphotos/...   \n",
       "2  appetizer   4.766846  http://images.media-allrecipes.com/userphotos/...   \n",
       "3    dessert   4.674833  https://images.media-allrecipes.com/userphotos...   \n",
       "4    dessert   4.718112  https://images.media-allrecipes.com/userphotos...   \n",
       "\n",
       "                                         ingredients  \\\n",
       "0  all-purpose flour^salt^baking soda^baking powd...   \n",
       "1  chopped walnuts^eggs^white sugar^vegetable oil...   \n",
       "2  rapid rise yeast^white sugar^warm water (110 d...   \n",
       "3  eggs^white sugar^vegetable oil^vanilla extract...   \n",
       "4  white sugar^pumpkin puree^vegetable oil^water^...   \n",
       "\n",
       "                                  cooking_directions  \\\n",
       "0  {'directions': u'Prep\\n20 m\\nCook\\n1 h\\nReady ...   \n",
       "1  {'directions': u'Whisk together flour, baking ...   \n",
       "2  {'directions': u'Prep\\n25 m\\nCook\\n35 m\\nReady...   \n",
       "3  {'directions': u'Sift together flour, baking p...   \n",
       "4  {'directions': u'Prep\\n30 m\\nCook\\n1 h\\nReady ...   \n",
       "\n",
       "                                          nutritions  \\\n",
       "0  {u'niacin': {u'hasCompleteData': True, u'name'...   \n",
       "1  {u'niacin': {u'hasCompleteData': True, u'name'...   \n",
       "2  {u'niacin': {u'hasCompleteData': True, u'name'...   \n",
       "3  {u'niacin': {u'hasCompleteData': True, u'name'...   \n",
       "4  {u'niacin': {u'hasCompleteData': True, u'name'...   \n",
       "\n",
       "                                             reviews  \\\n",
       "0  {9568256: {'rating': 5, 'followersCount': 0, '...   \n",
       "1  {1636096: {'rating': 4, 'followersCount': 0, '...   \n",
       "2  {1542146: {'rating': 4, 'followersCount': 56, ...   \n",
       "3  {1978376: {'rating': 5, 'followersCount': 0, '...   \n",
       "4  {1830917: {'rating': 3, 'followersCount': 0, '...   \n",
       "\n",
       "                                                tags  \n",
       "0  north-american;breads;easy;beginner-cook;inexp...  \n",
       "1  weeknight;breads;fruit;vegetables;kid-friendly...  \n",
       "2  healthy;breads;dietary;low-cholesterol;healthy...  \n",
       "3  for-large-groups;healthy;breads;kid-friendly;d...  \n",
       "4  breads;fall;winter;seasonal;quick-breads;4-hou...  "
      ]
     },
     "execution_count": 4,
     "metadata": {},
     "output_type": "execute_result"
    }
   ],
   "source": [
    "df_rec.head()"
   ]
  },
  {
   "cell_type": "code",
   "execution_count": 5,
   "metadata": {},
   "outputs": [],
   "source": [
    "df_meal=pd.read_csv(\"F:\\SHRINIVAS\\KGP\\BTP\\Meal-Planning\\Data\\MealRec\\meal.csv\")"
   ]
  },
  {
   "cell_type": "code",
   "execution_count": 6,
   "metadata": {},
   "outputs": [
    {
     "data": {
      "text/html": [
       "<div>\n",
       "<style scoped>\n",
       "    .dataframe tbody tr th:only-of-type {\n",
       "        vertical-align: middle;\n",
       "    }\n",
       "\n",
       "    .dataframe tbody tr th {\n",
       "        vertical-align: top;\n",
       "    }\n",
       "\n",
       "    .dataframe thead th {\n",
       "        text-align: right;\n",
       "    }\n",
       "</style>\n",
       "<table border=\"1\" class=\"dataframe\">\n",
       "  <thead>\n",
       "    <tr style=\"text-align: right;\">\n",
       "      <th></th>\n",
       "      <th>bundle_id</th>\n",
       "      <th>appetizer</th>\n",
       "      <th>main_dish</th>\n",
       "      <th>dessert</th>\n",
       "    </tr>\n",
       "  </thead>\n",
       "  <tbody>\n",
       "    <tr>\n",
       "      <th>0</th>\n",
       "      <td>242</td>\n",
       "      <td>8626</td>\n",
       "      <td>8652</td>\n",
       "      <td>17652</td>\n",
       "    </tr>\n",
       "    <tr>\n",
       "      <th>1</th>\n",
       "      <td>885</td>\n",
       "      <td>15034</td>\n",
       "      <td>25272</td>\n",
       "      <td>24843</td>\n",
       "    </tr>\n",
       "    <tr>\n",
       "      <th>2</th>\n",
       "      <td>1077</td>\n",
       "      <td>24745</td>\n",
       "      <td>26460</td>\n",
       "      <td>17652</td>\n",
       "    </tr>\n",
       "    <tr>\n",
       "      <th>3</th>\n",
       "      <td>1187</td>\n",
       "      <td>15184</td>\n",
       "      <td>55872</td>\n",
       "      <td>19017</td>\n",
       "    </tr>\n",
       "    <tr>\n",
       "      <th>4</th>\n",
       "      <td>1340</td>\n",
       "      <td>13062</td>\n",
       "      <td>13218</td>\n",
       "      <td>10813</td>\n",
       "    </tr>\n",
       "  </tbody>\n",
       "</table>\n",
       "</div>"
      ],
      "text/plain": [
       "   bundle_id  appetizer  main_dish  dessert\n",
       "0        242       8626       8652    17652\n",
       "1        885      15034      25272    24843\n",
       "2       1077      24745      26460    17652\n",
       "3       1187      15184      55872    19017\n",
       "4       1340      13062      13218    10813"
      ]
     },
     "execution_count": 6,
     "metadata": {},
     "output_type": "execute_result"
    }
   ],
   "source": [
    "df_meal.head()"
   ]
  },
  {
   "cell_type": "code",
   "execution_count": 7,
   "metadata": {},
   "outputs": [],
   "source": [
    "appetizers=df_meal['appetizer'].values\n",
    "main=df_meal['main_dish'].values\n",
    "desert=df_meal['dessert'].values"
   ]
  },
  {
   "cell_type": "code",
   "execution_count": 8,
   "metadata": {},
   "outputs": [],
   "source": [
    "ids=df_rec['recipe_id'].values\n",
    "titles=df_rec['recipe_name'].values\n",
    "id2title={ids[i]:titles[i] for i in range(len(ids))}\n",
    "title2id={titles[i]:ids[i] for i in range(len(ids))}\n",
    "id2id={ids[i]:i+1 for i in range(len(ids))}"
   ]
  },
  {
   "cell_type": "code",
   "execution_count": 9,
   "metadata": {},
   "outputs": [],
   "source": [
    "sentences=[]\n",
    "for i in range(len(df_meal)):\n",
    "    sentences.append([\n",
    "        id2id[appetizers[i]],\n",
    "        id2id[main[i]],\n",
    "        id2id[desert[i]],\n",
    "    ])"
   ]
  },
  {
   "cell_type": "code",
   "execution_count": 2,
   "metadata": {},
   "outputs": [],
   "source": [
    "df_recs=pd.read_csv(\"F:\\SHRINIVAS\\KGP\\BTP\\Meal-Planning\\Data\\Processed\\dishes.csv\")"
   ]
  },
  {
   "cell_type": "code",
   "execution_count": 3,
   "metadata": {},
   "outputs": [
    {
     "data": {
      "text/html": [
       "<div>\n",
       "<style scoped>\n",
       "    .dataframe tbody tr th:only-of-type {\n",
       "        vertical-align: middle;\n",
       "    }\n",
       "\n",
       "    .dataframe tbody tr th {\n",
       "        vertical-align: top;\n",
       "    }\n",
       "\n",
       "    .dataframe thead th {\n",
       "        text-align: right;\n",
       "    }\n",
       "</style>\n",
       "<table border=\"1\" class=\"dataframe\">\n",
       "  <thead>\n",
       "    <tr style=\"text-align: right;\">\n",
       "      <th></th>\n",
       "      <th>ID</th>\n",
       "      <th>Title</th>\n",
       "      <th>Category</th>\n",
       "      <th>Cuisine</th>\n",
       "      <th>Calories</th>\n",
       "      <th>Fats</th>\n",
       "      <th>Proteins</th>\n",
       "      <th>Carbohydrates</th>\n",
       "      <th>Breakfast</th>\n",
       "      <th>Lunch</th>\n",
       "      <th>Snacks</th>\n",
       "      <th>Dinner</th>\n",
       "      <th>Typical_serving_size</th>\n",
       "    </tr>\n",
       "  </thead>\n",
       "  <tbody>\n",
       "    <tr>\n",
       "      <th>0</th>\n",
       "      <td>1</td>\n",
       "      <td>Mom'S Zucchini Bread</td>\n",
       "      <td>appetizer</td>\n",
       "      <td>North America</td>\n",
       "      <td>255.1692</td>\n",
       "      <td>13.140870</td>\n",
       "      <td>3.268513</td>\n",
       "      <td>32.05494</td>\n",
       "      <td>1</td>\n",
       "      <td>0</td>\n",
       "      <td>0</td>\n",
       "      <td>0</td>\n",
       "      <td>100</td>\n",
       "    </tr>\n",
       "    <tr>\n",
       "      <th>1</th>\n",
       "      <td>2</td>\n",
       "      <td>Zucchini Walnut Bread</td>\n",
       "      <td>appetizer</td>\n",
       "      <td>NaN</td>\n",
       "      <td>276.0908</td>\n",
       "      <td>13.398670</td>\n",
       "      <td>3.977222</td>\n",
       "      <td>36.54568</td>\n",
       "      <td>1</td>\n",
       "      <td>0</td>\n",
       "      <td>0</td>\n",
       "      <td>0</td>\n",
       "      <td>100</td>\n",
       "    </tr>\n",
       "    <tr>\n",
       "      <th>2</th>\n",
       "      <td>3</td>\n",
       "      <td>Honey Wheat Bread I</td>\n",
       "      <td>appetizer</td>\n",
       "      <td>NaN</td>\n",
       "      <td>156.4551</td>\n",
       "      <td>4.770610</td>\n",
       "      <td>4.626510</td>\n",
       "      <td>24.45452</td>\n",
       "      <td>0</td>\n",
       "      <td>1</td>\n",
       "      <td>0</td>\n",
       "      <td>1</td>\n",
       "      <td>100</td>\n",
       "    </tr>\n",
       "    <tr>\n",
       "      <th>3</th>\n",
       "      <td>4</td>\n",
       "      <td>Chocolate Chip Orange Zucchini Bread</td>\n",
       "      <td>dessert</td>\n",
       "      <td>NaN</td>\n",
       "      <td>280.3475</td>\n",
       "      <td>15.283680</td>\n",
       "      <td>3.563895</td>\n",
       "      <td>34.25740</td>\n",
       "      <td>1</td>\n",
       "      <td>0</td>\n",
       "      <td>0</td>\n",
       "      <td>0</td>\n",
       "      <td>100</td>\n",
       "    </tr>\n",
       "    <tr>\n",
       "      <th>4</th>\n",
       "      <td>5</td>\n",
       "      <td>Chocolate Chip Pumpkin Bread</td>\n",
       "      <td>dessert</td>\n",
       "      <td>NaN</td>\n",
       "      <td>210.1581</td>\n",
       "      <td>9.410045</td>\n",
       "      <td>2.556006</td>\n",
       "      <td>30.47000</td>\n",
       "      <td>1</td>\n",
       "      <td>0</td>\n",
       "      <td>0</td>\n",
       "      <td>0</td>\n",
       "      <td>100</td>\n",
       "    </tr>\n",
       "  </tbody>\n",
       "</table>\n",
       "</div>"
      ],
      "text/plain": [
       "   ID                                 Title   Category        Cuisine  \\\n",
       "0   1                  Mom'S Zucchini Bread  appetizer  North America   \n",
       "1   2                 Zucchini Walnut Bread  appetizer            NaN   \n",
       "2   3                   Honey Wheat Bread I  appetizer            NaN   \n",
       "3   4  Chocolate Chip Orange Zucchini Bread    dessert            NaN   \n",
       "4   5          Chocolate Chip Pumpkin Bread    dessert            NaN   \n",
       "\n",
       "   Calories       Fats  Proteins  Carbohydrates  Breakfast  Lunch  Snacks  \\\n",
       "0  255.1692  13.140870  3.268513       32.05494          1      0       0   \n",
       "1  276.0908  13.398670  3.977222       36.54568          1      0       0   \n",
       "2  156.4551   4.770610  4.626510       24.45452          0      1       0   \n",
       "3  280.3475  15.283680  3.563895       34.25740          1      0       0   \n",
       "4  210.1581   9.410045  2.556006       30.47000          1      0       0   \n",
       "\n",
       "   Dinner  Typical_serving_size  \n",
       "0       0                   100  \n",
       "1       0                   100  \n",
       "2       1                   100  \n",
       "3       0                   100  \n",
       "4       0                   100  "
      ]
     },
     "execution_count": 3,
     "metadata": {},
     "output_type": "execute_result"
    }
   ],
   "source": [
    "df_recs.head()"
   ]
  },
  {
   "cell_type": "code",
   "execution_count": 4,
   "metadata": {},
   "outputs": [
    {
     "data": {
      "text/html": [
       "<div>\n",
       "<style scoped>\n",
       "    .dataframe tbody tr th:only-of-type {\n",
       "        vertical-align: middle;\n",
       "    }\n",
       "\n",
       "    .dataframe tbody tr th {\n",
       "        vertical-align: top;\n",
       "    }\n",
       "\n",
       "    .dataframe thead th {\n",
       "        text-align: right;\n",
       "    }\n",
       "</style>\n",
       "<table border=\"1\" class=\"dataframe\">\n",
       "  <thead>\n",
       "    <tr style=\"text-align: right;\">\n",
       "      <th></th>\n",
       "      <th>ID</th>\n",
       "      <th>Calories</th>\n",
       "      <th>Fats</th>\n",
       "      <th>Proteins</th>\n",
       "      <th>Carbohydrates</th>\n",
       "      <th>Breakfast</th>\n",
       "      <th>Lunch</th>\n",
       "      <th>Snacks</th>\n",
       "      <th>Dinner</th>\n",
       "      <th>Typical_serving_size</th>\n",
       "    </tr>\n",
       "  </thead>\n",
       "  <tbody>\n",
       "    <tr>\n",
       "      <th>count</th>\n",
       "      <td>7280.000000</td>\n",
       "      <td>7280.000000</td>\n",
       "      <td>7280.000000</td>\n",
       "      <td>7280.000000</td>\n",
       "      <td>7280.000000</td>\n",
       "      <td>7280.000000</td>\n",
       "      <td>7280.000000</td>\n",
       "      <td>7280.000000</td>\n",
       "      <td>7280.000000</td>\n",
       "      <td>7280.0</td>\n",
       "    </tr>\n",
       "    <tr>\n",
       "      <th>mean</th>\n",
       "      <td>3640.500000</td>\n",
       "      <td>333.642836</td>\n",
       "      <td>17.808948</td>\n",
       "      <td>14.245719</td>\n",
       "      <td>29.768142</td>\n",
       "      <td>-0.118544</td>\n",
       "      <td>0.487500</td>\n",
       "      <td>-0.031044</td>\n",
       "      <td>0.660852</td>\n",
       "      <td>100.0</td>\n",
       "    </tr>\n",
       "    <tr>\n",
       "      <th>std</th>\n",
       "      <td>2101.699312</td>\n",
       "      <td>207.272847</td>\n",
       "      <td>14.088592</td>\n",
       "      <td>13.908022</td>\n",
       "      <td>23.565712</td>\n",
       "      <td>0.396560</td>\n",
       "      <td>0.734679</td>\n",
       "      <td>0.507802</td>\n",
       "      <td>0.716961</td>\n",
       "      <td>0.0</td>\n",
       "    </tr>\n",
       "    <tr>\n",
       "      <th>min</th>\n",
       "      <td>1.000000</td>\n",
       "      <td>0.000000</td>\n",
       "      <td>0.000000</td>\n",
       "      <td>0.000000</td>\n",
       "      <td>0.000000</td>\n",
       "      <td>-1.000000</td>\n",
       "      <td>-1.000000</td>\n",
       "      <td>-1.000000</td>\n",
       "      <td>-1.000000</td>\n",
       "      <td>100.0</td>\n",
       "    </tr>\n",
       "    <tr>\n",
       "      <th>25%</th>\n",
       "      <td>1820.750000</td>\n",
       "      <td>179.506925</td>\n",
       "      <td>7.479938</td>\n",
       "      <td>3.424565</td>\n",
       "      <td>12.230360</td>\n",
       "      <td>0.000000</td>\n",
       "      <td>0.000000</td>\n",
       "      <td>0.000000</td>\n",
       "      <td>1.000000</td>\n",
       "      <td>100.0</td>\n",
       "    </tr>\n",
       "    <tr>\n",
       "      <th>50%</th>\n",
       "      <td>3640.500000</td>\n",
       "      <td>303.157600</td>\n",
       "      <td>14.562380</td>\n",
       "      <td>8.816630</td>\n",
       "      <td>25.416140</td>\n",
       "      <td>0.000000</td>\n",
       "      <td>1.000000</td>\n",
       "      <td>0.000000</td>\n",
       "      <td>1.000000</td>\n",
       "      <td>100.0</td>\n",
       "    </tr>\n",
       "    <tr>\n",
       "      <th>75%</th>\n",
       "      <td>5460.250000</td>\n",
       "      <td>449.430725</td>\n",
       "      <td>24.784125</td>\n",
       "      <td>22.941025</td>\n",
       "      <td>41.857518</td>\n",
       "      <td>0.000000</td>\n",
       "      <td>1.000000</td>\n",
       "      <td>0.000000</td>\n",
       "      <td>1.000000</td>\n",
       "      <td>100.0</td>\n",
       "    </tr>\n",
       "    <tr>\n",
       "      <th>max</th>\n",
       "      <td>7280.000000</td>\n",
       "      <td>2825.992000</td>\n",
       "      <td>133.601500</td>\n",
       "      <td>146.447800</td>\n",
       "      <td>568.341700</td>\n",
       "      <td>1.000000</td>\n",
       "      <td>1.000000</td>\n",
       "      <td>1.000000</td>\n",
       "      <td>1.000000</td>\n",
       "      <td>100.0</td>\n",
       "    </tr>\n",
       "  </tbody>\n",
       "</table>\n",
       "</div>"
      ],
      "text/plain": [
       "                ID     Calories         Fats     Proteins  Carbohydrates  \\\n",
       "count  7280.000000  7280.000000  7280.000000  7280.000000    7280.000000   \n",
       "mean   3640.500000   333.642836    17.808948    14.245719      29.768142   \n",
       "std    2101.699312   207.272847    14.088592    13.908022      23.565712   \n",
       "min       1.000000     0.000000     0.000000     0.000000       0.000000   \n",
       "25%    1820.750000   179.506925     7.479938     3.424565      12.230360   \n",
       "50%    3640.500000   303.157600    14.562380     8.816630      25.416140   \n",
       "75%    5460.250000   449.430725    24.784125    22.941025      41.857518   \n",
       "max    7280.000000  2825.992000   133.601500   146.447800     568.341700   \n",
       "\n",
       "         Breakfast        Lunch       Snacks       Dinner  \\\n",
       "count  7280.000000  7280.000000  7280.000000  7280.000000   \n",
       "mean     -0.118544     0.487500    -0.031044     0.660852   \n",
       "std       0.396560     0.734679     0.507802     0.716961   \n",
       "min      -1.000000    -1.000000    -1.000000    -1.000000   \n",
       "25%       0.000000     0.000000     0.000000     1.000000   \n",
       "50%       0.000000     1.000000     0.000000     1.000000   \n",
       "75%       0.000000     1.000000     0.000000     1.000000   \n",
       "max       1.000000     1.000000     1.000000     1.000000   \n",
       "\n",
       "       Typical_serving_size  \n",
       "count                7280.0  \n",
       "mean                  100.0  \n",
       "std                     0.0  \n",
       "min                   100.0  \n",
       "25%                   100.0  \n",
       "50%                   100.0  \n",
       "75%                   100.0  \n",
       "max                   100.0  "
      ]
     },
     "execution_count": 4,
     "metadata": {},
     "output_type": "execute_result"
    }
   ],
   "source": [
    "df_recs.describe()"
   ]
  },
  {
   "cell_type": "code",
   "execution_count": 12,
   "metadata": {},
   "outputs": [],
   "source": [
    "df_kgl=pd.read_csv(\"F:\\SHRINIVAS\\KGP\\BTP\\Meal-Planning\\Data\\Kaggle Meal Plan\\mealplans.csv\")"
   ]
  },
  {
   "cell_type": "code",
   "execution_count": 13,
   "metadata": {},
   "outputs": [
    {
     "data": {
      "text/html": [
       "<div>\n",
       "<style scoped>\n",
       "    .dataframe tbody tr th:only-of-type {\n",
       "        vertical-align: middle;\n",
       "    }\n",
       "\n",
       "    .dataframe tbody tr th {\n",
       "        vertical-align: top;\n",
       "    }\n",
       "\n",
       "    .dataframe thead th {\n",
       "        text-align: right;\n",
       "    }\n",
       "</style>\n",
       "<table border=\"1\" class=\"dataframe\">\n",
       "  <thead>\n",
       "    <tr style=\"text-align: right;\">\n",
       "      <th></th>\n",
       "      <th>id</th>\n",
       "      <th>calories</th>\n",
       "      <th>caloriesFromFat</th>\n",
       "      <th>totalFat</th>\n",
       "      <th>saturatedFat</th>\n",
       "      <th>cholesterol</th>\n",
       "      <th>sodium</th>\n",
       "      <th>potassium</th>\n",
       "      <th>totalCarbohydrates</th>\n",
       "      <th>dietaryFiber</th>\n",
       "      <th>...</th>\n",
       "      <th>lunch4</th>\n",
       "      <th>dinner0</th>\n",
       "      <th>dinner1</th>\n",
       "      <th>dinner2</th>\n",
       "      <th>dinner3</th>\n",
       "      <th>dinner4</th>\n",
       "      <th>dinner5</th>\n",
       "      <th>dinner6</th>\n",
       "      <th>snacks0</th>\n",
       "      <th>snacks1</th>\n",
       "    </tr>\n",
       "  </thead>\n",
       "  <tbody>\n",
       "    <tr>\n",
       "      <th>0</th>\n",
       "      <td>150001</td>\n",
       "      <td>2455.0</td>\n",
       "      <td>1156.0</td>\n",
       "      <td>128.5</td>\n",
       "      <td>50.4</td>\n",
       "      <td>694.0</td>\n",
       "      <td>4477.0</td>\n",
       "      <td>3377.0</td>\n",
       "      <td>239.8</td>\n",
       "      <td>17.6</td>\n",
       "      <td>...</td>\n",
       "      <td>NaN</td>\n",
       "      <td>24597</td>\n",
       "      <td>31527.0</td>\n",
       "      <td>36455.0</td>\n",
       "      <td>NaN</td>\n",
       "      <td>NaN</td>\n",
       "      <td>NaN</td>\n",
       "      <td>NaN</td>\n",
       "      <td>22025.0</td>\n",
       "      <td>45908.0</td>\n",
       "    </tr>\n",
       "    <tr>\n",
       "      <th>1</th>\n",
       "      <td>150002</td>\n",
       "      <td>3515.0</td>\n",
       "      <td>1291.0</td>\n",
       "      <td>143.5</td>\n",
       "      <td>49.1</td>\n",
       "      <td>524.0</td>\n",
       "      <td>7766.0</td>\n",
       "      <td>3734.0</td>\n",
       "      <td>408.1</td>\n",
       "      <td>37.2</td>\n",
       "      <td>...</td>\n",
       "      <td>NaN</td>\n",
       "      <td>21650</td>\n",
       "      <td>24030.0</td>\n",
       "      <td>37700.0</td>\n",
       "      <td>41204.0</td>\n",
       "      <td>NaN</td>\n",
       "      <td>NaN</td>\n",
       "      <td>NaN</td>\n",
       "      <td>17404.0</td>\n",
       "      <td>41265.0</td>\n",
       "    </tr>\n",
       "    <tr>\n",
       "      <th>2</th>\n",
       "      <td>150003</td>\n",
       "      <td>3518.0</td>\n",
       "      <td>1709.0</td>\n",
       "      <td>190.0</td>\n",
       "      <td>63.3</td>\n",
       "      <td>1079.0</td>\n",
       "      <td>5261.0</td>\n",
       "      <td>2670.0</td>\n",
       "      <td>354.1</td>\n",
       "      <td>21.6</td>\n",
       "      <td>...</td>\n",
       "      <td>NaN</td>\n",
       "      <td>6145</td>\n",
       "      <td>12578.0</td>\n",
       "      <td>24211.0</td>\n",
       "      <td>48024.0</td>\n",
       "      <td>NaN</td>\n",
       "      <td>NaN</td>\n",
       "      <td>NaN</td>\n",
       "      <td>16607.0</td>\n",
       "      <td>21810.0</td>\n",
       "    </tr>\n",
       "    <tr>\n",
       "      <th>3</th>\n",
       "      <td>150004</td>\n",
       "      <td>3771.0</td>\n",
       "      <td>1207.0</td>\n",
       "      <td>134.0</td>\n",
       "      <td>44.3</td>\n",
       "      <td>294.0</td>\n",
       "      <td>3515.0</td>\n",
       "      <td>4667.0</td>\n",
       "      <td>560.8</td>\n",
       "      <td>44.3</td>\n",
       "      <td>...</td>\n",
       "      <td>NaN</td>\n",
       "      <td>16377</td>\n",
       "      <td>20131.0</td>\n",
       "      <td>33967.0</td>\n",
       "      <td>40897.0</td>\n",
       "      <td>NaN</td>\n",
       "      <td>NaN</td>\n",
       "      <td>NaN</td>\n",
       "      <td>35313.0</td>\n",
       "      <td>46133.0</td>\n",
       "    </tr>\n",
       "    <tr>\n",
       "      <th>4</th>\n",
       "      <td>150005</td>\n",
       "      <td>3439.0</td>\n",
       "      <td>1191.0</td>\n",
       "      <td>132.2</td>\n",
       "      <td>32.7</td>\n",
       "      <td>751.0</td>\n",
       "      <td>3617.0</td>\n",
       "      <td>6585.0</td>\n",
       "      <td>399.0</td>\n",
       "      <td>35.3</td>\n",
       "      <td>...</td>\n",
       "      <td>NaN</td>\n",
       "      <td>13505</td>\n",
       "      <td>13760.0</td>\n",
       "      <td>31568.0</td>\n",
       "      <td>49135.0</td>\n",
       "      <td>NaN</td>\n",
       "      <td>NaN</td>\n",
       "      <td>NaN</td>\n",
       "      <td>39083.0</td>\n",
       "      <td>NaN</td>\n",
       "    </tr>\n",
       "  </tbody>\n",
       "</table>\n",
       "<p>5 rows × 38 columns</p>\n",
       "</div>"
      ],
      "text/plain": [
       "       id  calories  caloriesFromFat  totalFat  saturatedFat  cholesterol  \\\n",
       "0  150001    2455.0           1156.0     128.5          50.4        694.0   \n",
       "1  150002    3515.0           1291.0     143.5          49.1        524.0   \n",
       "2  150003    3518.0           1709.0     190.0          63.3       1079.0   \n",
       "3  150004    3771.0           1207.0     134.0          44.3        294.0   \n",
       "4  150005    3439.0           1191.0     132.2          32.7        751.0   \n",
       "\n",
       "   sodium  potassium  totalCarbohydrates  dietaryFiber  ...  lunch4  dinner0  \\\n",
       "0  4477.0     3377.0               239.8          17.6  ...     NaN    24597   \n",
       "1  7766.0     3734.0               408.1          37.2  ...     NaN    21650   \n",
       "2  5261.0     2670.0               354.1          21.6  ...     NaN     6145   \n",
       "3  3515.0     4667.0               560.8          44.3  ...     NaN    16377   \n",
       "4  3617.0     6585.0               399.0          35.3  ...     NaN    13505   \n",
       "\n",
       "   dinner1  dinner2  dinner3  dinner4  dinner5  dinner6  snacks0  snacks1  \n",
       "0  31527.0  36455.0      NaN      NaN      NaN      NaN  22025.0  45908.0  \n",
       "1  24030.0  37700.0  41204.0      NaN      NaN      NaN  17404.0  41265.0  \n",
       "2  12578.0  24211.0  48024.0      NaN      NaN      NaN  16607.0  21810.0  \n",
       "3  20131.0  33967.0  40897.0      NaN      NaN      NaN  35313.0  46133.0  \n",
       "4  13760.0  31568.0  49135.0      NaN      NaN      NaN  39083.0      NaN  \n",
       "\n",
       "[5 rows x 38 columns]"
      ]
     },
     "execution_count": 13,
     "metadata": {},
     "output_type": "execute_result"
    }
   ],
   "source": [
    "df_kgl.head()"
   ]
  },
  {
   "cell_type": "code",
   "execution_count": 14,
   "metadata": {},
   "outputs": [],
   "source": [
    "df_kgl_dishes=pd.read_csv(\"F:\\SHRINIVAS\\KGP\\BTP\\Meal-Planning\\Data\\Kaggle Meal Plan\\dishes.csv\")"
   ]
  },
  {
   "cell_type": "code",
   "execution_count": 15,
   "metadata": {},
   "outputs": [
    {
     "data": {
      "text/html": [
       "<div>\n",
       "<style scoped>\n",
       "    .dataframe tbody tr th:only-of-type {\n",
       "        vertical-align: middle;\n",
       "    }\n",
       "\n",
       "    .dataframe tbody tr th {\n",
       "        vertical-align: top;\n",
       "    }\n",
       "\n",
       "    .dataframe thead th {\n",
       "        text-align: right;\n",
       "    }\n",
       "</style>\n",
       "<table border=\"1\" class=\"dataframe\">\n",
       "  <thead>\n",
       "    <tr style=\"text-align: right;\">\n",
       "      <th></th>\n",
       "      <th>id</th>\n",
       "      <th>title</th>\n",
       "      <th>rating</th>\n",
       "    </tr>\n",
       "  </thead>\n",
       "  <tbody>\n",
       "    <tr>\n",
       "      <th>0</th>\n",
       "      <td>1</td>\n",
       "      <td>1-2-3 Cherry Poke Cake</td>\n",
       "      <td>2.293924</td>\n",
       "    </tr>\n",
       "    <tr>\n",
       "      <th>1</th>\n",
       "      <td>2</td>\n",
       "      <td>1-2-3 Complete Breakfast Smoothie</td>\n",
       "      <td>4.848926</td>\n",
       "    </tr>\n",
       "    <tr>\n",
       "      <th>2</th>\n",
       "      <td>3</td>\n",
       "      <td>1-2-3 Jambalaya</td>\n",
       "      <td>2.098743</td>\n",
       "    </tr>\n",
       "    <tr>\n",
       "      <th>3</th>\n",
       "      <td>4</td>\n",
       "      <td>1-2-3 Lemon Icebox Pie</td>\n",
       "      <td>4.848926</td>\n",
       "    </tr>\n",
       "    <tr>\n",
       "      <th>4</th>\n",
       "      <td>5</td>\n",
       "      <td>1-Dish Chicken Parmesan</td>\n",
       "      <td>0.672865</td>\n",
       "    </tr>\n",
       "  </tbody>\n",
       "</table>\n",
       "</div>"
      ],
      "text/plain": [
       "   id                              title    rating\n",
       "0   1             1-2-3 Cherry Poke Cake  2.293924\n",
       "1   2  1-2-3 Complete Breakfast Smoothie  4.848926\n",
       "2   3                    1-2-3 Jambalaya  2.098743\n",
       "3   4             1-2-3 Lemon Icebox Pie  4.848926\n",
       "4   5            1-Dish Chicken Parmesan  0.672865"
      ]
     },
     "execution_count": 15,
     "metadata": {},
     "output_type": "execute_result"
    }
   ],
   "source": [
    "df_kgl_dishes.head()"
   ]
  },
  {
   "cell_type": "code",
   "execution_count": 16,
   "metadata": {},
   "outputs": [],
   "source": [
    "remove_punc=['!','\"','.','?',':','/','*','~','#','$','%',';','+','=','[',']','<','>','@','`','^','\\\\','_','{','}','|']\n",
    "remove_punc_str=\"\".join(remove_punc) \n",
    "\n",
    "def clean(s):\n",
    "  s = s.title() # convert to titlecase: All individual words first letter capitalised\n",
    "  s=s.strip() # Remove trailing and leading spaces\n",
    "  s=s.lstrip(string.digits+\" \"+string.punctuation) # remove leading numbers, spaces and punctuations\n",
    "  s = s.translate(str.maketrans({key: None for key in remove_punc_str})) # remove other unnecessary punctuations\n",
    "  if(len(s)>3):\n",
    "    if(s[:2]==\"A \" or s[:3]==\"A'S\" or s[:2]==\"A-\" or s[:2]==\"A)\" or s[:2]==\"A1\" or s[:3]==\"(A)\"):\n",
    "      s=s[2:]\n",
    "  else:\n",
    "    return ''\n",
    "  s=s.lstrip(string.digits+\" \"+string.punctuation) # remove leading numbers, spaces and punctuations\n",
    "  s=s.rstrip(\" \"+remove_punc_str)  # remove trailing spaces and punctuations. Not digits as titles can end with <recipe> for 1\n",
    "  s=re.sub(' +', ' ', s) # remove extra spaces from in between\n",
    "  return s"
   ]
  },
  {
   "cell_type": "code",
   "execution_count": 17,
   "metadata": {},
   "outputs": [],
   "source": [
    "kgl_titles=df_kgl_dishes['title'].values\n",
    "kgl_ids=df_kgl_dishes['id'].values\n",
    "kgl_titles=[clean(val) for val in kgl_titles]\n",
    "kgl_id2title={kgl_ids[i]:kgl_titles[i] for i in range(len(kgl_titles))}"
   ]
  },
  {
   "cell_type": "code",
   "execution_count": 18,
   "metadata": {},
   "outputs": [
    {
     "data": {
      "text/plain": [
       "Index(['id', 'calories', 'caloriesFromFat', 'totalFat', 'saturatedFat',\n",
       "       'cholesterol', 'sodium', 'potassium', 'totalCarbohydrates',\n",
       "       'dietaryFiber', 'protein', 'sugars', 'vitaminA', 'vitaminC', 'calcium',\n",
       "       'iron', 'thiamin', 'niacin', 'vitaminB6', 'magnesium', 'folate',\n",
       "       'breakfast0', 'breakfast1', 'breakfast2', 'lunch0', 'lunch1', 'lunch2',\n",
       "       'lunch3', 'lunch4', 'dinner0', 'dinner1', 'dinner2', 'dinner3',\n",
       "       'dinner4', 'dinner5', 'dinner6', 'snacks0', 'snacks1'],\n",
       "      dtype='object')"
      ]
     },
     "execution_count": 18,
     "metadata": {},
     "output_type": "execute_result"
    }
   ],
   "source": [
    "df_kgl.columns"
   ]
  },
  {
   "cell_type": "code",
   "execution_count": 19,
   "metadata": {},
   "outputs": [],
   "source": [
    "meal_plans=df_kgl[['breakfast0', 'breakfast1', 'breakfast2', 'lunch0', 'lunch1', 'lunch2',\n",
    "       'lunch3', 'lunch4', 'dinner0', 'dinner1', 'dinner2', 'dinner3',\n",
    "       'dinner4', 'dinner5', 'dinner6', 'snacks0', 'snacks1']].values.tolist()"
   ]
  },
  {
   "cell_type": "code",
   "execution_count": 20,
   "metadata": {},
   "outputs": [
    {
     "data": {
      "text/plain": [
       "(275290, 275290)"
      ]
     },
     "execution_count": 20,
     "metadata": {},
     "output_type": "execute_result"
    }
   ],
   "source": [
    "len(meal_plans),len(df_kgl)"
   ]
  },
  {
   "cell_type": "code",
   "execution_count": 21,
   "metadata": {},
   "outputs": [],
   "source": [
    "titles=df_recs['Title'].values\n",
    "titles=[clean(val) for val in titles]\n",
    "title2id={titles[i]:i+1 for i in range(len(titles))}\n",
    "titles=set(titles)"
   ]
  },
  {
   "cell_type": "code",
   "execution_count": 22,
   "metadata": {},
   "outputs": [
    {
     "name": "stdout",
     "output_type": "stream",
     "text": [
      "[16871.0, 51793.0, nan, 40536.0, 44745.0, nan, nan, nan, 24597.0, 31527.0, 36455.0, nan, nan, nan, nan, 22025.0, 45908.0]\n"
     ]
    }
   ],
   "source": [
    "print(meal_plans[0])"
   ]
  },
  {
   "cell_type": "code",
   "execution_count": 23,
   "metadata": {},
   "outputs": [],
   "source": [
    "sentences=[]\n",
    "for i in range(len(df_meal)):\n",
    "    sentences.append([\n",
    "        id2id[appetizers[i]],\n",
    "        id2id[main[i]],\n",
    "        id2id[desert[i]],\n",
    "    ])"
   ]
  },
  {
   "cell_type": "code",
   "execution_count": 24,
   "metadata": {},
   "outputs": [],
   "source": [
    "for meal_plan in meal_plans:\n",
    "    flag=1\n",
    "    sent=[]\n",
    "    for dish in meal_plan:\n",
    "        if(not np.isnan(float(dish))):\n",
    "            if kgl_id2title[int(dish)] in titles:\n",
    "                sent.append(title2id[kgl_id2title[int(dish)]])\n",
    "    if len(sent)>1:\n",
    "        sentences.append(sent)"
   ]
  },
  {
   "cell_type": "code",
   "execution_count": 25,
   "metadata": {},
   "outputs": [
    {
     "data": {
      "text/plain": [
       "110301"
      ]
     },
     "execution_count": 25,
     "metadata": {},
     "output_type": "execute_result"
    }
   ],
   "source": [
    "len(sentences)"
   ]
  },
  {
   "cell_type": "code",
   "execution_count": 66,
   "metadata": {},
   "outputs": [],
   "source": [
    "model_w2v = Word2Vec(sentences, min_count=1)"
   ]
  },
  {
   "cell_type": "code",
   "execution_count": 26,
   "metadata": {},
   "outputs": [],
   "source": [
    "model_w2v.wv.save_word2vec_format(\"F:\\SHRINIVAS\\KGP\\BTP\\Meal-Planning\\models\\w2v_combi.bin\",binary=True)"
   ]
  },
  {
   "cell_type": "code",
   "execution_count": 26,
   "metadata": {},
   "outputs": [
    {
     "name": "stdout",
     "output_type": "stream",
     "text": [
      "Word2Vec<vocab=6350, vector_size=100, alpha=0.025>\n"
     ]
    }
   ],
   "source": [
    "print(model_w2v)"
   ]
  },
  {
   "cell_type": "code",
   "execution_count": 101,
   "metadata": {},
   "outputs": [],
   "source": [
    "titles=df_recs['Title'].values\n",
    "titles=[clean(val) for val in titles]\n",
    "id2title={i+1:titles[i] for i in range(len(titles))}"
   ]
  },
  {
   "cell_type": "code",
   "execution_count": 99,
   "metadata": {},
   "outputs": [],
   "source": [
    "def getSimilarW2v(id):\n",
    "    print(\"Title: \",titles[id-1])\n",
    "    sims=model_w2v.wv.similar_by_word(id)\n",
    "    for id in sims:\n",
    "        print(id2title[id[0]])"
   ]
  },
  {
   "cell_type": "code",
   "execution_count": 100,
   "metadata": {},
   "outputs": [
    {
     "name": "stdout",
     "output_type": "stream",
     "text": [
      "Title:  Italian Herb Bread I\n",
      "Pepperoni Stuffed Mushrooms\n",
      "Parmesan Puffs\n",
      "Italian Tomato Cucumber Salad\n",
      "Root Vegetables Baked In Pesto Sauce\n",
      "Cranberry Almond Biscotti\n",
      "Fantastic Focaccia Bread\n",
      "Fresh Mozzarella Pasta Salad\n",
      "Party Italian Wedding Soup\n",
      "Spoon Cookies\n",
      "Easy Polenta With Tomato Sauce\n"
     ]
    }
   ],
   "source": [
    "getSimilarW2v(10)"
   ]
  },
  {
   "cell_type": "code",
   "execution_count": null,
   "metadata": {},
   "outputs": [
    {
     "data": {
      "text/plain": [
       "array(['North America', nan, 'United States', 'Europe', 'Italy',\n",
       "       'Middle East', 'South East Asia', 'Canada', 'France', 'Mexico',\n",
       "       'British Isles', 'Australia & NZ', 'Greece', 'Eastern Europe',\n",
       "       'Asia', 'South America', 'China', 'Japan', 'Africa',\n",
       "       'Indian Subcontinent', 'Korea'], dtype=object)"
      ]
     },
     "execution_count": 30,
     "metadata": {},
     "output_type": "execute_result"
    }
   ],
   "source": [
    "df_recs['Cuisine'].unique()"
   ]
  },
  {
   "cell_type": "code",
   "execution_count": null,
   "metadata": {},
   "outputs": [
    {
     "data": {
      "text/html": [
       "<div>\n",
       "<style scoped>\n",
       "    .dataframe tbody tr th:only-of-type {\n",
       "        vertical-align: middle;\n",
       "    }\n",
       "\n",
       "    .dataframe tbody tr th {\n",
       "        vertical-align: top;\n",
       "    }\n",
       "\n",
       "    .dataframe thead th {\n",
       "        text-align: right;\n",
       "    }\n",
       "</style>\n",
       "<table border=\"1\" class=\"dataframe\">\n",
       "  <thead>\n",
       "    <tr style=\"text-align: right;\">\n",
       "      <th></th>\n",
       "      <th>ID</th>\n",
       "      <th>Title</th>\n",
       "      <th>Category</th>\n",
       "      <th>Cuisine</th>\n",
       "      <th>Calories</th>\n",
       "      <th>Fats</th>\n",
       "      <th>Proteins</th>\n",
       "      <th>Carbohydrates</th>\n",
       "      <th>Breakfast</th>\n",
       "      <th>Lunch</th>\n",
       "      <th>Snacks</th>\n",
       "      <th>Dinner</th>\n",
       "      <th>Typical_serving_size</th>\n",
       "    </tr>\n",
       "  </thead>\n",
       "  <tbody>\n",
       "    <tr>\n",
       "      <th>2677</th>\n",
       "      <td>2678</td>\n",
       "      <td>Stuffed Tomatoes</td>\n",
       "      <td>appetizer</td>\n",
       "      <td>Indian Subcontinent</td>\n",
       "      <td>548.0551</td>\n",
       "      <td>32.773380</td>\n",
       "      <td>28.487350</td>\n",
       "      <td>36.73273</td>\n",
       "      <td>0</td>\n",
       "      <td>1</td>\n",
       "      <td>0</td>\n",
       "      <td>1</td>\n",
       "      <td>100</td>\n",
       "    </tr>\n",
       "    <tr>\n",
       "      <th>5892</th>\n",
       "      <td>5893</td>\n",
       "      <td>Aloo Gobhi</td>\n",
       "      <td>main-dish</td>\n",
       "      <td>Indian Subcontinent</td>\n",
       "      <td>244.1541</td>\n",
       "      <td>7.679012</td>\n",
       "      <td>8.205558</td>\n",
       "      <td>40.48901</td>\n",
       "      <td>0</td>\n",
       "      <td>1</td>\n",
       "      <td>0</td>\n",
       "      <td>1</td>\n",
       "      <td>100</td>\n",
       "    </tr>\n",
       "    <tr>\n",
       "      <th>5319</th>\n",
       "      <td>5320</td>\n",
       "      <td>Tim Perry'S Soup (Creamy Curry Cauliflower And...</td>\n",
       "      <td>appetizer</td>\n",
       "      <td>Indian Subcontinent</td>\n",
       "      <td>348.4337</td>\n",
       "      <td>20.019760</td>\n",
       "      <td>20.725330</td>\n",
       "      <td>24.08469</td>\n",
       "      <td>0</td>\n",
       "      <td>1</td>\n",
       "      <td>0</td>\n",
       "      <td>1</td>\n",
       "      <td>100</td>\n",
       "    </tr>\n",
       "    <tr>\n",
       "      <th>4342</th>\n",
       "      <td>4343</td>\n",
       "      <td>Chicken Korma Ii</td>\n",
       "      <td>main-dish</td>\n",
       "      <td>Indian Subcontinent</td>\n",
       "      <td>397.7891</td>\n",
       "      <td>27.461760</td>\n",
       "      <td>25.311290</td>\n",
       "      <td>13.44186</td>\n",
       "      <td>0</td>\n",
       "      <td>1</td>\n",
       "      <td>0</td>\n",
       "      <td>1</td>\n",
       "      <td>100</td>\n",
       "    </tr>\n",
       "    <tr>\n",
       "      <th>3890</th>\n",
       "      <td>3891</td>\n",
       "      <td>Chicken Makhani (Indian Butter Chicken)</td>\n",
       "      <td>main-dish</td>\n",
       "      <td>Indian Subcontinent</td>\n",
       "      <td>407.8225</td>\n",
       "      <td>27.773570</td>\n",
       "      <td>23.377060</td>\n",
       "      <td>15.61461</td>\n",
       "      <td>0</td>\n",
       "      <td>1</td>\n",
       "      <td>0</td>\n",
       "      <td>1</td>\n",
       "      <td>100</td>\n",
       "    </tr>\n",
       "  </tbody>\n",
       "</table>\n",
       "</div>"
      ],
      "text/plain": [
       "        ID                                              Title   Category  \\\n",
       "2677  2678                                   Stuffed Tomatoes  appetizer   \n",
       "5892  5893                                         Aloo Gobhi  main-dish   \n",
       "5319  5320  Tim Perry'S Soup (Creamy Curry Cauliflower And...  appetizer   \n",
       "4342  4343                                   Chicken Korma Ii  main-dish   \n",
       "3890  3891            Chicken Makhani (Indian Butter Chicken)  main-dish   \n",
       "\n",
       "                  Cuisine  Calories       Fats   Proteins  Carbohydrates  \\\n",
       "2677  Indian Subcontinent  548.0551  32.773380  28.487350       36.73273   \n",
       "5892  Indian Subcontinent  244.1541   7.679012   8.205558       40.48901   \n",
       "5319  Indian Subcontinent  348.4337  20.019760  20.725330       24.08469   \n",
       "4342  Indian Subcontinent  397.7891  27.461760  25.311290       13.44186   \n",
       "3890  Indian Subcontinent  407.8225  27.773570  23.377060       15.61461   \n",
       "\n",
       "      Breakfast  Lunch  Snacks  Dinner  Typical_serving_size  \n",
       "2677          0      1       0       1                   100  \n",
       "5892          0      1       0       1                   100  \n",
       "5319          0      1       0       1                   100  \n",
       "4342          0      1       0       1                   100  \n",
       "3890          0      1       0       1                   100  "
      ]
     },
     "execution_count": 31,
     "metadata": {},
     "output_type": "execute_result"
    }
   ],
   "source": [
    "df_recs[df_recs['Cuisine']=='Indian Subcontinent'].sample(5)"
   ]
  },
  {
   "cell_type": "code",
   "execution_count": null,
   "metadata": {},
   "outputs": [
    {
     "name": "stdout",
     "output_type": "stream",
     "text": [
      "Title:  Kulfi\n",
      "Napa Cabbage Noodle Salad\n",
      "Fudgy Chocolate Chip Muffins\n",
      "Banana Pudding Iv\n",
      "Maple Cookies\n",
      "Best Big, Fat, Chewy Chocolate Chip Cookie\n",
      "Low 'N Slow Mushroom Barley Soup\n",
      "Indonesian Fried Rice (Nasi Goreng)\n",
      "Cod Au Gratin\n",
      "Southwestern Chicken Pitas With Chipotle Sauce\n",
      "Tofu Salad\n"
     ]
    }
   ],
   "source": [
    "getSimilarW2v(2497)"
   ]
  },
  {
   "cell_type": "markdown",
   "metadata": {},
   "source": [
    "### Graph Based Approach"
   ]
  },
  {
   "cell_type": "code",
   "execution_count": null,
   "metadata": {},
   "outputs": [
    {
     "data": {
      "text/plain": [
       "110301"
      ]
     },
     "execution_count": 33,
     "metadata": {},
     "output_type": "execute_result"
    }
   ],
   "source": [
    "len(sentences)"
   ]
  },
  {
   "cell_type": "code",
   "execution_count": 130,
   "metadata": {},
   "outputs": [
    {
     "data": {
      "text/plain": [
       "([316, 326, 2212], [6721, 6226, 1496])"
      ]
     },
     "execution_count": 130,
     "metadata": {},
     "output_type": "execute_result"
    }
   ],
   "source": [
    "sentences[0],sentences[-1]"
   ]
  },
  {
   "cell_type": "code",
   "execution_count": 45,
   "metadata": {},
   "outputs": [],
   "source": [
    "def normalize(d):\n",
    "    factor=max(d.items(),key=lambda x:x[1])[1]\n",
    "    for k in d:\n",
    "        d[k]/=factor   "
   ]
  },
  {
   "cell_type": "code",
   "execution_count": 51,
   "metadata": {},
   "outputs": [],
   "source": [
    "G=nx.Graph()"
   ]
  },
  {
   "cell_type": "code",
   "execution_count": 52,
   "metadata": {},
   "outputs": [],
   "source": [
    "nodes=[i+1 for i in range(len(ids))]\n",
    "G.add_nodes_from(nodes)"
   ]
  },
  {
   "cell_type": "code",
   "execution_count": 53,
   "metadata": {},
   "outputs": [
    {
     "name": "stdout",
     "output_type": "stream",
     "text": [
      "400797\n",
      "0.02655787888087531\n",
      "13296\n"
     ]
    }
   ],
   "source": [
    "scores=defaultdict(float)\n",
    "for sent in sentences:\n",
    "    for i in range(len(sent)):\n",
    "        for j in range(len(sent)):\n",
    "            if(i!=j):\n",
    "                scores[(sent[i],sent[j])]+=1\n",
    "\n",
    "print(len(scores))\n",
    "\n",
    "normalize(scores)\n",
    "avg=math.fsum(scores.values())/len(scores)\n",
    "print(avg)\n",
    "\n",
    "edges=[]\n",
    "for sc in scores.items():\n",
    "    if sc[1]>avg*2:\n",
    "        edges.append((sc[0][0],sc[0][1],sc[1]))\n",
    "\n",
    "print(len(edges))"
   ]
  },
  {
   "cell_type": "code",
   "execution_count": 54,
   "metadata": {},
   "outputs": [],
   "source": [
    "G.add_weighted_edges_from(edges)"
   ]
  },
  {
   "cell_type": "code",
   "execution_count": 55,
   "metadata": {},
   "outputs": [
    {
     "data": {
      "text/plain": [
       "6700"
      ]
     },
     "execution_count": 55,
     "metadata": {},
     "output_type": "execute_result"
    }
   ],
   "source": [
    "len(G.edges)"
   ]
  },
  {
   "cell_type": "code",
   "execution_count": 56,
   "metadata": {},
   "outputs": [
    {
     "data": {
      "application/json": {
       "ascii": false,
       "bar_format": null,
       "colour": null,
       "elapsed": 0.027318477630615234,
       "initial": 0,
       "n": 0,
       "ncols": null,
       "nrows": null,
       "postfix": null,
       "prefix": "Computing transition probabilities",
       "rate": null,
       "total": 7280,
       "unit": "it",
       "unit_divisor": 1000,
       "unit_scale": false
      },
      "application/vnd.jupyter.widget-view+json": {
       "model_id": "028fb0ccaaea4f01b0729609a6b87faf",
       "version_major": 2,
       "version_minor": 0
      },
      "text/plain": [
       "Computing transition probabilities:   0%|          | 0/7280 [00:00<?, ?it/s]"
      ]
     },
     "metadata": {},
     "output_type": "display_data"
    }
   ],
   "source": [
    "node2vec = Node2Vec(G, dimensions=64, walk_length=5, num_walks=20, workers=4,p=1,q=0.25)"
   ]
  },
  {
   "cell_type": "code",
   "execution_count": 57,
   "metadata": {},
   "outputs": [],
   "source": [
    "model = node2vec.fit(window=10, min_count=1, batch_words=4)"
   ]
  },
  {
   "cell_type": "code",
   "execution_count": 87,
   "metadata": {},
   "outputs": [],
   "source": [
    "model.wv.save_word2vec_format(\"F:\\SHRINIVAS\\KGP\\BTP\\Meal-Planning\\models\\graph_combi.bin\",binary=True)"
   ]
  },
  {
   "cell_type": "code",
   "execution_count": 58,
   "metadata": {},
   "outputs": [],
   "source": [
    "scores=defaultdict(float)\n",
    "for sent in sentences:\n",
    "    for i in range(len(sent)):\n",
    "        for j in range(len(sent)):\n",
    "            if(i!=j):\n",
    "                scores[(sent[i],sent[j])]+=1"
   ]
  },
  {
   "cell_type": "code",
   "execution_count": 59,
   "metadata": {},
   "outputs": [],
   "source": [
    "def find(id):\n",
    "    scores=defaultdict(int)\n",
    "    for sent in sentences:\n",
    "        if id in sent:\n",
    "            for i in sent:\n",
    "                if i!=id:\n",
    "                    scores[i]+=1\n",
    "    return scores"
   ]
  },
  {
   "cell_type": "code",
   "execution_count": 72,
   "metadata": {},
   "outputs": [],
   "source": [
    "def getSimilar(id):\n",
    "    print(\"Title: \",titles[id-1])\n",
    "    sims=model.wv.similar_by_word(str(id))\n",
    "    for i in sims:\n",
    "        print(titles[int(i[0])-1],scores[(int(i[0]),id)],scores[(id,int(i[0]))],i[1])"
   ]
  },
  {
   "cell_type": "code",
   "execution_count": 82,
   "metadata": {},
   "outputs": [],
   "source": [
    "def getSimilarW2v(id):\n",
    "    print(\"Title: \",titles[id-1])\n",
    "    sims=model_w2v.wv.similar_by_word(id)\n",
    "    for i in sims:\n",
    "        print(id2title[i[0]],scores[(int(i[0]),id)],scores[(id,int(i[0]))],i[1])"
   ]
  },
  {
   "cell_type": "code",
   "execution_count": 73,
   "metadata": {},
   "outputs": [
    {
     "name": "stdout",
     "output_type": "stream",
     "text": [
      "Title:  Italian Herb Bread I\n",
      "Lemon Poppy Seed Biscotti 3.0 3.0 0.9299562573432922\n",
      "Marinated Olives 3.0 3.0 0.9257369041442871\n",
      "Buffalo Chicken Fingers 0.0 0.0 0.9154437184333801\n",
      "Antipasto Pasta Salad 0.0 0.0 0.9149659872055054\n",
      "Bocconcini Salad 0.0 0.0 0.9111578464508057\n",
      "Garlic-Ginger Chicken Wings 0.0 0.0 0.90390545129776\n",
      "Tomozzakala Salad 1.0 1.0 0.9037086963653564\n",
      "American Lasagna 0.0 0.0 0.9032275080680847\n",
      "Pizza Balls 0.0 0.0 0.9029725193977356\n",
      "Bolognese Sauce 0.0 0.0 0.9022630453109741\n"
     ]
    }
   ],
   "source": [
    "getSimilar(10)"
   ]
  },
  {
   "cell_type": "code",
   "execution_count": 83,
   "metadata": {},
   "outputs": [
    {
     "name": "stdout",
     "output_type": "stream",
     "text": [
      "Title:  Kulfi\n",
      "Chocolate Orange Truffles 0.0 0.0 0.4825442433357239\n",
      "Creamy Pumpkin Sauce 0.0 0.0 0.46662598848342896\n",
      "Stuffed Mexican Peppers 0.0 0.0 0.44891971349716187\n",
      "Chocolate Chip Kiss Cookies 0.0 0.0 0.4318309724330902\n",
      "White Wine And Mushroom Sauce 0.0 0.0 0.42909401655197144\n",
      "Caramel Apple Bars Ii 0.0 0.0 0.39895278215408325\n",
      "Artichoke Asparagus Pasta Salad 0.0 0.0 0.3724807798862457\n",
      "Buffalo Wontons 0.0 0.0 0.3668472468852997\n",
      "Italian Sausage Penne 0.0 0.0 0.3650813400745392\n",
      "Day-After-Thanksgiving Turkey Carcass Soup 0.0 0.0 0.36248132586479187\n"
     ]
    }
   ],
   "source": [
    "getSimilar(2497)"
   ]
  },
  {
   "cell_type": "markdown",
   "metadata": {},
   "source": [
    "### Comparison"
   ]
  },
  {
   "cell_type": "code",
   "execution_count": 13,
   "metadata": {},
   "outputs": [],
   "source": [
    "from gensim.models.keyedvectors import KeyedVectors"
   ]
  },
  {
   "cell_type": "code",
   "execution_count": 14,
   "metadata": {},
   "outputs": [],
   "source": [
    "graph_combi=KeyedVectors.load_word2vec_format(\"F:\\SHRINIVAS\\KGP\\BTP\\Meal-Planning\\models\\graph_combi.bin\",binary=True)\n",
    "w2v_combi=KeyedVectors.load_word2vec_format(\"F:\\SHRINIVAS\\KGP\\BTP\\Meal-Planning\\models\\w2v_combi.bin\",binary=True)"
   ]
  },
  {
   "cell_type": "code",
   "execution_count": 15,
   "metadata": {},
   "outputs": [
    {
     "data": {
      "text/plain": [
       "0.4307086"
      ]
     },
     "execution_count": 15,
     "metadata": {},
     "output_type": "execute_result"
    }
   ],
   "source": [
    "graph_combi.similarity(10,20)"
   ]
  },
  {
   "cell_type": "code",
   "execution_count": 138,
   "metadata": {},
   "outputs": [],
   "source": [
    "def getSimilar(id):\n",
    "    print(\"Title: \",titles[id-1])\n",
    "    sims=graph_combi.similar_by_word(str(id))\n",
    "    for i in sims:\n",
    "        print(titles[int(i[0])-1])##,scores[(int(i[0]),id)],scores[(id,int(i[0]))],i[1])"
   ]
  },
  {
   "cell_type": "code",
   "execution_count": 137,
   "metadata": {},
   "outputs": [],
   "source": [
    "def getSimilarW2v(id):\n",
    "    print(\"Title: \",titles[id-1])\n",
    "    sims=w2v_combi.similar_by_word(id)\n",
    "    for i in sims:\n",
    "        print(titles[int(i[0])-1])##,scores[(int(i[0]),id)],scores[(id,int(i[0]))],i[1])"
   ]
  },
  {
   "cell_type": "code",
   "execution_count": 139,
   "metadata": {},
   "outputs": [
    {
     "name": "stdout",
     "output_type": "stream",
     "text": [
      "Title:  Jar Doo Chicken Wings\n",
      "Sticky Sesame Chicken\n",
      "Best Big, Fat, Chewy Chocolate Chip Cookie\n",
      "Curry Kabobs\n",
      "Blonde Brownies I\n",
      "Cabbage Rolls Ii\n",
      "Pan-Seared T-Bone For Two With Rosemary Mustard Sauce\n",
      "Creamy Potato Leek Soup Ii\n",
      "Pressure Cooker Beef Stew\n",
      "Low 'N Slow Mushroom Barley Soup\n",
      "Mushroom, Leek, Chicken Sausage And Tortellini Soup\n"
     ]
    }
   ],
   "source": [
    "getSimilar(5423)"
   ]
  },
  {
   "cell_type": "code",
   "execution_count": 140,
   "metadata": {},
   "outputs": [
    {
     "name": "stdout",
     "output_type": "stream",
     "text": [
      "Title:  Jar Doo Chicken Wings\n",
      "Honey Mustard Grilled Chicken\n",
      "Greek Penne And Chicken\n",
      "Pumpkin Cream Cheese Muffins\n",
      "Cod Curry\n",
      "Deviled Eggs I\n",
      "Creamed Eggs On Toast\n",
      "Indonesian Spiced Rice\n",
      "Andouille And Chicken Creole Pasta\n",
      "Easiest Peanut Butter Fudge\n",
      "Peppy'S Pita Bread\n"
     ]
    }
   ],
   "source": [
    "getSimilarW2v(5423)"
   ]
  },
  {
   "cell_type": "code",
   "execution_count": 141,
   "metadata": {},
   "outputs": [
    {
     "name": "stdout",
     "output_type": "stream",
     "text": [
      "Best Big, Fat, Chewy Chocolate Chip Cookie 3\n",
      "Mushroom, Leek, Chicken Sausage And Tortellini Soup 2\n",
      "Delicious Ham And Potato Soup 2\n",
      "Christmas Pinwheel Cookies 2\n",
      "Caribbean-Spiced Roast Chicken 2\n",
      "Pumpkin And Butternut Creamed Soup 2\n",
      "Grilled Marinated Swordfish 2\n",
      "Lemon Turkey Soup 2\n",
      "French Onion Soup Xi 2\n",
      "Blueberry Crumb Bars 2\n"
     ]
    }
   ],
   "source": [
    "topK=sorted(find(5423).items(),key=lambda x:x[1],reverse=True)[:10]\n",
    "for k in topK:\n",
    "    print(titles[k[0]-1],k[1])##,k[0])"
   ]
  },
  {
   "cell_type": "code",
   "execution_count": 2,
   "metadata": {},
   "outputs": [],
   "source": [
    "import pandas as pd"
   ]
  },
  {
   "cell_type": "code",
   "execution_count": 3,
   "metadata": {},
   "outputs": [],
   "source": [
    "df_dishes=pd.read_csv(\"F:/SHRINIVAS/KGP/BTP/Meal-Planning/Data/Processed/dishes.csv\")"
   ]
  },
  {
   "cell_type": "code",
   "execution_count": 5,
   "metadata": {},
   "outputs": [],
   "source": [
    "dishes=df_dishes.to_dict('records')"
   ]
  },
  {
   "cell_type": "code",
   "execution_count": 11,
   "metadata": {},
   "outputs": [
    {
     "data": {
      "text/plain": [
       "float"
      ]
     },
     "execution_count": 11,
     "metadata": {},
     "output_type": "execute_result"
    }
   ],
   "source": [
    "type(dishes[0]['Calories'])"
   ]
  },
  {
   "cell_type": "code",
   "execution_count": 7,
   "metadata": {},
   "outputs": [],
   "source": [
    "id2dish={}\n",
    "for dish in dishes:\n",
    "    id2dish[dish['ID']]={\n",
    "        'Title': dish['Title'],\n",
    "        'Nutrition': [dish['Calories'],dish['Fats'],dish['Proteins'],dish['Carbohydrates']],\n",
    "        'Serving Size': dish['Typical_serving_size']\n",
    "    }"
   ]
  },
  {
   "cell_type": "code",
   "execution_count": 8,
   "metadata": {},
   "outputs": [
    {
     "data": {
      "text/plain": [
       "7280"
      ]
     },
     "execution_count": 8,
     "metadata": {},
     "output_type": "execute_result"
    }
   ],
   "source": [
    "len(id2dish)"
   ]
  },
  {
   "cell_type": "code",
   "execution_count": 12,
   "metadata": {},
   "outputs": [
    {
     "data": {
      "text/plain": [
       "'Hel lo'"
      ]
     },
     "execution_count": 12,
     "metadata": {},
     "output_type": "execute_result"
    }
   ],
   "source": [
    "'Hel.lo'.replace('.',' ')"
   ]
  },
  {
   "cell_type": "code",
   "execution_count": null,
   "metadata": {},
   "outputs": [],
   "source": []
  }
 ],
 "metadata": {
  "kernelspec": {
   "display_name": "Python 3.9.2 ('btp': venv)",
   "language": "python",
   "name": "python3"
  },
  "language_info": {
   "codemirror_mode": {
    "name": "ipython",
    "version": 3
   },
   "file_extension": ".py",
   "mimetype": "text/x-python",
   "name": "python",
   "nbconvert_exporter": "python",
   "pygments_lexer": "ipython3",
   "version": "3.9.2"
  },
  "orig_nbformat": 4,
  "vscode": {
   "interpreter": {
    "hash": "c4ea768e7bd77161dc23dd01a8c4395144cbd15f8f1ca8286792567cea820d95"
   }
  }
 },
 "nbformat": 4,
 "nbformat_minor": 2
}
